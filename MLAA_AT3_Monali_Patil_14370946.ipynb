{
 "cells": [
  {
   "attachments": {},
   "cell_type": "markdown",
   "metadata": {},
   "source": [
    "## 36106: Machine Learning Algorithms and Applications (MLAA)\n",
    "\n",
    "### AT3: Group Project\n",
    "\n",
    "### Group 27\n",
    "\n",
    "#### Use Case: Classification"
   ]
  },
  {
   "attachments": {},
   "cell_type": "markdown",
   "metadata": {},
   "source": [
    "### 1. Business Understanding\n",
    "\n",
    "The project involves working with a bank transactional data and its customers data collected by the bank for the past three years.  One of the use cases for classification requires developing a machine learning model that can effectively analyse transactional data and accurately identify fraudulent transactions.\n",
    "\n",
    "The following activitives are performed as part of the Classification Use Case.\n",
    "\n",
    "1. Business Understanding\n",
    "\n",
    "2. Data Understanding\n",
    "\n",
    "        2.1] Loading Data\n",
    "        2.2] Exploring Data\n",
    "        2.3] Combining the Bank Transactions and Customers Data\n",
    "\n",
    "3. Data Preparation\n",
    "\n",
    "        3.1] Featuring Engineering\n",
    "                - Extracting transaction's date related information \n",
    "                - Calculating the distance i.e. how far the transaction occurred from the customer's resident\n",
    "                - Calculating age of the customers\n",
    "        3.2] Features Selection\n",
    "                - Checking the distribution of values of the numerical features\n",
    "                - Checking outliers in the numerical features\n",
    "                - Checking unique values of the categorical features\n",
    "                - Selecting features\n",
    "        3.3] Transforming Categorical Data into Numerical\n",
    "                - Transforming 'job' and 'merchant' using Indexing(LabelEncoder)\n",
    "                - Transforming 'category' using OneHot Encoding\n",
    "                - Transforming data type of target 'is_fraud' variable\n",
    "        3.4] Splitting Data into Different Sets\n",
    "                - Checking the frequency rates of classes of the target variable from the Original dataset\n",
    "                - Splitting the bank dataset into data - 80% and testing - 20%\n",
    "                - Performing undersampling on the data set\n",
    "                - Splitting the sampled dataset into training - 80% and validation - 20%\n",
    "        3.5] Features Scaling\n",
    "\n",
    "4. Modeling\n",
    "\n",
    "        4.1] Assessing Baseline Performance\n",
    "        4.2] Training Classification Models\n",
    "                - XGBoost (eXtreme Gradient Boosting)\n",
    "                - Random Forest\n",
    "                - Random Forest with Important Features\n",
    "                - MLPClassifier Neural Networks\n",
    "\n",
    "5. Model Evaluation\n",
    "\n",
    "        5.1] Analysing Model Performance\n",
    "    \n",
    "6. Deployment Suggestion"
   ]
  },
  {
   "cell_type": "code",
   "execution_count": 1891,
   "metadata": {},
   "outputs": [],
   "source": [
    "# Importing Python and other required packages\n",
    "import pandas as pd\n",
    "import numpy as np\n",
    "import os\n",
    "import glob\n",
    "import datetime\n",
    "from math import radians, sin, cos, sqrt, atan2\n",
    "from scipy.stats import uniform, randint\n",
    "\n",
    "# Importing SKLearn and other packages required for the classification \n",
    "from sklearn.preprocessing import LabelEncoder, OneHotEncoder, StandardScaler\n",
    "from sklearn.model_selection import RandomizedSearchCV, StratifiedKFold, train_test_split\n",
    "from sklearn.metrics import accuracy_score, precision_score, recall_score, f1_score, confusion_matrix, ConfusionMatrixDisplay\n",
    "import xgboost as xgb\n",
    "from sklearn.ensemble import RandomForestClassifier\n",
    "from sklearn.neural_network import MLPClassifier\n",
    "\n",
    "# Importing required Data Visualization packages\n",
    "import altair as alt\n",
    "import seaborn as sns\n",
    "import matplotlib.pyplot as plt"
   ]
  },
  {
   "attachments": {},
   "cell_type": "markdown",
   "metadata": {},
   "source": [
    "### 2. Data Understanding\n",
    "\n",
    "#### 2.1] Loading data"
   ]
  },
  {
   "attachments": {},
   "cell_type": "markdown",
   "metadata": {},
   "source": [
    "**• Loading bank transactions details**"
   ]
  },
  {
   "cell_type": "code",
   "execution_count": 1892,
   "metadata": {},
   "outputs": [],
   "source": [
    "# Get a list of all CSV files from the current directory path\n",
    "transaction_files = glob.glob(os.path.join('/Users/monalipatil/Monali/MDSI-Semester1/Machine Learning Algorithms and Applications/Assignment3/final/transactions*.csv'))\n",
    "\n",
    "# Defining the dataframe to store all the transactions data\n",
    "df_transactions = pd.DataFrame()\n",
    "\n",
    "# Iterating over each CSV file\n",
    "for filename in transaction_files:\n",
    "    try:\n",
    "        # Reading the CSV file into a dataframe\n",
    "        df_transaction_file = pd.read_csv(filename, delimiter='|')\n",
    "        df_transactions = pd.concat([df_transactions, df_transaction_file], ignore_index=True)\n",
    "    except pd.errors.ParserError:\n",
    "        print(f'Error parsing file: {filename}')\n",
    "        continue"
   ]
  },
  {
   "cell_type": "code",
   "execution_count": 1893,
   "metadata": {},
   "outputs": [
    {
     "data": {
      "text/html": [
       "<div>\n",
       "<style scoped>\n",
       "    .dataframe tbody tr th:only-of-type {\n",
       "        vertical-align: middle;\n",
       "    }\n",
       "\n",
       "    .dataframe tbody tr th {\n",
       "        vertical-align: top;\n",
       "    }\n",
       "\n",
       "    .dataframe thead th {\n",
       "        text-align: right;\n",
       "    }\n",
       "</style>\n",
       "<table border=\"1\" class=\"dataframe\">\n",
       "  <thead>\n",
       "    <tr style=\"text-align: right;\">\n",
       "      <th></th>\n",
       "      <th>cc_num</th>\n",
       "      <th>acct_num</th>\n",
       "      <th>trans_num</th>\n",
       "      <th>unix_time</th>\n",
       "      <th>category</th>\n",
       "      <th>amt</th>\n",
       "      <th>is_fraud</th>\n",
       "      <th>merchant</th>\n",
       "      <th>merch_lat</th>\n",
       "      <th>merch_long</th>\n",
       "    </tr>\n",
       "  </thead>\n",
       "  <tbody>\n",
       "    <tr>\n",
       "      <th>0</th>\n",
       "      <td>4896331812335761701</td>\n",
       "      <td>149852234418</td>\n",
       "      <td>f3ec0819590302134f03ffdc2f44697f</td>\n",
       "      <td>1646060228</td>\n",
       "      <td>gas_transport</td>\n",
       "      <td>65.17</td>\n",
       "      <td>0</td>\n",
       "      <td>Larson, Ryan and Huang</td>\n",
       "      <td>38.143430</td>\n",
       "      <td>-90.327335</td>\n",
       "    </tr>\n",
       "    <tr>\n",
       "      <th>1</th>\n",
       "      <td>4896331812335761701</td>\n",
       "      <td>149852234418</td>\n",
       "      <td>c1607c993e41f2c3b42d72d1506bef7b</td>\n",
       "      <td>1644848624</td>\n",
       "      <td>gas_transport</td>\n",
       "      <td>47.58</td>\n",
       "      <td>0</td>\n",
       "      <td>Myers-Reed</td>\n",
       "      <td>39.119498</td>\n",
       "      <td>-90.760379</td>\n",
       "    </tr>\n",
       "    <tr>\n",
       "      <th>2</th>\n",
       "      <td>4896331812335761701</td>\n",
       "      <td>149852234418</td>\n",
       "      <td>6f530db25d20fe351249a54491fd3fde</td>\n",
       "      <td>1645632153</td>\n",
       "      <td>gas_transport</td>\n",
       "      <td>64.43</td>\n",
       "      <td>0</td>\n",
       "      <td>Baker-Bullock</td>\n",
       "      <td>39.384368</td>\n",
       "      <td>-90.361517</td>\n",
       "    </tr>\n",
       "  </tbody>\n",
       "</table>\n",
       "</div>"
      ],
      "text/plain": [
       "                cc_num      acct_num                         trans_num  \\\n",
       "0  4896331812335761701  149852234418  f3ec0819590302134f03ffdc2f44697f   \n",
       "1  4896331812335761701  149852234418  c1607c993e41f2c3b42d72d1506bef7b   \n",
       "2  4896331812335761701  149852234418  6f530db25d20fe351249a54491fd3fde   \n",
       "\n",
       "    unix_time       category    amt is_fraud                merchant  \\\n",
       "0  1646060228  gas_transport  65.17        0  Larson, Ryan and Huang   \n",
       "1  1644848624  gas_transport  47.58        0              Myers-Reed   \n",
       "2  1645632153  gas_transport  64.43        0           Baker-Bullock   \n",
       "\n",
       "   merch_lat  merch_long  \n",
       "0  38.143430  -90.327335  \n",
       "1  39.119498  -90.760379  \n",
       "2  39.384368  -90.361517  "
      ]
     },
     "execution_count": 1893,
     "metadata": {},
     "output_type": "execute_result"
    }
   ],
   "source": [
    "# Checking initial records of the transaction dataset\n",
    "df_transactions.head(3)"
   ]
  },
  {
   "attachments": {},
   "cell_type": "markdown",
   "metadata": {},
   "source": [
    "**•  Loading bank customers details**"
   ]
  },
  {
   "cell_type": "code",
   "execution_count": 1894,
   "metadata": {},
   "outputs": [],
   "source": [
    "# Reading customers details\n",
    "df_customers = pd.read_csv('/Users/monalipatil/Monali/MDSI-Semester1/Machine Learning Algorithms and Applications/Assignment3/final/customers.csv', delimiter='|')"
   ]
  },
  {
   "cell_type": "code",
   "execution_count": 1895,
   "metadata": {},
   "outputs": [
    {
     "data": {
      "text/html": [
       "<div>\n",
       "<style scoped>\n",
       "    .dataframe tbody tr th:only-of-type {\n",
       "        vertical-align: middle;\n",
       "    }\n",
       "\n",
       "    .dataframe tbody tr th {\n",
       "        vertical-align: top;\n",
       "    }\n",
       "\n",
       "    .dataframe thead th {\n",
       "        text-align: right;\n",
       "    }\n",
       "</style>\n",
       "<table border=\"1\" class=\"dataframe\">\n",
       "  <thead>\n",
       "    <tr style=\"text-align: right;\">\n",
       "      <th></th>\n",
       "      <th>ssn</th>\n",
       "      <th>cc_num</th>\n",
       "      <th>first</th>\n",
       "      <th>last</th>\n",
       "      <th>gender</th>\n",
       "      <th>street</th>\n",
       "      <th>city</th>\n",
       "      <th>state</th>\n",
       "      <th>zip</th>\n",
       "      <th>lat</th>\n",
       "      <th>long</th>\n",
       "      <th>city_pop</th>\n",
       "      <th>job</th>\n",
       "      <th>dob</th>\n",
       "      <th>acct_num</th>\n",
       "    </tr>\n",
       "  </thead>\n",
       "  <tbody>\n",
       "    <tr>\n",
       "      <th>0</th>\n",
       "      <td>115-04-4507</td>\n",
       "      <td>4218196001337</td>\n",
       "      <td>Jonathan</td>\n",
       "      <td>Johnson</td>\n",
       "      <td>M</td>\n",
       "      <td>863 Lawrence Valleys</td>\n",
       "      <td>Ambler</td>\n",
       "      <td>PA</td>\n",
       "      <td>19002</td>\n",
       "      <td>40.1809</td>\n",
       "      <td>-75.2156</td>\n",
       "      <td>32412</td>\n",
       "      <td>Accounting technician</td>\n",
       "      <td>1959-10-03</td>\n",
       "      <td>888022315787</td>\n",
       "    </tr>\n",
       "    <tr>\n",
       "      <th>1</th>\n",
       "      <td>715-55-5575</td>\n",
       "      <td>4351161559407816183</td>\n",
       "      <td>Elaine</td>\n",
       "      <td>Fuller</td>\n",
       "      <td>F</td>\n",
       "      <td>310 Kendra Common Apt. 164</td>\n",
       "      <td>Leland</td>\n",
       "      <td>NC</td>\n",
       "      <td>28451</td>\n",
       "      <td>34.2680</td>\n",
       "      <td>-78.0578</td>\n",
       "      <td>27112</td>\n",
       "      <td>Professor Emeritus</td>\n",
       "      <td>1963-06-07</td>\n",
       "      <td>917558277935</td>\n",
       "    </tr>\n",
       "    <tr>\n",
       "      <th>2</th>\n",
       "      <td>167-48-5821</td>\n",
       "      <td>4192832764832</td>\n",
       "      <td>Michael</td>\n",
       "      <td>Cameron</td>\n",
       "      <td>M</td>\n",
       "      <td>05641 Robin Port</td>\n",
       "      <td>Cordova</td>\n",
       "      <td>SC</td>\n",
       "      <td>29039</td>\n",
       "      <td>33.4275</td>\n",
       "      <td>-80.8857</td>\n",
       "      <td>4215</td>\n",
       "      <td>International aid/development worker</td>\n",
       "      <td>1973-05-30</td>\n",
       "      <td>718172762479</td>\n",
       "    </tr>\n",
       "  </tbody>\n",
       "</table>\n",
       "</div>"
      ],
      "text/plain": [
       "           ssn               cc_num     first     last gender  \\\n",
       "0  115-04-4507        4218196001337  Jonathan  Johnson      M   \n",
       "1  715-55-5575  4351161559407816183    Elaine   Fuller      F   \n",
       "2  167-48-5821        4192832764832   Michael  Cameron      M   \n",
       "\n",
       "                       street     city state    zip      lat     long  \\\n",
       "0        863 Lawrence Valleys   Ambler    PA  19002  40.1809 -75.2156   \n",
       "1  310 Kendra Common Apt. 164   Leland    NC  28451  34.2680 -78.0578   \n",
       "2            05641 Robin Port  Cordova    SC  29039  33.4275 -80.8857   \n",
       "\n",
       "   city_pop                                   job         dob      acct_num  \n",
       "0     32412                 Accounting technician  1959-10-03  888022315787  \n",
       "1     27112                    Professor Emeritus  1963-06-07  917558277935  \n",
       "2      4215  International aid/development worker  1973-05-30  718172762479  "
      ]
     },
     "execution_count": 1895,
     "metadata": {},
     "output_type": "execute_result"
    }
   ],
   "source": [
    "# Checking initial records of the customer dataset\n",
    "df_customers.head(3)"
   ]
  },
  {
   "attachments": {},
   "cell_type": "markdown",
   "metadata": {},
   "source": [
    "#### 2.2] Exploring data"
   ]
  },
  {
   "attachments": {},
   "cell_type": "markdown",
   "metadata": {},
   "source": [
    "• Checking dimension of the datasets"
   ]
  },
  {
   "cell_type": "code",
   "execution_count": 1896,
   "metadata": {},
   "outputs": [
    {
     "name": "stdout",
     "output_type": "stream",
     "text": [
      "Transactions: (4260904, 10)\n",
      "Customers: (1000, 15)\n"
     ]
    }
   ],
   "source": [
    "# Checking the size of the datasets\n",
    "print('Transactions:', df_transactions.shape)\n",
    "print('Customers:', df_customers.shape)"
   ]
  },
  {
   "attachments": {},
   "cell_type": "markdown",
   "metadata": {},
   "source": [
    "• Checking column names"
   ]
  },
  {
   "cell_type": "code",
   "execution_count": 1897,
   "metadata": {},
   "outputs": [
    {
     "name": "stdout",
     "output_type": "stream",
     "text": [
      "Transactions: Index(['cc_num', 'acct_num', 'trans_num', 'unix_time', 'category', 'amt',\n",
      "       'is_fraud', 'merchant', 'merch_lat', 'merch_long'],\n",
      "      dtype='object')\n",
      "Customers: Index(['ssn', 'cc_num', 'first', 'last', 'gender', 'street', 'city', 'state',\n",
      "       'zip', 'lat', 'long', 'city_pop', 'job', 'dob', 'acct_num'],\n",
      "      dtype='object')\n"
     ]
    }
   ],
   "source": [
    "# Checking the column names of the datasets\n",
    "print('Transactions:', df_transactions.columns)\n",
    "print('Customers:', df_customers.columns)"
   ]
  },
  {
   "attachments": {},
   "cell_type": "markdown",
   "metadata": {},
   "source": [
    "• Describing summary information of the datasets"
   ]
  },
  {
   "cell_type": "code",
   "execution_count": 1898,
   "metadata": {},
   "outputs": [
    {
     "name": "stdout",
     "output_type": "stream",
     "text": [
      "<class 'pandas.core.frame.DataFrame'>\n",
      "RangeIndex: 4260904 entries, 0 to 4260903\n",
      "Data columns (total 10 columns):\n",
      " #   Column      Dtype  \n",
      "---  ------      -----  \n",
      " 0   cc_num      object \n",
      " 1   acct_num    object \n",
      " 2   trans_num   object \n",
      " 3   unix_time   object \n",
      " 4   category    object \n",
      " 5   amt         float64\n",
      " 6   is_fraud    object \n",
      " 7   merchant    object \n",
      " 8   merch_lat   float64\n",
      " 9   merch_long  float64\n",
      "dtypes: float64(3), object(7)\n",
      "memory usage: 325.1+ MB\n"
     ]
    }
   ],
   "source": [
    "# Checking summary information of the transaction dataset\n",
    "df_transactions.info()"
   ]
  },
  {
   "attachments": {},
   "cell_type": "markdown",
   "metadata": {},
   "source": [
    "The above transactions summary information indicates that among the features, three are numerical while the remaining are categorical. Also the target variable, 'is_fraud' is categorical in nature."
   ]
  },
  {
   "cell_type": "code",
   "execution_count": 1899,
   "metadata": {},
   "outputs": [
    {
     "name": "stdout",
     "output_type": "stream",
     "text": [
      "<class 'pandas.core.frame.DataFrame'>\n",
      "RangeIndex: 1000 entries, 0 to 999\n",
      "Data columns (total 15 columns):\n",
      " #   Column    Non-Null Count  Dtype  \n",
      "---  ------    --------------  -----  \n",
      " 0   ssn       1000 non-null   object \n",
      " 1   cc_num    1000 non-null   int64  \n",
      " 2   first     1000 non-null   object \n",
      " 3   last      1000 non-null   object \n",
      " 4   gender    1000 non-null   object \n",
      " 5   street    1000 non-null   object \n",
      " 6   city      1000 non-null   object \n",
      " 7   state     1000 non-null   object \n",
      " 8   zip       1000 non-null   int64  \n",
      " 9   lat       1000 non-null   float64\n",
      " 10  long      1000 non-null   float64\n",
      " 11  city_pop  1000 non-null   int64  \n",
      " 12  job       1000 non-null   object \n",
      " 13  dob       1000 non-null   object \n",
      " 14  acct_num  1000 non-null   int64  \n",
      "dtypes: float64(2), int64(4), object(9)\n",
      "memory usage: 117.3+ KB\n"
     ]
    }
   ],
   "source": [
    "# Checking summary information of the customer dataset\n",
    "df_customers.info()"
   ]
  },
  {
   "attachments": {},
   "cell_type": "markdown",
   "metadata": {},
   "source": [
    "The above customers summary information indicates that among the features in the dataset, six are of numerical type while the rest are categorical. And, it highlights that there are no null values present in the dataset."
   ]
  },
  {
   "attachments": {},
   "cell_type": "markdown",
   "metadata": {},
   "source": [
    "• Checking summary statistics of the datasets"
   ]
  },
  {
   "cell_type": "code",
   "execution_count": 1900,
   "metadata": {},
   "outputs": [
    {
     "data": {
      "text/html": [
       "<div>\n",
       "<style scoped>\n",
       "    .dataframe tbody tr th:only-of-type {\n",
       "        vertical-align: middle;\n",
       "    }\n",
       "\n",
       "    .dataframe tbody tr th {\n",
       "        vertical-align: top;\n",
       "    }\n",
       "\n",
       "    .dataframe thead th {\n",
       "        text-align: right;\n",
       "    }\n",
       "</style>\n",
       "<table border=\"1\" class=\"dataframe\">\n",
       "  <thead>\n",
       "    <tr style=\"text-align: right;\">\n",
       "      <th></th>\n",
       "      <th>cc_num</th>\n",
       "      <th>acct_num</th>\n",
       "      <th>trans_num</th>\n",
       "      <th>unix_time</th>\n",
       "      <th>category</th>\n",
       "      <th>amt</th>\n",
       "      <th>is_fraud</th>\n",
       "      <th>merchant</th>\n",
       "      <th>merch_lat</th>\n",
       "      <th>merch_long</th>\n",
       "    </tr>\n",
       "  </thead>\n",
       "  <tbody>\n",
       "    <tr>\n",
       "      <th>count</th>\n",
       "      <td>4.260904e+06</td>\n",
       "      <td>4.260904e+06</td>\n",
       "      <td>4260904</td>\n",
       "      <td>4.260904e+06</td>\n",
       "      <td>4260904</td>\n",
       "      <td>4.260904e+06</td>\n",
       "      <td>4260904.0</td>\n",
       "      <td>4260904</td>\n",
       "      <td>4.260904e+06</td>\n",
       "      <td>4.260904e+06</td>\n",
       "    </tr>\n",
       "    <tr>\n",
       "      <th>unique</th>\n",
       "      <td>9.830000e+02</td>\n",
       "      <td>9.830000e+02</td>\n",
       "      <td>4260904</td>\n",
       "      <td>4.114752e+06</td>\n",
       "      <td>14</td>\n",
       "      <td>NaN</td>\n",
       "      <td>2.0</td>\n",
       "      <td>21977</td>\n",
       "      <td>NaN</td>\n",
       "      <td>NaN</td>\n",
       "    </tr>\n",
       "    <tr>\n",
       "      <th>top</th>\n",
       "      <td>3.472085e+14</td>\n",
       "      <td>1.154613e+10</td>\n",
       "      <td>f3ec0819590302134f03ffdc2f44697f</td>\n",
       "      <td>1.670148e+09</td>\n",
       "      <td>shopping_pos</td>\n",
       "      <td>NaN</td>\n",
       "      <td>0.0</td>\n",
       "      <td>Smith PLC</td>\n",
       "      <td>NaN</td>\n",
       "      <td>NaN</td>\n",
       "    </tr>\n",
       "    <tr>\n",
       "      <th>freq</th>\n",
       "      <td>1.091200e+04</td>\n",
       "      <td>1.091200e+04</td>\n",
       "      <td>1</td>\n",
       "      <td>5.000000e+00</td>\n",
       "      <td>420268</td>\n",
       "      <td>NaN</td>\n",
       "      <td>4255870.0</td>\n",
       "      <td>5737</td>\n",
       "      <td>NaN</td>\n",
       "      <td>NaN</td>\n",
       "    </tr>\n",
       "    <tr>\n",
       "      <th>mean</th>\n",
       "      <td>NaN</td>\n",
       "      <td>NaN</td>\n",
       "      <td>NaN</td>\n",
       "      <td>NaN</td>\n",
       "      <td>NaN</td>\n",
       "      <td>6.898790e+01</td>\n",
       "      <td>NaN</td>\n",
       "      <td>NaN</td>\n",
       "      <td>3.735276e+01</td>\n",
       "      <td>-9.247610e+01</td>\n",
       "    </tr>\n",
       "    <tr>\n",
       "      <th>std</th>\n",
       "      <td>NaN</td>\n",
       "      <td>NaN</td>\n",
       "      <td>NaN</td>\n",
       "      <td>NaN</td>\n",
       "      <td>NaN</td>\n",
       "      <td>1.618467e+02</td>\n",
       "      <td>NaN</td>\n",
       "      <td>NaN</td>\n",
       "      <td>5.504630e+00</td>\n",
       "      <td>1.741603e+01</td>\n",
       "    </tr>\n",
       "    <tr>\n",
       "      <th>min</th>\n",
       "      <td>NaN</td>\n",
       "      <td>NaN</td>\n",
       "      <td>NaN</td>\n",
       "      <td>NaN</td>\n",
       "      <td>NaN</td>\n",
       "      <td>1.000000e+00</td>\n",
       "      <td>NaN</td>\n",
       "      <td>NaN</td>\n",
       "      <td>1.859001e+01</td>\n",
       "      <td>-1.603677e+02</td>\n",
       "    </tr>\n",
       "    <tr>\n",
       "      <th>25%</th>\n",
       "      <td>NaN</td>\n",
       "      <td>NaN</td>\n",
       "      <td>NaN</td>\n",
       "      <td>NaN</td>\n",
       "      <td>NaN</td>\n",
       "      <td>9.100000e+00</td>\n",
       "      <td>NaN</td>\n",
       "      <td>NaN</td>\n",
       "      <td>3.370138e+01</td>\n",
       "      <td>-9.903072e+01</td>\n",
       "    </tr>\n",
       "    <tr>\n",
       "      <th>50%</th>\n",
       "      <td>NaN</td>\n",
       "      <td>NaN</td>\n",
       "      <td>NaN</td>\n",
       "      <td>NaN</td>\n",
       "      <td>NaN</td>\n",
       "      <td>4.449000e+01</td>\n",
       "      <td>NaN</td>\n",
       "      <td>NaN</td>\n",
       "      <td>3.819365e+01</td>\n",
       "      <td>-8.727445e+01</td>\n",
       "    </tr>\n",
       "    <tr>\n",
       "      <th>75%</th>\n",
       "      <td>NaN</td>\n",
       "      <td>NaN</td>\n",
       "      <td>NaN</td>\n",
       "      <td>NaN</td>\n",
       "      <td>NaN</td>\n",
       "      <td>8.158000e+01</td>\n",
       "      <td>NaN</td>\n",
       "      <td>NaN</td>\n",
       "      <td>4.120567e+01</td>\n",
       "      <td>-7.966098e+01</td>\n",
       "    </tr>\n",
       "    <tr>\n",
       "      <th>max</th>\n",
       "      <td>NaN</td>\n",
       "      <td>NaN</td>\n",
       "      <td>NaN</td>\n",
       "      <td>NaN</td>\n",
       "      <td>NaN</td>\n",
       "      <td>4.130053e+04</td>\n",
       "      <td>NaN</td>\n",
       "      <td>NaN</td>\n",
       "      <td>6.577610e+01</td>\n",
       "      <td>-6.724632e+01</td>\n",
       "    </tr>\n",
       "  </tbody>\n",
       "</table>\n",
       "</div>"
      ],
      "text/plain": [
       "              cc_num      acct_num                         trans_num  \\\n",
       "count   4.260904e+06  4.260904e+06                           4260904   \n",
       "unique  9.830000e+02  9.830000e+02                           4260904   \n",
       "top     3.472085e+14  1.154613e+10  f3ec0819590302134f03ffdc2f44697f   \n",
       "freq    1.091200e+04  1.091200e+04                                 1   \n",
       "mean             NaN           NaN                               NaN   \n",
       "std              NaN           NaN                               NaN   \n",
       "min              NaN           NaN                               NaN   \n",
       "25%              NaN           NaN                               NaN   \n",
       "50%              NaN           NaN                               NaN   \n",
       "75%              NaN           NaN                               NaN   \n",
       "max              NaN           NaN                               NaN   \n",
       "\n",
       "           unix_time      category           amt   is_fraud   merchant  \\\n",
       "count   4.260904e+06       4260904  4.260904e+06  4260904.0    4260904   \n",
       "unique  4.114752e+06            14           NaN        2.0      21977   \n",
       "top     1.670148e+09  shopping_pos           NaN        0.0  Smith PLC   \n",
       "freq    5.000000e+00        420268           NaN  4255870.0       5737   \n",
       "mean             NaN           NaN  6.898790e+01        NaN        NaN   \n",
       "std              NaN           NaN  1.618467e+02        NaN        NaN   \n",
       "min              NaN           NaN  1.000000e+00        NaN        NaN   \n",
       "25%              NaN           NaN  9.100000e+00        NaN        NaN   \n",
       "50%              NaN           NaN  4.449000e+01        NaN        NaN   \n",
       "75%              NaN           NaN  8.158000e+01        NaN        NaN   \n",
       "max              NaN           NaN  4.130053e+04        NaN        NaN   \n",
       "\n",
       "           merch_lat    merch_long  \n",
       "count   4.260904e+06  4.260904e+06  \n",
       "unique           NaN           NaN  \n",
       "top              NaN           NaN  \n",
       "freq             NaN           NaN  \n",
       "mean    3.735276e+01 -9.247610e+01  \n",
       "std     5.504630e+00  1.741603e+01  \n",
       "min     1.859001e+01 -1.603677e+02  \n",
       "25%     3.370138e+01 -9.903072e+01  \n",
       "50%     3.819365e+01 -8.727445e+01  \n",
       "75%     4.120567e+01 -7.966098e+01  \n",
       "max     6.577610e+01 -6.724632e+01  "
      ]
     },
     "execution_count": 1900,
     "metadata": {},
     "output_type": "execute_result"
    }
   ],
   "source": [
    "# Checking statistics of the transaction dataset\n",
    "df_transactions.describe(include='all')"
   ]
  },
  {
   "attachments": {},
   "cell_type": "markdown",
   "metadata": {},
   "source": [
    "The above result indicates that cc_num, acct_num, and trans_num, which represent credit card number, account number, and transaction number respectively, are unique identifiers and to enable model to learn generalized patterns, it is important to eliminate these identifier features."
   ]
  },
  {
   "cell_type": "code",
   "execution_count": 1901,
   "metadata": {},
   "outputs": [
    {
     "data": {
      "text/html": [
       "<div>\n",
       "<style scoped>\n",
       "    .dataframe tbody tr th:only-of-type {\n",
       "        vertical-align: middle;\n",
       "    }\n",
       "\n",
       "    .dataframe tbody tr th {\n",
       "        vertical-align: top;\n",
       "    }\n",
       "\n",
       "    .dataframe thead th {\n",
       "        text-align: right;\n",
       "    }\n",
       "</style>\n",
       "<table border=\"1\" class=\"dataframe\">\n",
       "  <thead>\n",
       "    <tr style=\"text-align: right;\">\n",
       "      <th></th>\n",
       "      <th>ssn</th>\n",
       "      <th>cc_num</th>\n",
       "      <th>first</th>\n",
       "      <th>last</th>\n",
       "      <th>gender</th>\n",
       "      <th>street</th>\n",
       "      <th>city</th>\n",
       "      <th>state</th>\n",
       "      <th>zip</th>\n",
       "      <th>lat</th>\n",
       "      <th>long</th>\n",
       "      <th>city_pop</th>\n",
       "      <th>job</th>\n",
       "      <th>dob</th>\n",
       "      <th>acct_num</th>\n",
       "    </tr>\n",
       "  </thead>\n",
       "  <tbody>\n",
       "    <tr>\n",
       "      <th>count</th>\n",
       "      <td>1000</td>\n",
       "      <td>1.000000e+03</td>\n",
       "      <td>1000</td>\n",
       "      <td>1000</td>\n",
       "      <td>1000</td>\n",
       "      <td>1000</td>\n",
       "      <td>1000</td>\n",
       "      <td>1000</td>\n",
       "      <td>1000.00000</td>\n",
       "      <td>1000.000000</td>\n",
       "      <td>1000.000000</td>\n",
       "      <td>1.000000e+03</td>\n",
       "      <td>1000</td>\n",
       "      <td>1000</td>\n",
       "      <td>1.000000e+03</td>\n",
       "    </tr>\n",
       "    <tr>\n",
       "      <th>unique</th>\n",
       "      <td>1000</td>\n",
       "      <td>NaN</td>\n",
       "      <td>367</td>\n",
       "      <td>487</td>\n",
       "      <td>2</td>\n",
       "      <td>1000</td>\n",
       "      <td>736</td>\n",
       "      <td>51</td>\n",
       "      <td>NaN</td>\n",
       "      <td>NaN</td>\n",
       "      <td>NaN</td>\n",
       "      <td>NaN</td>\n",
       "      <td>507</td>\n",
       "      <td>978</td>\n",
       "      <td>NaN</td>\n",
       "    </tr>\n",
       "    <tr>\n",
       "      <th>top</th>\n",
       "      <td>115-04-4507</td>\n",
       "      <td>NaN</td>\n",
       "      <td>Michael</td>\n",
       "      <td>Williams</td>\n",
       "      <td>F</td>\n",
       "      <td>863 Lawrence Valleys</td>\n",
       "      <td>Brooklyn</td>\n",
       "      <td>CA</td>\n",
       "      <td>NaN</td>\n",
       "      <td>NaN</td>\n",
       "      <td>NaN</td>\n",
       "      <td>NaN</td>\n",
       "      <td>Computer games developer</td>\n",
       "      <td>1962-11-16</td>\n",
       "      <td>NaN</td>\n",
       "    </tr>\n",
       "    <tr>\n",
       "      <th>freq</th>\n",
       "      <td>1</td>\n",
       "      <td>NaN</td>\n",
       "      <td>25</td>\n",
       "      <td>24</td>\n",
       "      <td>512</td>\n",
       "      <td>1</td>\n",
       "      <td>13</td>\n",
       "      <td>107</td>\n",
       "      <td>NaN</td>\n",
       "      <td>NaN</td>\n",
       "      <td>NaN</td>\n",
       "      <td>NaN</td>\n",
       "      <td>7</td>\n",
       "      <td>2</td>\n",
       "      <td>NaN</td>\n",
       "    </tr>\n",
       "    <tr>\n",
       "      <th>mean</th>\n",
       "      <td>NaN</td>\n",
       "      <td>3.656964e+17</td>\n",
       "      <td>NaN</td>\n",
       "      <td>NaN</td>\n",
       "      <td>NaN</td>\n",
       "      <td>NaN</td>\n",
       "      <td>NaN</td>\n",
       "      <td>NaN</td>\n",
       "      <td>51786.20900</td>\n",
       "      <td>37.422795</td>\n",
       "      <td>-92.505277</td>\n",
       "      <td>2.867058e+05</td>\n",
       "      <td>NaN</td>\n",
       "      <td>NaN</td>\n",
       "      <td>4.995849e+11</td>\n",
       "    </tr>\n",
       "    <tr>\n",
       "      <th>std</th>\n",
       "      <td>NaN</td>\n",
       "      <td>1.227337e+18</td>\n",
       "      <td>NaN</td>\n",
       "      <td>NaN</td>\n",
       "      <td>NaN</td>\n",
       "      <td>NaN</td>\n",
       "      <td>NaN</td>\n",
       "      <td>NaN</td>\n",
       "      <td>29933.13195</td>\n",
       "      <td>5.574397</td>\n",
       "      <td>17.510134</td>\n",
       "      <td>5.329632e+05</td>\n",
       "      <td>NaN</td>\n",
       "      <td>NaN</td>\n",
       "      <td>2.894933e+11</td>\n",
       "    </tr>\n",
       "    <tr>\n",
       "      <th>min</th>\n",
       "      <td>NaN</td>\n",
       "      <td>6.040027e+10</td>\n",
       "      <td>NaN</td>\n",
       "      <td>NaN</td>\n",
       "      <td>NaN</td>\n",
       "      <td>NaN</td>\n",
       "      <td>NaN</td>\n",
       "      <td>NaN</td>\n",
       "      <td>1571.00000</td>\n",
       "      <td>19.589300</td>\n",
       "      <td>-159.368300</td>\n",
       "      <td>1.050000e+02</td>\n",
       "      <td>NaN</td>\n",
       "      <td>NaN</td>\n",
       "      <td>2.348758e+09</td>\n",
       "    </tr>\n",
       "    <tr>\n",
       "      <th>25%</th>\n",
       "      <td>NaN</td>\n",
       "      <td>1.800353e+14</td>\n",
       "      <td>NaN</td>\n",
       "      <td>NaN</td>\n",
       "      <td>NaN</td>\n",
       "      <td>NaN</td>\n",
       "      <td>NaN</td>\n",
       "      <td>NaN</td>\n",
       "      <td>27528.25000</td>\n",
       "      <td>33.712500</td>\n",
       "      <td>-99.159475</td>\n",
       "      <td>2.022950e+04</td>\n",
       "      <td>NaN</td>\n",
       "      <td>NaN</td>\n",
       "      <td>2.620636e+11</td>\n",
       "    </tr>\n",
       "    <tr>\n",
       "      <th>50%</th>\n",
       "      <td>NaN</td>\n",
       "      <td>3.517359e+15</td>\n",
       "      <td>NaN</td>\n",
       "      <td>NaN</td>\n",
       "      <td>NaN</td>\n",
       "      <td>NaN</td>\n",
       "      <td>NaN</td>\n",
       "      <td>NaN</td>\n",
       "      <td>49016.00000</td>\n",
       "      <td>38.431750</td>\n",
       "      <td>-87.156600</td>\n",
       "      <td>6.728250e+04</td>\n",
       "      <td>NaN</td>\n",
       "      <td>NaN</td>\n",
       "      <td>4.915295e+11</td>\n",
       "    </tr>\n",
       "    <tr>\n",
       "      <th>75%</th>\n",
       "      <td>NaN</td>\n",
       "      <td>4.538733e+15</td>\n",
       "      <td>NaN</td>\n",
       "      <td>NaN</td>\n",
       "      <td>NaN</td>\n",
       "      <td>NaN</td>\n",
       "      <td>NaN</td>\n",
       "      <td>NaN</td>\n",
       "      <td>78599.00000</td>\n",
       "      <td>41.220300</td>\n",
       "      <td>-80.018850</td>\n",
       "      <td>2.499788e+05</td>\n",
       "      <td>NaN</td>\n",
       "      <td>NaN</td>\n",
       "      <td>7.571575e+11</td>\n",
       "    </tr>\n",
       "    <tr>\n",
       "      <th>max</th>\n",
       "      <td>NaN</td>\n",
       "      <td>4.986227e+18</td>\n",
       "      <td>NaN</td>\n",
       "      <td>NaN</td>\n",
       "      <td>NaN</td>\n",
       "      <td>NaN</td>\n",
       "      <td>NaN</td>\n",
       "      <td>NaN</td>\n",
       "      <td>99705.00000</td>\n",
       "      <td>64.780500</td>\n",
       "      <td>-68.244800</td>\n",
       "      <td>2.906700e+06</td>\n",
       "      <td>NaN</td>\n",
       "      <td>NaN</td>\n",
       "      <td>9.993899e+11</td>\n",
       "    </tr>\n",
       "  </tbody>\n",
       "</table>\n",
       "</div>"
      ],
      "text/plain": [
       "                ssn        cc_num    first      last gender  \\\n",
       "count          1000  1.000000e+03     1000      1000   1000   \n",
       "unique         1000           NaN      367       487      2   \n",
       "top     115-04-4507           NaN  Michael  Williams      F   \n",
       "freq              1           NaN       25        24    512   \n",
       "mean            NaN  3.656964e+17      NaN       NaN    NaN   \n",
       "std             NaN  1.227337e+18      NaN       NaN    NaN   \n",
       "min             NaN  6.040027e+10      NaN       NaN    NaN   \n",
       "25%             NaN  1.800353e+14      NaN       NaN    NaN   \n",
       "50%             NaN  3.517359e+15      NaN       NaN    NaN   \n",
       "75%             NaN  4.538733e+15      NaN       NaN    NaN   \n",
       "max             NaN  4.986227e+18      NaN       NaN    NaN   \n",
       "\n",
       "                      street      city state          zip          lat  \\\n",
       "count                   1000      1000  1000   1000.00000  1000.000000   \n",
       "unique                  1000       736    51          NaN          NaN   \n",
       "top     863 Lawrence Valleys  Brooklyn    CA          NaN          NaN   \n",
       "freq                       1        13   107          NaN          NaN   \n",
       "mean                     NaN       NaN   NaN  51786.20900    37.422795   \n",
       "std                      NaN       NaN   NaN  29933.13195     5.574397   \n",
       "min                      NaN       NaN   NaN   1571.00000    19.589300   \n",
       "25%                      NaN       NaN   NaN  27528.25000    33.712500   \n",
       "50%                      NaN       NaN   NaN  49016.00000    38.431750   \n",
       "75%                      NaN       NaN   NaN  78599.00000    41.220300   \n",
       "max                      NaN       NaN   NaN  99705.00000    64.780500   \n",
       "\n",
       "               long      city_pop                       job         dob  \\\n",
       "count   1000.000000  1.000000e+03                      1000        1000   \n",
       "unique          NaN           NaN                       507         978   \n",
       "top             NaN           NaN  Computer games developer  1962-11-16   \n",
       "freq            NaN           NaN                         7           2   \n",
       "mean     -92.505277  2.867058e+05                       NaN         NaN   \n",
       "std       17.510134  5.329632e+05                       NaN         NaN   \n",
       "min     -159.368300  1.050000e+02                       NaN         NaN   \n",
       "25%      -99.159475  2.022950e+04                       NaN         NaN   \n",
       "50%      -87.156600  6.728250e+04                       NaN         NaN   \n",
       "75%      -80.018850  2.499788e+05                       NaN         NaN   \n",
       "max      -68.244800  2.906700e+06                       NaN         NaN   \n",
       "\n",
       "            acct_num  \n",
       "count   1.000000e+03  \n",
       "unique           NaN  \n",
       "top              NaN  \n",
       "freq             NaN  \n",
       "mean    4.995849e+11  \n",
       "std     2.894933e+11  \n",
       "min     2.348758e+09  \n",
       "25%     2.620636e+11  \n",
       "50%     4.915295e+11  \n",
       "75%     7.571575e+11  \n",
       "max     9.993899e+11  "
      ]
     },
     "execution_count": 1901,
     "metadata": {},
     "output_type": "execute_result"
    }
   ],
   "source": [
    "# Checking statistics of the customer dataset\n",
    "df_customers.describe(include='all')"
   ]
  },
  {
   "attachments": {},
   "cell_type": "markdown",
   "metadata": {},
   "source": [
    "Similarly, within the customers dataset, the identifiers ssn and cc_num, representing social security number and customer number respectively and the customer's name, should be removed."
   ]
  },
  {
   "attachments": {},
   "cell_type": "markdown",
   "metadata": {},
   "source": [
    "• Checking if any null values in the datasets"
   ]
  },
  {
   "cell_type": "code",
   "execution_count": 1902,
   "metadata": {},
   "outputs": [
    {
     "data": {
      "text/plain": [
       "cc_num        0\n",
       "acct_num      0\n",
       "trans_num     0\n",
       "unix_time     0\n",
       "category      0\n",
       "amt           0\n",
       "is_fraud      0\n",
       "merchant      0\n",
       "merch_lat     0\n",
       "merch_long    0\n",
       "dtype: int64"
      ]
     },
     "execution_count": 1902,
     "metadata": {},
     "output_type": "execute_result"
    }
   ],
   "source": [
    "# Checking null values in the transaction dataset\n",
    "df_transactions.isnull().sum()"
   ]
  },
  {
   "cell_type": "code",
   "execution_count": 1903,
   "metadata": {},
   "outputs": [
    {
     "data": {
      "text/plain": [
       "ssn         0\n",
       "cc_num      0\n",
       "first       0\n",
       "last        0\n",
       "gender      0\n",
       "street      0\n",
       "city        0\n",
       "state       0\n",
       "zip         0\n",
       "lat         0\n",
       "long        0\n",
       "city_pop    0\n",
       "job         0\n",
       "dob         0\n",
       "acct_num    0\n",
       "dtype: int64"
      ]
     },
     "execution_count": 1903,
     "metadata": {},
     "output_type": "execute_result"
    }
   ],
   "source": [
    "# Checking null values in the customer dataset\n",
    "df_customers.isnull().sum()"
   ]
  },
  {
   "attachments": {},
   "cell_type": "markdown",
   "metadata": {},
   "source": [
    "• Checking if any duplicate values in the datasets"
   ]
  },
  {
   "cell_type": "code",
   "execution_count": 1904,
   "metadata": {},
   "outputs": [
    {
     "name": "stdout",
     "output_type": "stream",
     "text": [
      "Transactions: 0\n",
      "Customers: 0\n"
     ]
    }
   ],
   "source": [
    "# Checking duplicate values in the datasets\n",
    "print('Transactions:', df_transactions.duplicated().sum())\n",
    "print('Customers:', df_customers.duplicated().sum())"
   ]
  },
  {
   "attachments": {},
   "cell_type": "markdown",
   "metadata": {},
   "source": [
    "The transaction and customers datasets do not contain any null and duplicated values."
   ]
  },
  {
   "attachments": {},
   "cell_type": "markdown",
   "metadata": {},
   "source": [
    "#### 2.3] Combining the bank transactions and customers datasets"
   ]
  },
  {
   "cell_type": "code",
   "execution_count": 1905,
   "metadata": {},
   "outputs": [
    {
     "data": {
      "text/html": [
       "<div>\n",
       "<style scoped>\n",
       "    .dataframe tbody tr th:only-of-type {\n",
       "        vertical-align: middle;\n",
       "    }\n",
       "\n",
       "    .dataframe tbody tr th {\n",
       "        vertical-align: top;\n",
       "    }\n",
       "\n",
       "    .dataframe thead th {\n",
       "        text-align: right;\n",
       "    }\n",
       "</style>\n",
       "<table border=\"1\" class=\"dataframe\">\n",
       "  <thead>\n",
       "    <tr style=\"text-align: right;\">\n",
       "      <th></th>\n",
       "      <th>cc_num_x</th>\n",
       "      <th>acct_num</th>\n",
       "      <th>trans_num</th>\n",
       "      <th>unix_time</th>\n",
       "      <th>category</th>\n",
       "      <th>amt</th>\n",
       "      <th>is_fraud</th>\n",
       "      <th>merchant</th>\n",
       "      <th>merch_lat</th>\n",
       "      <th>merch_long</th>\n",
       "      <th>...</th>\n",
       "      <th>gender</th>\n",
       "      <th>street</th>\n",
       "      <th>city</th>\n",
       "      <th>state</th>\n",
       "      <th>zip</th>\n",
       "      <th>lat</th>\n",
       "      <th>long</th>\n",
       "      <th>city_pop</th>\n",
       "      <th>job</th>\n",
       "      <th>dob</th>\n",
       "    </tr>\n",
       "  </thead>\n",
       "  <tbody>\n",
       "    <tr>\n",
       "      <th>0</th>\n",
       "      <td>4896331812335761701</td>\n",
       "      <td>149852234418</td>\n",
       "      <td>f3ec0819590302134f03ffdc2f44697f</td>\n",
       "      <td>1646060228</td>\n",
       "      <td>gas_transport</td>\n",
       "      <td>65.17</td>\n",
       "      <td>0</td>\n",
       "      <td>Larson, Ryan and Huang</td>\n",
       "      <td>38.143430</td>\n",
       "      <td>-90.327335</td>\n",
       "      <td>...</td>\n",
       "      <td>M</td>\n",
       "      <td>4457 Mercado Extensions</td>\n",
       "      <td>Brussels</td>\n",
       "      <td>IL</td>\n",
       "      <td>62013</td>\n",
       "      <td>38.9255</td>\n",
       "      <td>-90.5968</td>\n",
       "      <td>552</td>\n",
       "      <td>Patent attorney</td>\n",
       "      <td>2002-07-27</td>\n",
       "    </tr>\n",
       "    <tr>\n",
       "      <th>1</th>\n",
       "      <td>4896331812335761701</td>\n",
       "      <td>149852234418</td>\n",
       "      <td>c1607c993e41f2c3b42d72d1506bef7b</td>\n",
       "      <td>1644848624</td>\n",
       "      <td>gas_transport</td>\n",
       "      <td>47.58</td>\n",
       "      <td>0</td>\n",
       "      <td>Myers-Reed</td>\n",
       "      <td>39.119498</td>\n",
       "      <td>-90.760379</td>\n",
       "      <td>...</td>\n",
       "      <td>M</td>\n",
       "      <td>4457 Mercado Extensions</td>\n",
       "      <td>Brussels</td>\n",
       "      <td>IL</td>\n",
       "      <td>62013</td>\n",
       "      <td>38.9255</td>\n",
       "      <td>-90.5968</td>\n",
       "      <td>552</td>\n",
       "      <td>Patent attorney</td>\n",
       "      <td>2002-07-27</td>\n",
       "    </tr>\n",
       "    <tr>\n",
       "      <th>2</th>\n",
       "      <td>4896331812335761701</td>\n",
       "      <td>149852234418</td>\n",
       "      <td>6f530db25d20fe351249a54491fd3fde</td>\n",
       "      <td>1645632153</td>\n",
       "      <td>gas_transport</td>\n",
       "      <td>64.43</td>\n",
       "      <td>0</td>\n",
       "      <td>Baker-Bullock</td>\n",
       "      <td>39.384368</td>\n",
       "      <td>-90.361517</td>\n",
       "      <td>...</td>\n",
       "      <td>M</td>\n",
       "      <td>4457 Mercado Extensions</td>\n",
       "      <td>Brussels</td>\n",
       "      <td>IL</td>\n",
       "      <td>62013</td>\n",
       "      <td>38.9255</td>\n",
       "      <td>-90.5968</td>\n",
       "      <td>552</td>\n",
       "      <td>Patent attorney</td>\n",
       "      <td>2002-07-27</td>\n",
       "    </tr>\n",
       "  </tbody>\n",
       "</table>\n",
       "<p>3 rows × 24 columns</p>\n",
       "</div>"
      ],
      "text/plain": [
       "              cc_num_x      acct_num                         trans_num  \\\n",
       "0  4896331812335761701  149852234418  f3ec0819590302134f03ffdc2f44697f   \n",
       "1  4896331812335761701  149852234418  c1607c993e41f2c3b42d72d1506bef7b   \n",
       "2  4896331812335761701  149852234418  6f530db25d20fe351249a54491fd3fde   \n",
       "\n",
       "    unix_time       category    amt is_fraud                merchant  \\\n",
       "0  1646060228  gas_transport  65.17        0  Larson, Ryan and Huang   \n",
       "1  1644848624  gas_transport  47.58        0              Myers-Reed   \n",
       "2  1645632153  gas_transport  64.43        0           Baker-Bullock   \n",
       "\n",
       "   merch_lat  merch_long  ... gender                   street      city state  \\\n",
       "0  38.143430  -90.327335  ...      M  4457 Mercado Extensions  Brussels    IL   \n",
       "1  39.119498  -90.760379  ...      M  4457 Mercado Extensions  Brussels    IL   \n",
       "2  39.384368  -90.361517  ...      M  4457 Mercado Extensions  Brussels    IL   \n",
       "\n",
       "     zip      lat     long city_pop              job         dob  \n",
       "0  62013  38.9255 -90.5968      552  Patent attorney  2002-07-27  \n",
       "1  62013  38.9255 -90.5968      552  Patent attorney  2002-07-27  \n",
       "2  62013  38.9255 -90.5968      552  Patent attorney  2002-07-27  \n",
       "\n",
       "[3 rows x 24 columns]"
      ]
     },
     "execution_count": 1905,
     "metadata": {},
     "output_type": "execute_result"
    }
   ],
   "source": [
    "# Combining transactions and customers details based on the bank account number identifier of the customer\n",
    "df_bank_data = pd.merge(df_transactions, df_customers, on='acct_num', how='left')\n",
    "\n",
    "# Checking initial records \n",
    "df_bank_data.head(3)"
   ]
  },
  {
   "attachments": {},
   "cell_type": "markdown",
   "metadata": {},
   "source": [
    "As the account number is unique and available in both datasets, combining the datasets using 'acct_num' account number feature as the key."
   ]
  },
  {
   "cell_type": "code",
   "execution_count": 1906,
   "metadata": {},
   "outputs": [
    {
     "data": {
      "text/plain": [
       "(4260904, 24)"
      ]
     },
     "execution_count": 1906,
     "metadata": {},
     "output_type": "execute_result"
    }
   ],
   "source": [
    "# Checking the rows and columns size\n",
    "df_bank_data.shape"
   ]
  },
  {
   "cell_type": "code",
   "execution_count": 1907,
   "metadata": {},
   "outputs": [
    {
     "data": {
      "text/plain": [
       "Index(['cc_num_x', 'acct_num', 'trans_num', 'unix_time', 'category', 'amt',\n",
       "       'is_fraud', 'merchant', 'merch_lat', 'merch_long', 'ssn', 'cc_num_y',\n",
       "       'first', 'last', 'gender', 'street', 'city', 'state', 'zip', 'lat',\n",
       "       'long', 'city_pop', 'job', 'dob'],\n",
       "      dtype='object')"
      ]
     },
     "execution_count": 1907,
     "metadata": {},
     "output_type": "execute_result"
    }
   ],
   "source": [
    "# Checking the column names\n",
    "df_bank_data.columns"
   ]
  },
  {
   "attachments": {},
   "cell_type": "markdown",
   "metadata": {},
   "source": [
    "### 3. Data Preparation\n",
    "\n",
    "#### 3.1] Feature Engineering"
   ]
  },
  {
   "attachments": {},
   "cell_type": "markdown",
   "metadata": {},
   "source": [
    "**• Extracting transaction's date related information**"
   ]
  },
  {
   "cell_type": "code",
   "execution_count": 1908,
   "metadata": {},
   "outputs": [],
   "source": [
    "# Transforming unixtime to datetime\n",
    "df_bank_data['datetime'] = pd.to_datetime(df_bank_data['unix_time'], unit='s')"
   ]
  },
  {
   "cell_type": "code",
   "execution_count": 1909,
   "metadata": {},
   "outputs": [
    {
     "data": {
      "text/html": [
       "<div>\n",
       "<style scoped>\n",
       "    .dataframe tbody tr th:only-of-type {\n",
       "        vertical-align: middle;\n",
       "    }\n",
       "\n",
       "    .dataframe tbody tr th {\n",
       "        vertical-align: top;\n",
       "    }\n",
       "\n",
       "    .dataframe thead th {\n",
       "        text-align: right;\n",
       "    }\n",
       "</style>\n",
       "<table border=\"1\" class=\"dataframe\">\n",
       "  <thead>\n",
       "    <tr style=\"text-align: right;\">\n",
       "      <th></th>\n",
       "      <th>cc_num_x</th>\n",
       "      <th>acct_num</th>\n",
       "      <th>trans_num</th>\n",
       "      <th>unix_time</th>\n",
       "      <th>category</th>\n",
       "      <th>amt</th>\n",
       "      <th>is_fraud</th>\n",
       "      <th>merchant</th>\n",
       "      <th>merch_lat</th>\n",
       "      <th>merch_long</th>\n",
       "      <th>...</th>\n",
       "      <th>street</th>\n",
       "      <th>city</th>\n",
       "      <th>state</th>\n",
       "      <th>zip</th>\n",
       "      <th>lat</th>\n",
       "      <th>long</th>\n",
       "      <th>city_pop</th>\n",
       "      <th>job</th>\n",
       "      <th>dob</th>\n",
       "      <th>datetime</th>\n",
       "    </tr>\n",
       "  </thead>\n",
       "  <tbody>\n",
       "    <tr>\n",
       "      <th>1035418</th>\n",
       "      <td>4037788925546656</td>\n",
       "      <td>386189485379</td>\n",
       "      <td>6cfdb795badcfe0ee4ee0a9d66c20d5c</td>\n",
       "      <td>1671690215</td>\n",
       "      <td>personal_care</td>\n",
       "      <td>53.05</td>\n",
       "      <td>0</td>\n",
       "      <td>Smith-Jones</td>\n",
       "      <td>35.130415</td>\n",
       "      <td>-83.380570</td>\n",
       "      <td>...</td>\n",
       "      <td>51864 Cummings Shoals Apt. 519</td>\n",
       "      <td>Walhalla</td>\n",
       "      <td>SC</td>\n",
       "      <td>29691</td>\n",
       "      <td>34.8457</td>\n",
       "      <td>-83.0672</td>\n",
       "      <td>11333</td>\n",
       "      <td>Counsellor</td>\n",
       "      <td>1982-09-08</td>\n",
       "      <td>2022-12-22 06:23:35</td>\n",
       "    </tr>\n",
       "    <tr>\n",
       "      <th>3622128</th>\n",
       "      <td>4208581745273533</td>\n",
       "      <td>154405868597</td>\n",
       "      <td>6341266fb209fc6cf6cab0666521a457</td>\n",
       "      <td>1648722046</td>\n",
       "      <td>home</td>\n",
       "      <td>12.63</td>\n",
       "      <td>0</td>\n",
       "      <td>Dodson LLC</td>\n",
       "      <td>41.819562</td>\n",
       "      <td>-87.083738</td>\n",
       "      <td>...</td>\n",
       "      <td>7004 Erik Court</td>\n",
       "      <td>Evanston</td>\n",
       "      <td>IL</td>\n",
       "      <td>60202</td>\n",
       "      <td>42.0302</td>\n",
       "      <td>-87.6865</td>\n",
       "      <td>79009</td>\n",
       "      <td>Surveyor, minerals</td>\n",
       "      <td>1988-04-17</td>\n",
       "      <td>2022-03-31 10:20:46</td>\n",
       "    </tr>\n",
       "    <tr>\n",
       "      <th>1057662</th>\n",
       "      <td>4028772175354087</td>\n",
       "      <td>452704326218</td>\n",
       "      <td>55ea1dbf68977f7632d290ef76b5eb5e</td>\n",
       "      <td>1647541353</td>\n",
       "      <td>grocery_pos</td>\n",
       "      <td>2.03</td>\n",
       "      <td>0</td>\n",
       "      <td>Stuart, Bowman and Miller</td>\n",
       "      <td>29.954180</td>\n",
       "      <td>-95.237138</td>\n",
       "      <td>...</td>\n",
       "      <td>17797 Melissa Mission Suite 170</td>\n",
       "      <td>Pasadena</td>\n",
       "      <td>TX</td>\n",
       "      <td>77502</td>\n",
       "      <td>29.6789</td>\n",
       "      <td>-95.1982</td>\n",
       "      <td>145975</td>\n",
       "      <td>Civil engineer, contracting</td>\n",
       "      <td>1995-08-01</td>\n",
       "      <td>2022-03-17 18:22:33</td>\n",
       "    </tr>\n",
       "  </tbody>\n",
       "</table>\n",
       "<p>3 rows × 25 columns</p>\n",
       "</div>"
      ],
      "text/plain": [
       "                 cc_num_x      acct_num                         trans_num  \\\n",
       "1035418  4037788925546656  386189485379  6cfdb795badcfe0ee4ee0a9d66c20d5c   \n",
       "3622128  4208581745273533  154405868597  6341266fb209fc6cf6cab0666521a457   \n",
       "1057662  4028772175354087  452704326218  55ea1dbf68977f7632d290ef76b5eb5e   \n",
       "\n",
       "          unix_time       category    amt is_fraud                   merchant  \\\n",
       "1035418  1671690215  personal_care  53.05        0                Smith-Jones   \n",
       "3622128  1648722046           home  12.63        0                 Dodson LLC   \n",
       "1057662  1647541353    grocery_pos   2.03        0  Stuart, Bowman and Miller   \n",
       "\n",
       "         merch_lat  merch_long  ...                           street  \\\n",
       "1035418  35.130415  -83.380570  ...   51864 Cummings Shoals Apt. 519   \n",
       "3622128  41.819562  -87.083738  ...                  7004 Erik Court   \n",
       "1057662  29.954180  -95.237138  ...  17797 Melissa Mission Suite 170   \n",
       "\n",
       "             city state    zip      lat     long city_pop  \\\n",
       "1035418  Walhalla    SC  29691  34.8457 -83.0672    11333   \n",
       "3622128  Evanston    IL  60202  42.0302 -87.6865    79009   \n",
       "1057662  Pasadena    TX  77502  29.6789 -95.1982   145975   \n",
       "\n",
       "                                 job         dob            datetime  \n",
       "1035418                   Counsellor  1982-09-08 2022-12-22 06:23:35  \n",
       "3622128           Surveyor, minerals  1988-04-17 2022-03-31 10:20:46  \n",
       "1057662  Civil engineer, contracting  1995-08-01 2022-03-17 18:22:33  \n",
       "\n",
       "[3 rows x 25 columns]"
      ]
     },
     "execution_count": 1909,
     "metadata": {},
     "output_type": "execute_result"
    }
   ],
   "source": [
    "# Checking the sample rows for new feature 'datetime'\n",
    "df_bank_data.sample(3)"
   ]
  },
  {
   "attachments": {},
   "cell_type": "markdown",
   "metadata": {},
   "source": [
    "As the unix_time is in unreadable format, it is necessary to convert it into a more readable format."
   ]
  },
  {
   "cell_type": "code",
   "execution_count": 1910,
   "metadata": {},
   "outputs": [],
   "source": [
    "# Separating date information i.e. 'year', 'month', 'year', 'day', 'hour', 'minute' & 'second' as new features\n",
    "df_bank_data['year'] = df_bank_data['datetime'].apply(lambda x: x.year)\n",
    "df_bank_data['month'] = df_bank_data['datetime'].apply(lambda x: x.month)\n",
    "df_bank_data['day'] = df_bank_data['datetime'].apply(lambda x: x.day)\n",
    "df_bank_data['hour'] = df_bank_data['datetime'].apply(lambda x: x.hour)\n",
    "df_bank_data['minute'] = df_bank_data['datetime'].apply(lambda x: x.minute)\n",
    "df_bank_data['second'] = df_bank_data['datetime'].apply(lambda x: x.second)"
   ]
  },
  {
   "cell_type": "code",
   "execution_count": 1911,
   "metadata": {},
   "outputs": [
    {
     "data": {
      "text/html": [
       "<div>\n",
       "<style scoped>\n",
       "    .dataframe tbody tr th:only-of-type {\n",
       "        vertical-align: middle;\n",
       "    }\n",
       "\n",
       "    .dataframe tbody tr th {\n",
       "        vertical-align: top;\n",
       "    }\n",
       "\n",
       "    .dataframe thead th {\n",
       "        text-align: right;\n",
       "    }\n",
       "</style>\n",
       "<table border=\"1\" class=\"dataframe\">\n",
       "  <thead>\n",
       "    <tr style=\"text-align: right;\">\n",
       "      <th></th>\n",
       "      <th>cc_num_x</th>\n",
       "      <th>acct_num</th>\n",
       "      <th>trans_num</th>\n",
       "      <th>unix_time</th>\n",
       "      <th>category</th>\n",
       "      <th>amt</th>\n",
       "      <th>is_fraud</th>\n",
       "      <th>merchant</th>\n",
       "      <th>merch_lat</th>\n",
       "      <th>merch_long</th>\n",
       "      <th>...</th>\n",
       "      <th>city_pop</th>\n",
       "      <th>job</th>\n",
       "      <th>dob</th>\n",
       "      <th>datetime</th>\n",
       "      <th>year</th>\n",
       "      <th>month</th>\n",
       "      <th>day</th>\n",
       "      <th>hour</th>\n",
       "      <th>minute</th>\n",
       "      <th>second</th>\n",
       "    </tr>\n",
       "  </thead>\n",
       "  <tbody>\n",
       "    <tr>\n",
       "      <th>2432504</th>\n",
       "      <td>30279103368290</td>\n",
       "      <td>957000539170</td>\n",
       "      <td>795837b165ae2dcfa40bebff127a2638</td>\n",
       "      <td>1646538435</td>\n",
       "      <td>kids_pets</td>\n",
       "      <td>48.26</td>\n",
       "      <td>0</td>\n",
       "      <td>Ramsey Group</td>\n",
       "      <td>37.712154</td>\n",
       "      <td>-75.893849</td>\n",
       "      <td>...</td>\n",
       "      <td>6471</td>\n",
       "      <td>Retail buyer</td>\n",
       "      <td>1962-12-09</td>\n",
       "      <td>2022-03-06 03:47:15</td>\n",
       "      <td>2022</td>\n",
       "      <td>3</td>\n",
       "      <td>6</td>\n",
       "      <td>3</td>\n",
       "      <td>47</td>\n",
       "      <td>15</td>\n",
       "    </tr>\n",
       "    <tr>\n",
       "      <th>3650786</th>\n",
       "      <td>4635049602667653</td>\n",
       "      <td>23079585520</td>\n",
       "      <td>b6f473bc721765620d86b4ce95a03521</td>\n",
       "      <td>1576265037</td>\n",
       "      <td>misc_net</td>\n",
       "      <td>40.87</td>\n",
       "      <td>0</td>\n",
       "      <td>Reynolds Ltd</td>\n",
       "      <td>40.504420</td>\n",
       "      <td>-75.535502</td>\n",
       "      <td>...</td>\n",
       "      <td>4637</td>\n",
       "      <td>Theatre director</td>\n",
       "      <td>1993-10-12</td>\n",
       "      <td>2019-12-13 19:23:57</td>\n",
       "      <td>2019</td>\n",
       "      <td>12</td>\n",
       "      <td>13</td>\n",
       "      <td>19</td>\n",
       "      <td>23</td>\n",
       "      <td>57</td>\n",
       "    </tr>\n",
       "    <tr>\n",
       "      <th>871064</th>\n",
       "      <td>4888818930461631</td>\n",
       "      <td>834942757900</td>\n",
       "      <td>73919e53bd5ac8aa12a189d4ea7ceb1b</td>\n",
       "      <td>1581605886</td>\n",
       "      <td>misc_pos</td>\n",
       "      <td>173.60</td>\n",
       "      <td>0</td>\n",
       "      <td>Cain LLC</td>\n",
       "      <td>40.919218</td>\n",
       "      <td>-74.305912</td>\n",
       "      <td>...</td>\n",
       "      <td>8675</td>\n",
       "      <td>Museum/gallery curator</td>\n",
       "      <td>1946-09-14</td>\n",
       "      <td>2020-02-13 14:58:06</td>\n",
       "      <td>2020</td>\n",
       "      <td>2</td>\n",
       "      <td>13</td>\n",
       "      <td>14</td>\n",
       "      <td>58</td>\n",
       "      <td>6</td>\n",
       "    </tr>\n",
       "  </tbody>\n",
       "</table>\n",
       "<p>3 rows × 31 columns</p>\n",
       "</div>"
      ],
      "text/plain": [
       "                 cc_num_x      acct_num                         trans_num  \\\n",
       "2432504    30279103368290  957000539170  795837b165ae2dcfa40bebff127a2638   \n",
       "3650786  4635049602667653   23079585520  b6f473bc721765620d86b4ce95a03521   \n",
       "871064   4888818930461631  834942757900  73919e53bd5ac8aa12a189d4ea7ceb1b   \n",
       "\n",
       "          unix_time   category     amt is_fraud      merchant  merch_lat  \\\n",
       "2432504  1646538435  kids_pets   48.26        0  Ramsey Group  37.712154   \n",
       "3650786  1576265037   misc_net   40.87        0  Reynolds Ltd  40.504420   \n",
       "871064   1581605886   misc_pos  173.60        0      Cain LLC  40.919218   \n",
       "\n",
       "         merch_long  ... city_pop                     job         dob  \\\n",
       "2432504  -75.893849  ...     6471            Retail buyer  1962-12-09   \n",
       "3650786  -75.535502  ...     4637        Theatre director  1993-10-12   \n",
       "871064   -74.305912  ...     8675  Museum/gallery curator  1946-09-14   \n",
       "\n",
       "                   datetime  year month day hour  minute  second  \n",
       "2432504 2022-03-06 03:47:15  2022     3   6    3      47      15  \n",
       "3650786 2019-12-13 19:23:57  2019    12  13   19      23      57  \n",
       "871064  2020-02-13 14:58:06  2020     2  13   14      58       6  \n",
       "\n",
       "[3 rows x 31 columns]"
      ]
     },
     "execution_count": 1911,
     "metadata": {},
     "output_type": "execute_result"
    }
   ],
   "source": [
    "# Checking the sample rows for new features 'year', 'month', 'year', 'day', 'hour', 'minute' & 'second'\n",
    "df_bank_data.sample(3)"
   ]
  },
  {
   "attachments": {},
   "cell_type": "markdown",
   "metadata": {},
   "source": [
    "From the date information, other relevant details such as the transaction's 'year', 'month', 'day', 'hour', 'minute', and 'second' is extracted that can help in capturing patterns and trends associated with fraudulent behavior."
   ]
  },
  {
   "attachments": {},
   "cell_type": "markdown",
   "metadata": {},
   "source": [
    "**• Calculating the distance i.e. how far the transaction occurred from the customer's resident**"
   ]
  },
  {
   "cell_type": "code",
   "execution_count": 1912,
   "metadata": {},
   "outputs": [],
   "source": [
    "# Defining function to calculate distance using Haversine formulas\n",
    "# The function takes four parameters: merchant's lat1, lon1 and customer's resdential lat2, and lon2\n",
    "def calculate_distance_km(lat1, lon1, lat2, lon2):\n",
    "\n",
    "    # Converting the latitude and longitude values from degrees to radians using the radians function from the math module\n",
    "    lat1, lon1, lat2, lon2 = map(radians, [lat1, lon1, lat2, lon2])\n",
    "    \n",
    "    # Radius of the Earth in kilometers as a constant value\n",
    "    earth_radius = 6371.0\n",
    "\n",
    "    # Calculating the differences in longitude (dlon) and latitude (dlat) between the two sets of coordinates\n",
    "    dlon = lon2 - lon1\n",
    "    dlat = lat2 - lat1\n",
    "\n",
    "    # Calculating the intermediate values a and c required by the Haversine formula\n",
    "    # These calculations involve trigonometric functions (sin, cos, sqrt, atan2) to determine the great-circle distance between the two points\n",
    "    a = sin(dlat / 2)**2 + cos(lat1) * cos(lat2) * sin(dlon / 2)**2\n",
    "    c = 2 * atan2(sqrt(a), sqrt(1 - a))\n",
    "\n",
    "    # Calculating the final distance using the Haversine formula by multiplying the Earth's radius by the above calculated c value\n",
    "    distance = earth_radius * c\n",
    "\n",
    "    # Returning the calculated distance in kilometers\n",
    "    return distance"
   ]
  },
  {
   "cell_type": "code",
   "execution_count": 1913,
   "metadata": {},
   "outputs": [],
   "source": [
    "# Applying the distance calculation to create a new feature\n",
    "df_bank_data['distance_km'] = df_bank_data.apply(lambda row: calculate_distance_km(row['merch_lat'], row['merch_long'], row['lat'], row['long']), axis=1)"
   ]
  },
  {
   "attachments": {},
   "cell_type": "markdown",
   "metadata": {},
   "source": [
    "Using the latitude and longitude coordinates of both the customer's residence and the merchant's location where the transaction took place, the distance between these two locations is calculated that might indicate suspicious transactions."
   ]
  },
  {
   "attachments": {},
   "cell_type": "markdown",
   "metadata": {},
   "source": [
    "**• Calculating age of the customers**"
   ]
  },
  {
   "cell_type": "code",
   "execution_count": 1914,
   "metadata": {},
   "outputs": [],
   "source": [
    "# Converting the date of birth 'dob' column to the datetime format\n",
    "df_bank_data['dob'] = pd.to_datetime(df_bank_data['dob'])"
   ]
  },
  {
   "cell_type": "code",
   "execution_count": 1915,
   "metadata": {},
   "outputs": [],
   "source": [
    "# The current date will serve as the reference point for calculating the age of customers\n",
    "current_date = datetime.datetime.now()"
   ]
  },
  {
   "cell_type": "code",
   "execution_count": 1916,
   "metadata": {},
   "outputs": [],
   "source": [
    "# Defining a function that calculates the age of customer based on the date of birth and the current date\n",
    "def calculate_customers_age(date_of_birth):\n",
    "\n",
    "    # Calculating the difference between the current date and the date of birth in years\n",
    "    age = current_date.year - date_of_birth.year\n",
    "    if current_date.month < date_of_birth.month or (current_date.month == date_of_birth.month and current_date.day < date_of_birth.day):\n",
    "        age -= 1\n",
    "    return age"
   ]
  },
  {
   "cell_type": "code",
   "execution_count": 1917,
   "metadata": {},
   "outputs": [],
   "source": [
    "# Applying the calculate_customers_age function to the 'dob' column to create a new 'age' column\n",
    "df_bank_data['age'] = df_bank_data['dob'].apply(calculate_customers_age)"
   ]
  },
  {
   "cell_type": "code",
   "execution_count": 1918,
   "metadata": {},
   "outputs": [
    {
     "data": {
      "text/html": [
       "<div>\n",
       "<style scoped>\n",
       "    .dataframe tbody tr th:only-of-type {\n",
       "        vertical-align: middle;\n",
       "    }\n",
       "\n",
       "    .dataframe tbody tr th {\n",
       "        vertical-align: top;\n",
       "    }\n",
       "\n",
       "    .dataframe thead th {\n",
       "        text-align: right;\n",
       "    }\n",
       "</style>\n",
       "<table border=\"1\" class=\"dataframe\">\n",
       "  <thead>\n",
       "    <tr style=\"text-align: right;\">\n",
       "      <th></th>\n",
       "      <th>cc_num_x</th>\n",
       "      <th>acct_num</th>\n",
       "      <th>trans_num</th>\n",
       "      <th>unix_time</th>\n",
       "      <th>category</th>\n",
       "      <th>amt</th>\n",
       "      <th>is_fraud</th>\n",
       "      <th>merchant</th>\n",
       "      <th>merch_lat</th>\n",
       "      <th>merch_long</th>\n",
       "      <th>...</th>\n",
       "      <th>dob</th>\n",
       "      <th>datetime</th>\n",
       "      <th>year</th>\n",
       "      <th>month</th>\n",
       "      <th>day</th>\n",
       "      <th>hour</th>\n",
       "      <th>minute</th>\n",
       "      <th>second</th>\n",
       "      <th>distance_km</th>\n",
       "      <th>age</th>\n",
       "    </tr>\n",
       "  </thead>\n",
       "  <tbody>\n",
       "    <tr>\n",
       "      <th>277711</th>\n",
       "      <td>6011473650032991</td>\n",
       "      <td>272682708416</td>\n",
       "      <td>8648e83e08e49e509c9e2d36d7b2eba7</td>\n",
       "      <td>1559079569</td>\n",
       "      <td>gas_transport</td>\n",
       "      <td>9.76</td>\n",
       "      <td>0</td>\n",
       "      <td>Rivera, English and Davis</td>\n",
       "      <td>34.367412</td>\n",
       "      <td>-78.301622</td>\n",
       "      <td>...</td>\n",
       "      <td>1965-03-31</td>\n",
       "      <td>2019-05-28 21:39:29</td>\n",
       "      <td>2019</td>\n",
       "      <td>5</td>\n",
       "      <td>28</td>\n",
       "      <td>21</td>\n",
       "      <td>39</td>\n",
       "      <td>29</td>\n",
       "      <td>109.342436</td>\n",
       "      <td>58</td>\n",
       "    </tr>\n",
       "    <tr>\n",
       "      <th>2235965</th>\n",
       "      <td>6011898331465915</td>\n",
       "      <td>49136416256</td>\n",
       "      <td>dea9f8882a4da5b42bc8a7b6f9654fd7</td>\n",
       "      <td>1580662556</td>\n",
       "      <td>misc_pos</td>\n",
       "      <td>7.29</td>\n",
       "      <td>0</td>\n",
       "      <td>Smith Ltd</td>\n",
       "      <td>38.829409</td>\n",
       "      <td>-78.287584</td>\n",
       "      <td>...</td>\n",
       "      <td>1977-05-12</td>\n",
       "      <td>2020-02-02 16:55:56</td>\n",
       "      <td>2020</td>\n",
       "      <td>2</td>\n",
       "      <td>2</td>\n",
       "      <td>16</td>\n",
       "      <td>55</td>\n",
       "      <td>56</td>\n",
       "      <td>81.445435</td>\n",
       "      <td>46</td>\n",
       "    </tr>\n",
       "    <tr>\n",
       "      <th>2124331</th>\n",
       "      <td>2702512868230047</td>\n",
       "      <td>978753281962</td>\n",
       "      <td>d22354f4c6814e6ca2bb94aaa921a480</td>\n",
       "      <td>1576362344</td>\n",
       "      <td>misc_net</td>\n",
       "      <td>9.85</td>\n",
       "      <td>0</td>\n",
       "      <td>Peterson-Strickland</td>\n",
       "      <td>35.605768</td>\n",
       "      <td>-79.889864</td>\n",
       "      <td>...</td>\n",
       "      <td>1987-04-06</td>\n",
       "      <td>2019-12-14 22:25:44</td>\n",
       "      <td>2019</td>\n",
       "      <td>12</td>\n",
       "      <td>14</td>\n",
       "      <td>22</td>\n",
       "      <td>25</td>\n",
       "      <td>44</td>\n",
       "      <td>104.359796</td>\n",
       "      <td>36</td>\n",
       "    </tr>\n",
       "  </tbody>\n",
       "</table>\n",
       "<p>3 rows × 33 columns</p>\n",
       "</div>"
      ],
      "text/plain": [
       "                 cc_num_x      acct_num                         trans_num  \\\n",
       "277711   6011473650032991  272682708416  8648e83e08e49e509c9e2d36d7b2eba7   \n",
       "2235965  6011898331465915   49136416256  dea9f8882a4da5b42bc8a7b6f9654fd7   \n",
       "2124331  2702512868230047  978753281962  d22354f4c6814e6ca2bb94aaa921a480   \n",
       "\n",
       "          unix_time       category   amt is_fraud                   merchant  \\\n",
       "277711   1559079569  gas_transport  9.76        0  Rivera, English and Davis   \n",
       "2235965  1580662556       misc_pos  7.29        0                  Smith Ltd   \n",
       "2124331  1576362344       misc_net  9.85        0        Peterson-Strickland   \n",
       "\n",
       "         merch_lat  merch_long  ...        dob            datetime  year  \\\n",
       "277711   34.367412  -78.301622  ... 1965-03-31 2019-05-28 21:39:29  2019   \n",
       "2235965  38.829409  -78.287584  ... 1977-05-12 2020-02-02 16:55:56  2020   \n",
       "2124331  35.605768  -79.889864  ... 1987-04-06 2019-12-14 22:25:44  2019   \n",
       "\n",
       "        month day hour minute second  distance_km  age  \n",
       "277711      5  28   21     39     29   109.342436   58  \n",
       "2235965     2   2   16     55     56    81.445435   46  \n",
       "2124331    12  14   22     25     44   104.359796   36  \n",
       "\n",
       "[3 rows x 33 columns]"
      ]
     },
     "execution_count": 1918,
     "metadata": {},
     "output_type": "execute_result"
    }
   ],
   "source": [
    "# Checking the sample rows for new features 'distance_km' and 'age'\n",
    "df_bank_data.sample(3)"
   ]
  },
  {
   "attachments": {},
   "cell_type": "markdown",
   "metadata": {},
   "source": [
    "Based on the customer's date of birth 'dob', the age is calculated since particular age groups might be more inclined to participate in fraudulent activities. "
   ]
  },
  {
   "attachments": {},
   "cell_type": "markdown",
   "metadata": {},
   "source": [
    "#### 3.2] Features Selection"
   ]
  },
  {
   "attachments": {},
   "cell_type": "markdown",
   "metadata": {},
   "source": [
    "• Checking the distribution of values of the numerical features"
   ]
  },
  {
   "cell_type": "code",
   "execution_count": 1919,
   "metadata": {},
   "outputs": [
    {
     "data": {
      "image/png": "[encoded data removed]",
      "text/plain": [
       "<Figure size 1000x1000 with 6 Axes>"
      ]
     },
     "metadata": {},
     "output_type": "display_data"
    }
   ],
   "source": [
    "# Selecting the numerical features from the dataset to check distribution of their values\n",
    "df_numerical_features = df_bank_data[['amt', 'distance_km', 'age', 'month', 'day']]\n",
    "\n",
    "# Creating histogram of the selected numerical features\n",
    "histogram = df_numerical_features.hist(figsize=(10,10))"
   ]
  },
  {
   "attachments": {},
   "cell_type": "markdown",
   "metadata": {},
   "source": [
    "The graphs above, illustrating the distribution of numerical feature values, suggest that the data is fairly distributed and does not show significant skewness.\n",
    "\n",
    "The significant increase in transaction volume towards the end of the year signifies the holiday season, particularly the Christmas festivities, and the corresponding spending patterns associated with it."
   ]
  },
  {
   "attachments": {},
   "cell_type": "markdown",
   "metadata": {},
   "source": [
    "• Checking outliers in the numerical features"
   ]
  },
  {
   "cell_type": "code",
   "execution_count": 1920,
   "metadata": {},
   "outputs": [
    {
     "data": {
      "text/plain": [
       "<Axes: xlabel='amt'>"
      ]
     },
     "execution_count": 1920,
     "metadata": {},
     "output_type": "execute_result"
    },
    {
     "data": {
      "image/png": "[encoded data removed]",
      "text/plain": [
       "<Figure size 640x480 with 1 Axes>"
      ]
     },
     "metadata": {},
     "output_type": "display_data"
    }
   ],
   "source": [
    "# Ploting the graph for 'amt' feature\n",
    "sns.boxplot(x='amt', data=df_numerical_features, color='green')"
   ]
  },
  {
   "attachments": {},
   "cell_type": "markdown",
   "metadata": {},
   "source": [
    "• Checking the rows with transaction amount i.e. 'amt' >= 30000"
   ]
  },
  {
   "cell_type": "code",
   "execution_count": 1921,
   "metadata": {},
   "outputs": [
    {
     "data": {
      "text/html": [
       "<div>\n",
       "<style scoped>\n",
       "    .dataframe tbody tr th:only-of-type {\n",
       "        vertical-align: middle;\n",
       "    }\n",
       "\n",
       "    .dataframe tbody tr th {\n",
       "        vertical-align: top;\n",
       "    }\n",
       "\n",
       "    .dataframe thead th {\n",
       "        text-align: right;\n",
       "    }\n",
       "</style>\n",
       "<table border=\"1\" class=\"dataframe\">\n",
       "  <thead>\n",
       "    <tr style=\"text-align: right;\">\n",
       "      <th></th>\n",
       "      <th>cc_num_x</th>\n",
       "      <th>acct_num</th>\n",
       "      <th>trans_num</th>\n",
       "      <th>unix_time</th>\n",
       "      <th>category</th>\n",
       "      <th>amt</th>\n",
       "      <th>is_fraud</th>\n",
       "      <th>merchant</th>\n",
       "      <th>merch_lat</th>\n",
       "      <th>merch_long</th>\n",
       "      <th>...</th>\n",
       "      <th>dob</th>\n",
       "      <th>datetime</th>\n",
       "      <th>year</th>\n",
       "      <th>month</th>\n",
       "      <th>day</th>\n",
       "      <th>hour</th>\n",
       "      <th>minute</th>\n",
       "      <th>second</th>\n",
       "      <th>distance_km</th>\n",
       "      <th>age</th>\n",
       "    </tr>\n",
       "  </thead>\n",
       "  <tbody>\n",
       "    <tr>\n",
       "      <th>536255</th>\n",
       "      <td>377800244323620</td>\n",
       "      <td>882138752516</td>\n",
       "      <td>b2d22320cec61eba3009368c2093f6f4</td>\n",
       "      <td>1627878405</td>\n",
       "      <td>health_fitness</td>\n",
       "      <td>31772.59</td>\n",
       "      <td>0</td>\n",
       "      <td>Santiago, Carroll and Chen</td>\n",
       "      <td>40.917353</td>\n",
       "      <td>-72.726208</td>\n",
       "      <td>...</td>\n",
       "      <td>1954-10-04</td>\n",
       "      <td>2021-08-02 04:26:45</td>\n",
       "      <td>2021</td>\n",
       "      <td>8</td>\n",
       "      <td>2</td>\n",
       "      <td>4</td>\n",
       "      <td>26</td>\n",
       "      <td>45</td>\n",
       "      <td>85.918559</td>\n",
       "      <td>68</td>\n",
       "    </tr>\n",
       "    <tr>\n",
       "      <th>907702</th>\n",
       "      <td>4823134275576720</td>\n",
       "      <td>246413063417</td>\n",
       "      <td>3fd1be2a78f5d2227f3922f373188c09</td>\n",
       "      <td>1592569545</td>\n",
       "      <td>shopping_net</td>\n",
       "      <td>41300.53</td>\n",
       "      <td>0</td>\n",
       "      <td>Vaughn-Hogan</td>\n",
       "      <td>28.147489</td>\n",
       "      <td>-81.973396</td>\n",
       "      <td>...</td>\n",
       "      <td>2007-08-20</td>\n",
       "      <td>2020-06-19 12:25:45</td>\n",
       "      <td>2020</td>\n",
       "      <td>6</td>\n",
       "      <td>19</td>\n",
       "      <td>12</td>\n",
       "      <td>25</td>\n",
       "      <td>45</td>\n",
       "      <td>119.990064</td>\n",
       "      <td>15</td>\n",
       "    </tr>\n",
       "    <tr>\n",
       "      <th>1282908</th>\n",
       "      <td>4571983863842</td>\n",
       "      <td>664596582306</td>\n",
       "      <td>264618bb89847488796f35fd267c652a</td>\n",
       "      <td>1632037307</td>\n",
       "      <td>health_fitness</td>\n",
       "      <td>31412.68</td>\n",
       "      <td>0</td>\n",
       "      <td>Garza Ltd</td>\n",
       "      <td>42.887923</td>\n",
       "      <td>-79.610140</td>\n",
       "      <td>...</td>\n",
       "      <td>1941-12-24</td>\n",
       "      <td>2021-09-19 07:41:47</td>\n",
       "      <td>2021</td>\n",
       "      <td>9</td>\n",
       "      <td>19</td>\n",
       "      <td>7</td>\n",
       "      <td>41</td>\n",
       "      <td>47</td>\n",
       "      <td>65.238855</td>\n",
       "      <td>81</td>\n",
       "    </tr>\n",
       "  </tbody>\n",
       "</table>\n",
       "<p>3 rows × 33 columns</p>\n",
       "</div>"
      ],
      "text/plain": [
       "                 cc_num_x      acct_num                         trans_num  \\\n",
       "536255    377800244323620  882138752516  b2d22320cec61eba3009368c2093f6f4   \n",
       "907702   4823134275576720  246413063417  3fd1be2a78f5d2227f3922f373188c09   \n",
       "1282908     4571983863842  664596582306  264618bb89847488796f35fd267c652a   \n",
       "\n",
       "          unix_time        category       amt is_fraud  \\\n",
       "536255   1627878405  health_fitness  31772.59        0   \n",
       "907702   1592569545    shopping_net  41300.53        0   \n",
       "1282908  1632037307  health_fitness  31412.68        0   \n",
       "\n",
       "                           merchant  merch_lat  merch_long  ...        dob  \\\n",
       "536255   Santiago, Carroll and Chen  40.917353  -72.726208  ... 1954-10-04   \n",
       "907702                 Vaughn-Hogan  28.147489  -81.973396  ... 2007-08-20   \n",
       "1282908                   Garza Ltd  42.887923  -79.610140  ... 1941-12-24   \n",
       "\n",
       "                   datetime  year month day hour minute second  distance_km  \\\n",
       "536255  2021-08-02 04:26:45  2021     8   2    4     26     45    85.918559   \n",
       "907702  2020-06-19 12:25:45  2020     6  19   12     25     45   119.990064   \n",
       "1282908 2021-09-19 07:41:47  2021     9  19    7     41     47    65.238855   \n",
       "\n",
       "         age  \n",
       "536255    68  \n",
       "907702    15  \n",
       "1282908   81  \n",
       "\n",
       "[3 rows x 33 columns]"
      ]
     },
     "execution_count": 1921,
     "metadata": {},
     "output_type": "execute_result"
    }
   ],
   "source": [
    "# Displaying the rows with amt >= 30000\n",
    "df_bank_data[df_bank_data['amt'] >= 30000]"
   ]
  },
  {
   "attachments": {},
   "cell_type": "markdown",
   "metadata": {},
   "source": [
    "The transactions conducted by elderly customers belong to health-related matters, which appears logical and potentially associated with their health conditions. In contrast, the second transaction observed in the results is made by a teenager for an online shopping purpose. These transactions are classified as non-fraudulent, as indicated by a value of 0. "
   ]
  },
  {
   "cell_type": "code",
   "execution_count": 1922,
   "metadata": {},
   "outputs": [
    {
     "data": {
      "text/plain": [
       "<Axes: xlabel='distance_km'>"
      ]
     },
     "execution_count": 1922,
     "metadata": {},
     "output_type": "execute_result"
    },
    {
     "data": {
      "image/png": "[encoded data removed]",
      "text/plain": [
       "<Figure size 640x480 with 1 Axes>"
      ]
     },
     "metadata": {},
     "output_type": "display_data"
    }
   ],
   "source": [
    "# Ploting the graph for 'distance_km' feature\n",
    "sns.boxplot(x='distance_km', data=df_numerical_features, color='green')"
   ]
  },
  {
   "attachments": {},
   "cell_type": "markdown",
   "metadata": {},
   "source": [
    "• Checking the rows with distance_km >= 151"
   ]
  },
  {
   "cell_type": "code",
   "execution_count": 1923,
   "metadata": {},
   "outputs": [
    {
     "data": {
      "text/html": [
       "<div>\n",
       "<style scoped>\n",
       "    .dataframe tbody tr th:only-of-type {\n",
       "        vertical-align: middle;\n",
       "    }\n",
       "\n",
       "    .dataframe tbody tr th {\n",
       "        vertical-align: top;\n",
       "    }\n",
       "\n",
       "    .dataframe thead th {\n",
       "        text-align: right;\n",
       "    }\n",
       "</style>\n",
       "<table border=\"1\" class=\"dataframe\">\n",
       "  <thead>\n",
       "    <tr style=\"text-align: right;\">\n",
       "      <th></th>\n",
       "      <th>cc_num_x</th>\n",
       "      <th>acct_num</th>\n",
       "      <th>trans_num</th>\n",
       "      <th>unix_time</th>\n",
       "      <th>category</th>\n",
       "      <th>amt</th>\n",
       "      <th>is_fraud</th>\n",
       "      <th>merchant</th>\n",
       "      <th>merch_lat</th>\n",
       "      <th>merch_long</th>\n",
       "      <th>...</th>\n",
       "      <th>dob</th>\n",
       "      <th>datetime</th>\n",
       "      <th>year</th>\n",
       "      <th>month</th>\n",
       "      <th>day</th>\n",
       "      <th>hour</th>\n",
       "      <th>minute</th>\n",
       "      <th>second</th>\n",
       "      <th>distance_km</th>\n",
       "      <th>age</th>\n",
       "    </tr>\n",
       "  </thead>\n",
       "  <tbody>\n",
       "    <tr>\n",
       "      <th>683612</th>\n",
       "      <td>213186702440330</td>\n",
       "      <td>167155722951</td>\n",
       "      <td>255b5db0f3afe4f09ad2818d5efb574c</td>\n",
       "      <td>1554316535</td>\n",
       "      <td>gas_transport</td>\n",
       "      <td>2.64</td>\n",
       "      <td>0</td>\n",
       "      <td>Chavez Inc</td>\n",
       "      <td>18.599113</td>\n",
       "      <td>-155.991401</td>\n",
       "      <td>...</td>\n",
       "      <td>1965-06-17</td>\n",
       "      <td>2019-04-03 18:35:35</td>\n",
       "      <td>2019</td>\n",
       "      <td>4</td>\n",
       "      <td>3</td>\n",
       "      <td>18</td>\n",
       "      <td>35</td>\n",
       "      <td>35</td>\n",
       "      <td>152.109157</td>\n",
       "      <td>57</td>\n",
       "    </tr>\n",
       "    <tr>\n",
       "      <th>1348950</th>\n",
       "      <td>2687017999324205</td>\n",
       "      <td>856538458652</td>\n",
       "      <td>5bbea0f3541b9c9a058b0fa44f679dc7</td>\n",
       "      <td>1548189904</td>\n",
       "      <td>gas_transport</td>\n",
       "      <td>62.20</td>\n",
       "      <td>0</td>\n",
       "      <td>Moore-Harris</td>\n",
       "      <td>21.092325</td>\n",
       "      <td>-158.346945</td>\n",
       "      <td>...</td>\n",
       "      <td>1998-05-13</td>\n",
       "      <td>2019-01-22 20:45:04</td>\n",
       "      <td>2019</td>\n",
       "      <td>1</td>\n",
       "      <td>22</td>\n",
       "      <td>20</td>\n",
       "      <td>45</td>\n",
       "      <td>4</td>\n",
       "      <td>151.235304</td>\n",
       "      <td>25</td>\n",
       "    </tr>\n",
       "    <tr>\n",
       "      <th>1349952</th>\n",
       "      <td>2687017999324205</td>\n",
       "      <td>856538458652</td>\n",
       "      <td>e6ebf7921279ca7dad06224a98bdb200</td>\n",
       "      <td>1624246356</td>\n",
       "      <td>entertainment</td>\n",
       "      <td>195.64</td>\n",
       "      <td>0</td>\n",
       "      <td>Watson-Richardson</td>\n",
       "      <td>21.087811</td>\n",
       "      <td>-158.349389</td>\n",
       "      <td>...</td>\n",
       "      <td>1998-05-13</td>\n",
       "      <td>2021-06-21 03:32:36</td>\n",
       "      <td>2021</td>\n",
       "      <td>6</td>\n",
       "      <td>21</td>\n",
       "      <td>3</td>\n",
       "      <td>32</td>\n",
       "      <td>36</td>\n",
       "      <td>151.431926</td>\n",
       "      <td>25</td>\n",
       "    </tr>\n",
       "    <tr>\n",
       "      <th>3109420</th>\n",
       "      <td>3559229127065930</td>\n",
       "      <td>22301959346</td>\n",
       "      <td>4b08af70481a5636e71831a9b2034ab0</td>\n",
       "      <td>1667360092</td>\n",
       "      <td>home</td>\n",
       "      <td>8.22</td>\n",
       "      <td>0</td>\n",
       "      <td>Cunningham and Sons</td>\n",
       "      <td>18.704052</td>\n",
       "      <td>-156.071801</td>\n",
       "      <td>...</td>\n",
       "      <td>1983-10-19</td>\n",
       "      <td>2022-11-02 03:34:52</td>\n",
       "      <td>2022</td>\n",
       "      <td>11</td>\n",
       "      <td>2</td>\n",
       "      <td>3</td>\n",
       "      <td>34</td>\n",
       "      <td>52</td>\n",
       "      <td>151.229074</td>\n",
       "      <td>39</td>\n",
       "    </tr>\n",
       "    <tr>\n",
       "      <th>3109674</th>\n",
       "      <td>3559229127065930</td>\n",
       "      <td>22301959346</td>\n",
       "      <td>4dcde19be5dcc0f7339b38758c257074</td>\n",
       "      <td>1664020293</td>\n",
       "      <td>health_fitness</td>\n",
       "      <td>3.77</td>\n",
       "      <td>0</td>\n",
       "      <td>Grant, Sawyer and Scott</td>\n",
       "      <td>20.689696</td>\n",
       "      <td>-156.089344</td>\n",
       "      <td>...</td>\n",
       "      <td>1983-10-19</td>\n",
       "      <td>2022-09-24 11:51:33</td>\n",
       "      <td>2022</td>\n",
       "      <td>9</td>\n",
       "      <td>24</td>\n",
       "      <td>11</td>\n",
       "      <td>51</td>\n",
       "      <td>33</td>\n",
       "      <td>151.132215</td>\n",
       "      <td>39</td>\n",
       "    </tr>\n",
       "    <tr>\n",
       "      <th>3327823</th>\n",
       "      <td>3559229127065930</td>\n",
       "      <td>22301959346</td>\n",
       "      <td>f62932cbd14812d1451edae1ceca4188</td>\n",
       "      <td>1654570918</td>\n",
       "      <td>home</td>\n",
       "      <td>47.82</td>\n",
       "      <td>0</td>\n",
       "      <td>Johnson-Holloway</td>\n",
       "      <td>18.719713</td>\n",
       "      <td>-154.095291</td>\n",
       "      <td>...</td>\n",
       "      <td>1983-10-19</td>\n",
       "      <td>2022-06-07 03:01:58</td>\n",
       "      <td>2022</td>\n",
       "      <td>6</td>\n",
       "      <td>7</td>\n",
       "      <td>3</td>\n",
       "      <td>1</td>\n",
       "      <td>58</td>\n",
       "      <td>151.449178</td>\n",
       "      <td>39</td>\n",
       "    </tr>\n",
       "    <tr>\n",
       "      <th>3335762</th>\n",
       "      <td>30295458583564</td>\n",
       "      <td>807450374964</td>\n",
       "      <td>565309fa39c1081a951b3caf1a7e0777</td>\n",
       "      <td>1625894234</td>\n",
       "      <td>food_dining</td>\n",
       "      <td>142.97</td>\n",
       "      <td>0</td>\n",
       "      <td>Lambert-Hamilton</td>\n",
       "      <td>18.711453</td>\n",
       "      <td>-156.082856</td>\n",
       "      <td>...</td>\n",
       "      <td>1983-06-26</td>\n",
       "      <td>2021-07-10 05:17:14</td>\n",
       "      <td>2021</td>\n",
       "      <td>7</td>\n",
       "      <td>10</td>\n",
       "      <td>5</td>\n",
       "      <td>17</td>\n",
       "      <td>14</td>\n",
       "      <td>151.418119</td>\n",
       "      <td>39</td>\n",
       "    </tr>\n",
       "  </tbody>\n",
       "</table>\n",
       "<p>7 rows × 33 columns</p>\n",
       "</div>"
      ],
      "text/plain": [
       "                 cc_num_x      acct_num                         trans_num  \\\n",
       "683612    213186702440330  167155722951  255b5db0f3afe4f09ad2818d5efb574c   \n",
       "1348950  2687017999324205  856538458652  5bbea0f3541b9c9a058b0fa44f679dc7   \n",
       "1349952  2687017999324205  856538458652  e6ebf7921279ca7dad06224a98bdb200   \n",
       "3109420  3559229127065930   22301959346  4b08af70481a5636e71831a9b2034ab0   \n",
       "3109674  3559229127065930   22301959346  4dcde19be5dcc0f7339b38758c257074   \n",
       "3327823  3559229127065930   22301959346  f62932cbd14812d1451edae1ceca4188   \n",
       "3335762    30295458583564  807450374964  565309fa39c1081a951b3caf1a7e0777   \n",
       "\n",
       "          unix_time        category     amt is_fraud                 merchant  \\\n",
       "683612   1554316535   gas_transport    2.64        0               Chavez Inc   \n",
       "1348950  1548189904   gas_transport   62.20        0             Moore-Harris   \n",
       "1349952  1624246356   entertainment  195.64        0        Watson-Richardson   \n",
       "3109420  1667360092            home    8.22        0      Cunningham and Sons   \n",
       "3109674  1664020293  health_fitness    3.77        0  Grant, Sawyer and Scott   \n",
       "3327823  1654570918            home   47.82        0         Johnson-Holloway   \n",
       "3335762  1625894234     food_dining  142.97        0         Lambert-Hamilton   \n",
       "\n",
       "         merch_lat  merch_long  ...        dob            datetime  year  \\\n",
       "683612   18.599113 -155.991401  ... 1965-06-17 2019-04-03 18:35:35  2019   \n",
       "1348950  21.092325 -158.346945  ... 1998-05-13 2019-01-22 20:45:04  2019   \n",
       "1349952  21.087811 -158.349389  ... 1998-05-13 2021-06-21 03:32:36  2021   \n",
       "3109420  18.704052 -156.071801  ... 1983-10-19 2022-11-02 03:34:52  2022   \n",
       "3109674  20.689696 -156.089344  ... 1983-10-19 2022-09-24 11:51:33  2022   \n",
       "3327823  18.719713 -154.095291  ... 1983-10-19 2022-06-07 03:01:58  2022   \n",
       "3335762  18.711453 -156.082856  ... 1983-06-26 2021-07-10 05:17:14  2021   \n",
       "\n",
       "        month day hour minute second  distance_km  age  \n",
       "683612      4   3   18     35     35   152.109157   57  \n",
       "1348950     1  22   20     45      4   151.235304   25  \n",
       "1349952     6  21    3     32     36   151.431926   25  \n",
       "3109420    11   2    3     34     52   151.229074   39  \n",
       "3109674     9  24   11     51     33   151.132215   39  \n",
       "3327823     6   7    3      1     58   151.449178   39  \n",
       "3335762     7  10    5     17     14   151.418119   39  \n",
       "\n",
       "[7 rows x 33 columns]"
      ]
     },
     "execution_count": 1923,
     "metadata": {},
     "output_type": "execute_result"
    }
   ],
   "source": [
    "# Displaying the rows with distance_km >= 151\n",
    "df_bank_data[df_bank_data['distance_km'] >= 151]"
   ]
  },
  {
   "attachments": {},
   "cell_type": "markdown",
   "metadata": {},
   "source": [
    "Even though the transactions taking place away the customers' residential locations, they seem to be related to travel based on the transaction category. Also, these transactions are marked as non-fraudulent, denoted by a value of 0."
   ]
  },
  {
   "cell_type": "code",
   "execution_count": 1924,
   "metadata": {},
   "outputs": [
    {
     "data": {
      "text/plain": [
       "<Axes: xlabel='age'>"
      ]
     },
     "execution_count": 1924,
     "metadata": {},
     "output_type": "execute_result"
    },
    {
     "data": {
      "image/png": "[encoded data removed]",
      "text/plain": [
       "<Figure size 640x480 with 1 Axes>"
      ]
     },
     "metadata": {},
     "output_type": "display_data"
    }
   ],
   "source": [
    "# Ploting the graph for 'age' feature\n",
    "sns.boxplot(x='age', data=df_numerical_features, color='green')"
   ]
  },
  {
   "attachments": {},
   "cell_type": "markdown",
   "metadata": {},
   "source": [
    "• Checking the rows with customer's age < 16"
   ]
  },
  {
   "cell_type": "code",
   "execution_count": 1925,
   "metadata": {},
   "outputs": [
    {
     "data": {
      "text/html": [
       "<div>\n",
       "<style scoped>\n",
       "    .dataframe tbody tr th:only-of-type {\n",
       "        vertical-align: middle;\n",
       "    }\n",
       "\n",
       "    .dataframe tbody tr th {\n",
       "        vertical-align: top;\n",
       "    }\n",
       "\n",
       "    .dataframe thead th {\n",
       "        text-align: right;\n",
       "    }\n",
       "</style>\n",
       "<table border=\"1\" class=\"dataframe\">\n",
       "  <thead>\n",
       "    <tr style=\"text-align: right;\">\n",
       "      <th></th>\n",
       "      <th>cc_num_x</th>\n",
       "      <th>acct_num</th>\n",
       "      <th>trans_num</th>\n",
       "      <th>unix_time</th>\n",
       "      <th>category</th>\n",
       "      <th>amt</th>\n",
       "      <th>is_fraud</th>\n",
       "      <th>merchant</th>\n",
       "      <th>merch_lat</th>\n",
       "      <th>merch_long</th>\n",
       "      <th>...</th>\n",
       "      <th>dob</th>\n",
       "      <th>datetime</th>\n",
       "      <th>year</th>\n",
       "      <th>month</th>\n",
       "      <th>day</th>\n",
       "      <th>hour</th>\n",
       "      <th>minute</th>\n",
       "      <th>second</th>\n",
       "      <th>distance_km</th>\n",
       "      <th>age</th>\n",
       "    </tr>\n",
       "  </thead>\n",
       "  <tbody>\n",
       "    <tr>\n",
       "      <th>7523</th>\n",
       "      <td>4823134275576720</td>\n",
       "      <td>246413063417</td>\n",
       "      <td>5c611ba937be6764d6ef1690a28b4d32</td>\n",
       "      <td>1642798189</td>\n",
       "      <td>gas_transport</td>\n",
       "      <td>59.73</td>\n",
       "      <td>0</td>\n",
       "      <td>Valencia, Faulkner and Brown</td>\n",
       "      <td>29.214298</td>\n",
       "      <td>-81.601368</td>\n",
       "      <td>...</td>\n",
       "      <td>2007-08-20</td>\n",
       "      <td>2022-01-21 20:49:49</td>\n",
       "      <td>2022</td>\n",
       "      <td>1</td>\n",
       "      <td>21</td>\n",
       "      <td>20</td>\n",
       "      <td>49</td>\n",
       "      <td>49</td>\n",
       "      <td>36.093805</td>\n",
       "      <td>15</td>\n",
       "    </tr>\n",
       "    <tr>\n",
       "      <th>7524</th>\n",
       "      <td>4823134275576720</td>\n",
       "      <td>246413063417</td>\n",
       "      <td>7d88cd984307af0eebf8c27a102e641f</td>\n",
       "      <td>1646941895</td>\n",
       "      <td>gas_transport</td>\n",
       "      <td>48.10</td>\n",
       "      <td>0</td>\n",
       "      <td>Wood, Nelson and Williams</td>\n",
       "      <td>28.941279</td>\n",
       "      <td>-81.401842</td>\n",
       "      <td>...</td>\n",
       "      <td>2007-08-20</td>\n",
       "      <td>2022-03-10 19:51:35</td>\n",
       "      <td>2022</td>\n",
       "      <td>3</td>\n",
       "      <td>10</td>\n",
       "      <td>19</td>\n",
       "      <td>51</td>\n",
       "      <td>35</td>\n",
       "      <td>15.881365</td>\n",
       "      <td>15</td>\n",
       "    </tr>\n",
       "    <tr>\n",
       "      <th>7525</th>\n",
       "      <td>4823134275576720</td>\n",
       "      <td>246413063417</td>\n",
       "      <td>920be23f5d10ead946c9d93fc0a925c3</td>\n",
       "      <td>1643837207</td>\n",
       "      <td>gas_transport</td>\n",
       "      <td>58.37</td>\n",
       "      <td>0</td>\n",
       "      <td>Smith, Bentley and Johnston</td>\n",
       "      <td>28.336103</td>\n",
       "      <td>-80.427514</td>\n",
       "      <td>...</td>\n",
       "      <td>2007-08-20</td>\n",
       "      <td>2022-02-02 21:26:47</td>\n",
       "      <td>2022</td>\n",
       "      <td>2</td>\n",
       "      <td>2</td>\n",
       "      <td>21</td>\n",
       "      <td>26</td>\n",
       "      <td>47</td>\n",
       "      <td>114.811470</td>\n",
       "      <td>15</td>\n",
       "    </tr>\n",
       "    <tr>\n",
       "      <th>7526</th>\n",
       "      <td>4823134275576720</td>\n",
       "      <td>246413063417</td>\n",
       "      <td>368b809b84689c8b35d8b427b37019ae</td>\n",
       "      <td>1649293809</td>\n",
       "      <td>grocery_pos</td>\n",
       "      <td>36.19</td>\n",
       "      <td>0</td>\n",
       "      <td>Sanchez PLC</td>\n",
       "      <td>28.729637</td>\n",
       "      <td>-80.331021</td>\n",
       "      <td>...</td>\n",
       "      <td>2007-08-20</td>\n",
       "      <td>2022-04-07 01:10:09</td>\n",
       "      <td>2022</td>\n",
       "      <td>4</td>\n",
       "      <td>7</td>\n",
       "      <td>1</td>\n",
       "      <td>10</td>\n",
       "      <td>9</td>\n",
       "      <td>99.287637</td>\n",
       "      <td>15</td>\n",
       "    </tr>\n",
       "    <tr>\n",
       "      <th>7527</th>\n",
       "      <td>4823134275576720</td>\n",
       "      <td>246413063417</td>\n",
       "      <td>7c40bff3f0a04d6d1acdd146adce0d9f</td>\n",
       "      <td>1647617371</td>\n",
       "      <td>grocery_net</td>\n",
       "      <td>72.37</td>\n",
       "      <td>0</td>\n",
       "      <td>Hunt Ltd</td>\n",
       "      <td>30.017312</td>\n",
       "      <td>-81.299676</td>\n",
       "      <td>...</td>\n",
       "      <td>2007-08-20</td>\n",
       "      <td>2022-03-18 15:29:31</td>\n",
       "      <td>2022</td>\n",
       "      <td>3</td>\n",
       "      <td>18</td>\n",
       "      <td>15</td>\n",
       "      <td>29</td>\n",
       "      <td>31</td>\n",
       "      <td>108.435230</td>\n",
       "      <td>15</td>\n",
       "    </tr>\n",
       "    <tr>\n",
       "      <th>...</th>\n",
       "      <td>...</td>\n",
       "      <td>...</td>\n",
       "      <td>...</td>\n",
       "      <td>...</td>\n",
       "      <td>...</td>\n",
       "      <td>...</td>\n",
       "      <td>...</td>\n",
       "      <td>...</td>\n",
       "      <td>...</td>\n",
       "      <td>...</td>\n",
       "      <td>...</td>\n",
       "      <td>...</td>\n",
       "      <td>...</td>\n",
       "      <td>...</td>\n",
       "      <td>...</td>\n",
       "      <td>...</td>\n",
       "      <td>...</td>\n",
       "      <td>...</td>\n",
       "      <td>...</td>\n",
       "      <td>...</td>\n",
       "      <td>...</td>\n",
       "    </tr>\n",
       "    <tr>\n",
       "      <th>907764</th>\n",
       "      <td>4823134275576720</td>\n",
       "      <td>246413063417</td>\n",
       "      <td>f886af96b37d59e3647d996dc23c5cef</td>\n",
       "      <td>1626606749</td>\n",
       "      <td>food_dining</td>\n",
       "      <td>3.70</td>\n",
       "      <td>0</td>\n",
       "      <td>Mclaughlin LLC</td>\n",
       "      <td>28.827840</td>\n",
       "      <td>-80.942089</td>\n",
       "      <td>...</td>\n",
       "      <td>2007-08-20</td>\n",
       "      <td>2021-07-18 11:12:29</td>\n",
       "      <td>2021</td>\n",
       "      <td>7</td>\n",
       "      <td>18</td>\n",
       "      <td>11</td>\n",
       "      <td>12</td>\n",
       "      <td>29</td>\n",
       "      <td>41.111632</td>\n",
       "      <td>15</td>\n",
       "    </tr>\n",
       "    <tr>\n",
       "      <th>907765</th>\n",
       "      <td>4823134275576720</td>\n",
       "      <td>246413063417</td>\n",
       "      <td>5ebc9e59b19ad6e4b7e0a03e6262bd57</td>\n",
       "      <td>1580555506</td>\n",
       "      <td>misc_net</td>\n",
       "      <td>3.52</td>\n",
       "      <td>0</td>\n",
       "      <td>Perez and Sons</td>\n",
       "      <td>28.381307</td>\n",
       "      <td>-82.053096</td>\n",
       "      <td>...</td>\n",
       "      <td>2007-08-20</td>\n",
       "      <td>2020-02-01 11:11:46</td>\n",
       "      <td>2020</td>\n",
       "      <td>2</td>\n",
       "      <td>1</td>\n",
       "      <td>11</td>\n",
       "      <td>11</td>\n",
       "      <td>46</td>\n",
       "      <td>104.844910</td>\n",
       "      <td>15</td>\n",
       "    </tr>\n",
       "    <tr>\n",
       "      <th>907766</th>\n",
       "      <td>4823134275576720</td>\n",
       "      <td>246413063417</td>\n",
       "      <td>6bdf3a8313d5434add21aa347aca51dd</td>\n",
       "      <td>1623745237</td>\n",
       "      <td>entertainment</td>\n",
       "      <td>6.50</td>\n",
       "      <td>0</td>\n",
       "      <td>Boyd and Sons</td>\n",
       "      <td>29.483751</td>\n",
       "      <td>-81.068578</td>\n",
       "      <td>...</td>\n",
       "      <td>2007-08-20</td>\n",
       "      <td>2021-06-15 08:20:37</td>\n",
       "      <td>2021</td>\n",
       "      <td>6</td>\n",
       "      <td>15</td>\n",
       "      <td>8</td>\n",
       "      <td>20</td>\n",
       "      <td>37</td>\n",
       "      <td>53.448010</td>\n",
       "      <td>15</td>\n",
       "    </tr>\n",
       "    <tr>\n",
       "      <th>907767</th>\n",
       "      <td>4823134275576720</td>\n",
       "      <td>246413063417</td>\n",
       "      <td>cb1f1b53d70855722a6b01dee7a72f92</td>\n",
       "      <td>1662533250</td>\n",
       "      <td>personal_care</td>\n",
       "      <td>1.09</td>\n",
       "      <td>0</td>\n",
       "      <td>Jones, Arnold and Rodriguez</td>\n",
       "      <td>29.987176</td>\n",
       "      <td>-82.018980</td>\n",
       "      <td>...</td>\n",
       "      <td>2007-08-20</td>\n",
       "      <td>2022-09-07 06:47:30</td>\n",
       "      <td>2022</td>\n",
       "      <td>9</td>\n",
       "      <td>7</td>\n",
       "      <td>6</td>\n",
       "      <td>47</td>\n",
       "      <td>30</td>\n",
       "      <td>126.757027</td>\n",
       "      <td>15</td>\n",
       "    </tr>\n",
       "    <tr>\n",
       "      <th>907768</th>\n",
       "      <td>4823134275576720</td>\n",
       "      <td>246413063417</td>\n",
       "      <td>72044c988731b24d74d1384c844177b7</td>\n",
       "      <td>1657352238</td>\n",
       "      <td>kids_pets</td>\n",
       "      <td>2.55</td>\n",
       "      <td>0</td>\n",
       "      <td>Bowman-Bailey</td>\n",
       "      <td>28.117838</td>\n",
       "      <td>-81.057994</td>\n",
       "      <td>...</td>\n",
       "      <td>2007-08-20</td>\n",
       "      <td>2022-07-09 07:37:18</td>\n",
       "      <td>2022</td>\n",
       "      <td>7</td>\n",
       "      <td>9</td>\n",
       "      <td>7</td>\n",
       "      <td>37</td>\n",
       "      <td>18</td>\n",
       "      <td>105.174087</td>\n",
       "      <td>15</td>\n",
       "    </tr>\n",
       "  </tbody>\n",
       "</table>\n",
       "<p>6886 rows × 33 columns</p>\n",
       "</div>"
      ],
      "text/plain": [
       "                cc_num_x      acct_num                         trans_num  \\\n",
       "7523    4823134275576720  246413063417  5c611ba937be6764d6ef1690a28b4d32   \n",
       "7524    4823134275576720  246413063417  7d88cd984307af0eebf8c27a102e641f   \n",
       "7525    4823134275576720  246413063417  920be23f5d10ead946c9d93fc0a925c3   \n",
       "7526    4823134275576720  246413063417  368b809b84689c8b35d8b427b37019ae   \n",
       "7527    4823134275576720  246413063417  7c40bff3f0a04d6d1acdd146adce0d9f   \n",
       "...                  ...           ...                               ...   \n",
       "907764  4823134275576720  246413063417  f886af96b37d59e3647d996dc23c5cef   \n",
       "907765  4823134275576720  246413063417  5ebc9e59b19ad6e4b7e0a03e6262bd57   \n",
       "907766  4823134275576720  246413063417  6bdf3a8313d5434add21aa347aca51dd   \n",
       "907767  4823134275576720  246413063417  cb1f1b53d70855722a6b01dee7a72f92   \n",
       "907768  4823134275576720  246413063417  72044c988731b24d74d1384c844177b7   \n",
       "\n",
       "         unix_time       category    amt is_fraud  \\\n",
       "7523    1642798189  gas_transport  59.73        0   \n",
       "7524    1646941895  gas_transport  48.10        0   \n",
       "7525    1643837207  gas_transport  58.37        0   \n",
       "7526    1649293809    grocery_pos  36.19        0   \n",
       "7527    1647617371    grocery_net  72.37        0   \n",
       "...            ...            ...    ...      ...   \n",
       "907764  1626606749    food_dining   3.70        0   \n",
       "907765  1580555506       misc_net   3.52        0   \n",
       "907766  1623745237  entertainment   6.50        0   \n",
       "907767  1662533250  personal_care   1.09        0   \n",
       "907768  1657352238      kids_pets   2.55        0   \n",
       "\n",
       "                            merchant  merch_lat  merch_long  ...        dob  \\\n",
       "7523    Valencia, Faulkner and Brown  29.214298  -81.601368  ... 2007-08-20   \n",
       "7524       Wood, Nelson and Williams  28.941279  -81.401842  ... 2007-08-20   \n",
       "7525     Smith, Bentley and Johnston  28.336103  -80.427514  ... 2007-08-20   \n",
       "7526                     Sanchez PLC  28.729637  -80.331021  ... 2007-08-20   \n",
       "7527                        Hunt Ltd  30.017312  -81.299676  ... 2007-08-20   \n",
       "...                              ...        ...         ...  ...        ...   \n",
       "907764                Mclaughlin LLC  28.827840  -80.942089  ... 2007-08-20   \n",
       "907765                Perez and Sons  28.381307  -82.053096  ... 2007-08-20   \n",
       "907766                 Boyd and Sons  29.483751  -81.068578  ... 2007-08-20   \n",
       "907767   Jones, Arnold and Rodriguez  29.987176  -82.018980  ... 2007-08-20   \n",
       "907768                 Bowman-Bailey  28.117838  -81.057994  ... 2007-08-20   \n",
       "\n",
       "                  datetime  year month day hour minute second  distance_km  \\\n",
       "7523   2022-01-21 20:49:49  2022     1  21   20     49     49    36.093805   \n",
       "7524   2022-03-10 19:51:35  2022     3  10   19     51     35    15.881365   \n",
       "7525   2022-02-02 21:26:47  2022     2   2   21     26     47   114.811470   \n",
       "7526   2022-04-07 01:10:09  2022     4   7    1     10      9    99.287637   \n",
       "7527   2022-03-18 15:29:31  2022     3  18   15     29     31   108.435230   \n",
       "...                    ...   ...   ...  ..  ...    ...    ...          ...   \n",
       "907764 2021-07-18 11:12:29  2021     7  18   11     12     29    41.111632   \n",
       "907765 2020-02-01 11:11:46  2020     2   1   11     11     46   104.844910   \n",
       "907766 2021-06-15 08:20:37  2021     6  15    8     20     37    53.448010   \n",
       "907767 2022-09-07 06:47:30  2022     9   7    6     47     30   126.757027   \n",
       "907768 2022-07-09 07:37:18  2022     7   9    7     37     18   105.174087   \n",
       "\n",
       "        age  \n",
       "7523     15  \n",
       "7524     15  \n",
       "7525     15  \n",
       "7526     15  \n",
       "7527     15  \n",
       "...     ...  \n",
       "907764   15  \n",
       "907765   15  \n",
       "907766   15  \n",
       "907767   15  \n",
       "907768   15  \n",
       "\n",
       "[6886 rows x 33 columns]"
      ]
     },
     "execution_count": 1925,
     "metadata": {},
     "output_type": "execute_result"
    }
   ],
   "source": [
    "# Displaying the rows with age < 16\n",
    "df_bank_data[df_bank_data['age'] < 16]"
   ]
  },
  {
   "attachments": {},
   "cell_type": "markdown",
   "metadata": {},
   "source": [
    "Most of the transactions conducted by young customers from the above result appear to be align with the activities commonly associated with their age group such as entertainment, dining, petrol related expenses. And, these transactions are classified as non-fraudulent, denoted by a value of 0."
   ]
  },
  {
   "attachments": {},
   "cell_type": "markdown",
   "metadata": {},
   "source": [
    "• Displaying the rows with age > 94"
   ]
  },
  {
   "cell_type": "code",
   "execution_count": 1926,
   "metadata": {},
   "outputs": [
    {
     "data": {
      "text/html": [
       "<div>\n",
       "<style scoped>\n",
       "    .dataframe tbody tr th:only-of-type {\n",
       "        vertical-align: middle;\n",
       "    }\n",
       "\n",
       "    .dataframe tbody tr th {\n",
       "        vertical-align: top;\n",
       "    }\n",
       "\n",
       "    .dataframe thead th {\n",
       "        text-align: right;\n",
       "    }\n",
       "</style>\n",
       "<table border=\"1\" class=\"dataframe\">\n",
       "  <thead>\n",
       "    <tr style=\"text-align: right;\">\n",
       "      <th></th>\n",
       "      <th>cc_num_x</th>\n",
       "      <th>acct_num</th>\n",
       "      <th>trans_num</th>\n",
       "      <th>unix_time</th>\n",
       "      <th>category</th>\n",
       "      <th>amt</th>\n",
       "      <th>is_fraud</th>\n",
       "      <th>merchant</th>\n",
       "      <th>merch_lat</th>\n",
       "      <th>merch_long</th>\n",
       "      <th>...</th>\n",
       "      <th>dob</th>\n",
       "      <th>datetime</th>\n",
       "      <th>year</th>\n",
       "      <th>month</th>\n",
       "      <th>day</th>\n",
       "      <th>hour</th>\n",
       "      <th>minute</th>\n",
       "      <th>second</th>\n",
       "      <th>distance_km</th>\n",
       "      <th>age</th>\n",
       "    </tr>\n",
       "  </thead>\n",
       "  <tbody>\n",
       "    <tr>\n",
       "      <th>788798</th>\n",
       "      <td>2269802530843763</td>\n",
       "      <td>157814049136</td>\n",
       "      <td>9c74b3550aec630474ddee4d85c1cf73</td>\n",
       "      <td>1562779498</td>\n",
       "      <td>grocery_net</td>\n",
       "      <td>95.01</td>\n",
       "      <td>0</td>\n",
       "      <td>Fuentes-Chavez</td>\n",
       "      <td>43.336610</td>\n",
       "      <td>-121.003508</td>\n",
       "      <td>...</td>\n",
       "      <td>1927-07-30</td>\n",
       "      <td>2019-07-10 17:24:58</td>\n",
       "      <td>2019</td>\n",
       "      <td>7</td>\n",
       "      <td>10</td>\n",
       "      <td>17</td>\n",
       "      <td>24</td>\n",
       "      <td>58</td>\n",
       "      <td>108.473180</td>\n",
       "      <td>95</td>\n",
       "    </tr>\n",
       "    <tr>\n",
       "      <th>788799</th>\n",
       "      <td>2269802530843763</td>\n",
       "      <td>157814049136</td>\n",
       "      <td>e89fab8fc8dad897fd7606e9ae95ea42</td>\n",
       "      <td>1575304195</td>\n",
       "      <td>grocery_pos</td>\n",
       "      <td>61.09</td>\n",
       "      <td>0</td>\n",
       "      <td>Lloyd, Hughes and Villegas</td>\n",
       "      <td>43.531447</td>\n",
       "      <td>-121.468573</td>\n",
       "      <td>...</td>\n",
       "      <td>1927-07-30</td>\n",
       "      <td>2019-12-02 16:29:55</td>\n",
       "      <td>2019</td>\n",
       "      <td>12</td>\n",
       "      <td>2</td>\n",
       "      <td>16</td>\n",
       "      <td>29</td>\n",
       "      <td>55</td>\n",
       "      <td>99.868362</td>\n",
       "      <td>95</td>\n",
       "    </tr>\n",
       "    <tr>\n",
       "      <th>788800</th>\n",
       "      <td>2269802530843763</td>\n",
       "      <td>157814049136</td>\n",
       "      <td>a937f32fc0ca3d2aae2b5b78275886a7</td>\n",
       "      <td>1561131127</td>\n",
       "      <td>grocery_net</td>\n",
       "      <td>46.56</td>\n",
       "      <td>0</td>\n",
       "      <td>Mayer LLC</td>\n",
       "      <td>44.248968</td>\n",
       "      <td>-121.293858</td>\n",
       "      <td>...</td>\n",
       "      <td>1927-07-30</td>\n",
       "      <td>2019-06-21 15:32:07</td>\n",
       "      <td>2019</td>\n",
       "      <td>6</td>\n",
       "      <td>21</td>\n",
       "      <td>15</td>\n",
       "      <td>32</td>\n",
       "      <td>7</td>\n",
       "      <td>37.157263</td>\n",
       "      <td>95</td>\n",
       "    </tr>\n",
       "    <tr>\n",
       "      <th>788801</th>\n",
       "      <td>2269802530843763</td>\n",
       "      <td>157814049136</td>\n",
       "      <td>5a29bc403fcd6ab016bd6c1bf0929e67</td>\n",
       "      <td>1591970997</td>\n",
       "      <td>shopping_net</td>\n",
       "      <td>68.10</td>\n",
       "      <td>0</td>\n",
       "      <td>Wolfe LLC</td>\n",
       "      <td>44.845932</td>\n",
       "      <td>-120.712527</td>\n",
       "      <td>...</td>\n",
       "      <td>1927-07-30</td>\n",
       "      <td>2020-06-12 14:09:57</td>\n",
       "      <td>2020</td>\n",
       "      <td>6</td>\n",
       "      <td>12</td>\n",
       "      <td>14</td>\n",
       "      <td>9</td>\n",
       "      <td>57</td>\n",
       "      <td>60.974447</td>\n",
       "      <td>95</td>\n",
       "    </tr>\n",
       "    <tr>\n",
       "      <th>788802</th>\n",
       "      <td>2269802530843763</td>\n",
       "      <td>157814049136</td>\n",
       "      <td>c5e8222c8a94f27042f3217d1a074aa4</td>\n",
       "      <td>1599165952</td>\n",
       "      <td>shopping_pos</td>\n",
       "      <td>78.64</td>\n",
       "      <td>0</td>\n",
       "      <td>Bush-Cruz</td>\n",
       "      <td>44.589246</td>\n",
       "      <td>-121.128497</td>\n",
       "      <td>...</td>\n",
       "      <td>1927-07-30</td>\n",
       "      <td>2020-09-03 20:45:52</td>\n",
       "      <td>2020</td>\n",
       "      <td>9</td>\n",
       "      <td>3</td>\n",
       "      <td>20</td>\n",
       "      <td>45</td>\n",
       "      <td>52</td>\n",
       "      <td>39.385382</td>\n",
       "      <td>95</td>\n",
       "    </tr>\n",
       "    <tr>\n",
       "      <th>...</th>\n",
       "      <td>...</td>\n",
       "      <td>...</td>\n",
       "      <td>...</td>\n",
       "      <td>...</td>\n",
       "      <td>...</td>\n",
       "      <td>...</td>\n",
       "      <td>...</td>\n",
       "      <td>...</td>\n",
       "      <td>...</td>\n",
       "      <td>...</td>\n",
       "      <td>...</td>\n",
       "      <td>...</td>\n",
       "      <td>...</td>\n",
       "      <td>...</td>\n",
       "      <td>...</td>\n",
       "      <td>...</td>\n",
       "      <td>...</td>\n",
       "      <td>...</td>\n",
       "      <td>...</td>\n",
       "      <td>...</td>\n",
       "      <td>...</td>\n",
       "    </tr>\n",
       "    <tr>\n",
       "      <th>3758146</th>\n",
       "      <td>2269802530843763</td>\n",
       "      <td>157814049136</td>\n",
       "      <td>92f4d0dbac678121853d69abd7183ccb</td>\n",
       "      <td>1663055640</td>\n",
       "      <td>health_fitness</td>\n",
       "      <td>8.42</td>\n",
       "      <td>0</td>\n",
       "      <td>Dunlap and Sons</td>\n",
       "      <td>43.996762</td>\n",
       "      <td>-121.485495</td>\n",
       "      <td>...</td>\n",
       "      <td>1927-07-30</td>\n",
       "      <td>2022-09-13 07:54:00</td>\n",
       "      <td>2022</td>\n",
       "      <td>9</td>\n",
       "      <td>13</td>\n",
       "      <td>7</td>\n",
       "      <td>54</td>\n",
       "      <td>0</td>\n",
       "      <td>62.251366</td>\n",
       "      <td>95</td>\n",
       "    </tr>\n",
       "    <tr>\n",
       "      <th>3758147</th>\n",
       "      <td>2269802530843763</td>\n",
       "      <td>157814049136</td>\n",
       "      <td>5473e8906aaa2a7e335588ba3f65adf6</td>\n",
       "      <td>1671365287</td>\n",
       "      <td>personal_care</td>\n",
       "      <td>3.02</td>\n",
       "      <td>0</td>\n",
       "      <td>Anderson, Alvarez and Phillips</td>\n",
       "      <td>44.884404</td>\n",
       "      <td>-119.855068</td>\n",
       "      <td>...</td>\n",
       "      <td>1927-07-30</td>\n",
       "      <td>2022-12-18 12:08:07</td>\n",
       "      <td>2022</td>\n",
       "      <td>12</td>\n",
       "      <td>18</td>\n",
       "      <td>12</td>\n",
       "      <td>8</td>\n",
       "      <td>7</td>\n",
       "      <td>100.809294</td>\n",
       "      <td>95</td>\n",
       "    </tr>\n",
       "    <tr>\n",
       "      <th>3758148</th>\n",
       "      <td>2269802530843763</td>\n",
       "      <td>157814049136</td>\n",
       "      <td>e5af215118cdbfd25c742402405b5476</td>\n",
       "      <td>1671767889</td>\n",
       "      <td>personal_care</td>\n",
       "      <td>3.32</td>\n",
       "      <td>0</td>\n",
       "      <td>Garza, Ryan and Sanchez</td>\n",
       "      <td>44.368626</td>\n",
       "      <td>-120.281305</td>\n",
       "      <td>...</td>\n",
       "      <td>1927-07-30</td>\n",
       "      <td>2022-12-23 03:58:09</td>\n",
       "      <td>2022</td>\n",
       "      <td>12</td>\n",
       "      <td>23</td>\n",
       "      <td>3</td>\n",
       "      <td>58</td>\n",
       "      <td>9</td>\n",
       "      <td>44.501753</td>\n",
       "      <td>95</td>\n",
       "    </tr>\n",
       "    <tr>\n",
       "      <th>3758149</th>\n",
       "      <td>2269802530843763</td>\n",
       "      <td>157814049136</td>\n",
       "      <td>79a24d014fe0caf5bd6e21d2008fcce9</td>\n",
       "      <td>1663314455</td>\n",
       "      <td>health_fitness</td>\n",
       "      <td>9.65</td>\n",
       "      <td>0</td>\n",
       "      <td>Smith Group</td>\n",
       "      <td>45.129945</td>\n",
       "      <td>-121.598209</td>\n",
       "      <td>...</td>\n",
       "      <td>1927-07-30</td>\n",
       "      <td>2022-09-16 07:47:35</td>\n",
       "      <td>2022</td>\n",
       "      <td>9</td>\n",
       "      <td>16</td>\n",
       "      <td>7</td>\n",
       "      <td>47</td>\n",
       "      <td>35</td>\n",
       "      <td>109.891957</td>\n",
       "      <td>95</td>\n",
       "    </tr>\n",
       "    <tr>\n",
       "      <th>3758150</th>\n",
       "      <td>2269802530843763</td>\n",
       "      <td>157814049136</td>\n",
       "      <td>5c8115b5743d5c4b58c55fc362a7bac9</td>\n",
       "      <td>1669868130</td>\n",
       "      <td>kids_pets</td>\n",
       "      <td>9.32</td>\n",
       "      <td>0</td>\n",
       "      <td>Soto Group</td>\n",
       "      <td>43.582098</td>\n",
       "      <td>-121.753189</td>\n",
       "      <td>...</td>\n",
       "      <td>1927-07-30</td>\n",
       "      <td>2022-12-01 04:15:30</td>\n",
       "      <td>2022</td>\n",
       "      <td>12</td>\n",
       "      <td>1</td>\n",
       "      <td>4</td>\n",
       "      <td>15</td>\n",
       "      <td>30</td>\n",
       "      <td>108.954516</td>\n",
       "      <td>95</td>\n",
       "    </tr>\n",
       "  </tbody>\n",
       "</table>\n",
       "<p>11275 rows × 33 columns</p>\n",
       "</div>"
      ],
      "text/plain": [
       "                 cc_num_x      acct_num                         trans_num  \\\n",
       "788798   2269802530843763  157814049136  9c74b3550aec630474ddee4d85c1cf73   \n",
       "788799   2269802530843763  157814049136  e89fab8fc8dad897fd7606e9ae95ea42   \n",
       "788800   2269802530843763  157814049136  a937f32fc0ca3d2aae2b5b78275886a7   \n",
       "788801   2269802530843763  157814049136  5a29bc403fcd6ab016bd6c1bf0929e67   \n",
       "788802   2269802530843763  157814049136  c5e8222c8a94f27042f3217d1a074aa4   \n",
       "...                   ...           ...                               ...   \n",
       "3758146  2269802530843763  157814049136  92f4d0dbac678121853d69abd7183ccb   \n",
       "3758147  2269802530843763  157814049136  5473e8906aaa2a7e335588ba3f65adf6   \n",
       "3758148  2269802530843763  157814049136  e5af215118cdbfd25c742402405b5476   \n",
       "3758149  2269802530843763  157814049136  79a24d014fe0caf5bd6e21d2008fcce9   \n",
       "3758150  2269802530843763  157814049136  5c8115b5743d5c4b58c55fc362a7bac9   \n",
       "\n",
       "          unix_time        category    amt is_fraud  \\\n",
       "788798   1562779498     grocery_net  95.01        0   \n",
       "788799   1575304195     grocery_pos  61.09        0   \n",
       "788800   1561131127     grocery_net  46.56        0   \n",
       "788801   1591970997    shopping_net  68.10        0   \n",
       "788802   1599165952    shopping_pos  78.64        0   \n",
       "...             ...             ...    ...      ...   \n",
       "3758146  1663055640  health_fitness   8.42        0   \n",
       "3758147  1671365287   personal_care   3.02        0   \n",
       "3758148  1671767889   personal_care   3.32        0   \n",
       "3758149  1663314455  health_fitness   9.65        0   \n",
       "3758150  1669868130       kids_pets   9.32        0   \n",
       "\n",
       "                               merchant  merch_lat  merch_long  ...  \\\n",
       "788798                   Fuentes-Chavez  43.336610 -121.003508  ...   \n",
       "788799       Lloyd, Hughes and Villegas  43.531447 -121.468573  ...   \n",
       "788800                        Mayer LLC  44.248968 -121.293858  ...   \n",
       "788801                        Wolfe LLC  44.845932 -120.712527  ...   \n",
       "788802                        Bush-Cruz  44.589246 -121.128497  ...   \n",
       "...                                 ...        ...         ...  ...   \n",
       "3758146                 Dunlap and Sons  43.996762 -121.485495  ...   \n",
       "3758147  Anderson, Alvarez and Phillips  44.884404 -119.855068  ...   \n",
       "3758148         Garza, Ryan and Sanchez  44.368626 -120.281305  ...   \n",
       "3758149                     Smith Group  45.129945 -121.598209  ...   \n",
       "3758150                      Soto Group  43.582098 -121.753189  ...   \n",
       "\n",
       "               dob            datetime  year month day hour minute second  \\\n",
       "788798  1927-07-30 2019-07-10 17:24:58  2019     7  10   17     24     58   \n",
       "788799  1927-07-30 2019-12-02 16:29:55  2019    12   2   16     29     55   \n",
       "788800  1927-07-30 2019-06-21 15:32:07  2019     6  21   15     32      7   \n",
       "788801  1927-07-30 2020-06-12 14:09:57  2020     6  12   14      9     57   \n",
       "788802  1927-07-30 2020-09-03 20:45:52  2020     9   3   20     45     52   \n",
       "...            ...                 ...   ...   ...  ..  ...    ...    ...   \n",
       "3758146 1927-07-30 2022-09-13 07:54:00  2022     9  13    7     54      0   \n",
       "3758147 1927-07-30 2022-12-18 12:08:07  2022    12  18   12      8      7   \n",
       "3758148 1927-07-30 2022-12-23 03:58:09  2022    12  23    3     58      9   \n",
       "3758149 1927-07-30 2022-09-16 07:47:35  2022     9  16    7     47     35   \n",
       "3758150 1927-07-30 2022-12-01 04:15:30  2022    12   1    4     15     30   \n",
       "\n",
       "         distance_km  age  \n",
       "788798    108.473180   95  \n",
       "788799     99.868362   95  \n",
       "788800     37.157263   95  \n",
       "788801     60.974447   95  \n",
       "788802     39.385382   95  \n",
       "...              ...  ...  \n",
       "3758146    62.251366   95  \n",
       "3758147   100.809294   95  \n",
       "3758148    44.501753   95  \n",
       "3758149   109.891957   95  \n",
       "3758150   108.954516   95  \n",
       "\n",
       "[11275 rows x 33 columns]"
      ]
     },
     "execution_count": 1926,
     "metadata": {},
     "output_type": "execute_result"
    }
   ],
   "source": [
    "# Displaying the rows with age > 94\n",
    "df_bank_data[df_bank_data['age'] > 94]"
   ]
  },
  {
   "attachments": {},
   "cell_type": "markdown",
   "metadata": {},
   "source": [
    "A considerable number of transactions carried out by the elder customers appear to be in line with the activities associated with their age group such as health, personal care, grocery related expenses. Also, these transactions are classified as non-fraudulent, indicated by a value of 0."
   ]
  },
  {
   "attachments": {},
   "cell_type": "markdown",
   "metadata": {},
   "source": [
    "• Checking unique values of the categorical features"
   ]
  },
  {
   "cell_type": "code",
   "execution_count": 1927,
   "metadata": {},
   "outputs": [
    {
     "name": "stdout",
     "output_type": "stream",
     "text": [
      "Category values: ['gas_transport' 'grocery_net' 'grocery_pos' 'personal_care'\n",
      " 'health_fitness' 'food_dining' 'home' 'entertainment' 'shopping_net'\n",
      " 'misc_net' 'misc_pos' 'kids_pets' 'shopping_pos' 'travel']\n",
      "Category count: 14\n"
     ]
    }
   ],
   "source": [
    "# Checking unique values and count of the 'category' feature\n",
    "print('Category values:', df_bank_data['category'].unique())\n",
    "print('Category count:', df_bank_data['category'].nunique())"
   ]
  },
  {
   "cell_type": "code",
   "execution_count": 1928,
   "metadata": {},
   "outputs": [
    {
     "name": "stdout",
     "output_type": "stream",
     "text": [
      "Merchant values: ['Larson, Ryan and Huang' 'Myers-Reed' 'Baker-Bullock' ...\n",
      " 'Allison, Payne and Wagner' 'Ramirez, Rojas and Weeks'\n",
      " 'Roberts, Johnson and Miller']\n",
      "Merchant count: 21977\n"
     ]
    }
   ],
   "source": [
    "# Checking unique values and count of the 'merchant' feature\n",
    "print('Merchant values:', df_bank_data['merchant'].unique())\n",
    "print('Merchant count:', df_bank_data['merchant'].nunique())"
   ]
  },
  {
   "cell_type": "code",
   "execution_count": 1929,
   "metadata": {},
   "outputs": [
    {
     "name": "stdout",
     "output_type": "stream",
     "text": [
      "Job values: ['Patent attorney' 'Scientist, audiological' 'Lecturer, higher education'\n",
      " 'Exhibitions officer, museum/gallery' 'Charity fundraiser'\n",
      " 'Ambulance person' 'Volunteer coordinator'\n",
      " 'Psychologist, prison and probation services' 'Orthoptist'\n",
      " 'Operational investment banker' 'Therapist, occupational'\n",
      " 'Insurance claims handler' 'Armed forces operational officer' 'Musician'\n",
      " 'Engineer, petroleum' 'Equities trader' 'Theatre stage manager'\n",
      " 'Adult guidance worker' 'Consulting civil engineer' 'Town planner'\n",
      " 'Wellsite geologist' 'Soil scientist'\n",
      " 'Scientist, research (life sciences)' 'Medical secretary'\n",
      " 'Local government officer' 'Nurse, learning disability'\n",
      " 'Insurance broker' 'Radio producer' 'Further education lecturer'\n",
      " 'Heritage manager' 'Environmental consultant' 'Veterinary surgeon'\n",
      " 'Risk analyst' 'Designer, television/film set' 'Records manager'\n",
      " 'Acupuncturist' 'Set designer' 'Sport and exercise psychologist'\n",
      " 'Education officer, community' 'Passenger transport manager'\n",
      " 'Environmental education officer' 'Agricultural consultant'\n",
      " 'Software engineer' 'Advertising account planner' 'Statistician'\n",
      " 'Restaurant manager' 'Editorial assistant' 'Estate manager/land agent'\n",
      " 'Waste management officer' 'Paediatric nurse' 'Arts development officer'\n",
      " 'Teacher, English as a foreign language' 'Designer, jewellery'\n",
      " 'Conservator, museum/gallery' 'Chief Executive Officer'\n",
      " 'Occupational therapist' 'Systems analyst' 'Fine artist' 'Artist'\n",
      " 'Sports development officer' 'Neurosurgeon' 'Quality manager'\n",
      " 'Retail banker' 'Scientist, biomedical' 'Immigration officer'\n",
      " 'Optometrist' 'Psychotherapist, child' 'Chemist, analytical'\n",
      " 'Engineer, drilling' 'Contractor' 'Archivist' 'Financial risk analyst'\n",
      " 'Engineer, maintenance' 'Metallurgist' 'Curator' 'Legal secretary'\n",
      " 'Designer, interior/spatial' 'Surveyor, minerals'\n",
      " 'Chief Strategy Officer' 'Designer, ceramics/pottery' 'Comptroller'\n",
      " 'Psychotherapist' 'Designer, exhibition/display' 'Psychologist, forensic'\n",
      " 'Engineer, civil (contracting)' 'Chief Technology Officer'\n",
      " 'Food technologist' 'Health physicist' 'Psychologist, sport and exercise'\n",
      " 'Economist' 'Water engineer' 'Youth worker' 'Environmental manager'\n",
      " 'Medical technical officer' 'Therapist, sports'\n",
      " 'Secondary school teacher' 'Editor, film/video' 'Careers adviser'\n",
      " 'Emergency planning/management officer' 'Teaching laboratory technician'\n",
      " 'Government social research officer' 'Teacher, primary school'\n",
      " 'Clinical molecular geneticist' 'Computer games developer' 'Nurse, adult'\n",
      " 'Warden/ranger' 'Mechanical engineer' 'Engineering geologist'\n",
      " 'Equality and diversity officer' 'Data scientist'\n",
      " 'Radio broadcast assistant' 'Research officer, government'\n",
      " 'Graphic designer' 'Trading standards officer' 'Quantity surveyor'\n",
      " 'Scientist, water quality' 'Armed forces technical officer' 'Surgeon'\n",
      " 'Advice worker' 'Special educational needs teacher'\n",
      " 'Community education officer' 'Occupational hygienist' 'Proofreader'\n",
      " 'Animal nutritionist' 'Pathologist' 'Administrator, Civil Service'\n",
      " 'Medical illustrator' 'Public relations officer'\n",
      " 'Customer service manager' 'Retail buyer' 'Intelligence analyst'\n",
      " 'Lobbyist' \"Politician's assistant\" 'Copywriter, advertising'\n",
      " 'Psychotherapist, dance movement' 'Research officer, political party'\n",
      " 'Haematologist' 'Public house manager' 'Pension scheme manager'\n",
      " 'Trade union research officer' 'Paramedic' 'Mental health nurse'\n",
      " 'Transport planner' 'Clinical embryologist'\n",
      " 'Surveyor, planning and development' 'Engineer, mining' 'Oceanographer'\n",
      " 'Management consultant' 'Physiological scientist' 'Sub'\n",
      " 'Nurse, mental health'\n",
      " 'Clinical scientist, histocompatibility and immunogenetics'\n",
      " 'Site engineer' 'Horticulturist, amenity' 'Broadcast journalist'\n",
      " 'Sales professional, IT' 'Sports therapist' 'Civil Service fast streamer'\n",
      " 'Actor' 'Fitness centre manager' 'Meteorologist' 'Retail merchandiser'\n",
      " 'Accountant, chartered public finance'\n",
      " 'Environmental health practitioner' 'Broadcast engineer'\n",
      " 'Engineer, materials' 'Engineer, manufacturing systems'\n",
      " 'Loss adjuster, chartered' 'Engineer, automotive' 'Field seismologist'\n",
      " 'Camera operator' 'Contracting civil engineer' 'Facilities manager'\n",
      " 'General practice doctor' 'Quarry manager'\n",
      " 'Conservation officer, historic buildings' 'Automotive engineer'\n",
      " 'English as a second language teacher' 'Engineer, building services'\n",
      " 'Arts administrator' 'Associate Professor' 'Psychiatric nurse'\n",
      " 'Radiographer, therapeutic' 'Accountant, chartered management'\n",
      " 'Forensic scientist' 'Jewellery designer' 'Land'\n",
      " 'Research scientist (medical)' 'Biochemist, clinical' 'Technical author'\n",
      " 'Estate agent' 'Retail manager' 'Legal executive' 'Engineer, water'\n",
      " 'Chartered accountant' 'Dietitian' 'Chemical engineer' 'Immunologist'\n",
      " 'Garment/textile technologist' 'Engineer, structural'\n",
      " 'Advertising account executive' 'Chartered loss adjuster'\n",
      " 'Programmer, multimedia' 'Surveyor, commercial/residential'\n",
      " 'Furniture conservator/restorer' 'Surveyor, hydrographic'\n",
      " 'Games developer' 'Gaffer' 'Chief Financial Officer' 'Ophthalmologist'\n",
      " 'Podiatrist' 'Psychologist, clinical' 'Arboriculturist'\n",
      " 'Lecturer, further education' 'TEFL teacher' 'Health service manager'\n",
      " 'Conservator, furniture' 'Pharmacist, hospital' 'Librarian, public'\n",
      " 'Accounting technician' 'Engineer, chemical'\n",
      " 'Scientist, clinical (histocompatibility and immunogenetics)'\n",
      " 'Counselling psychologist' 'Animator' 'Investment banker, operational'\n",
      " 'Building services engineer' 'Ship broker' 'Psychiatrist' 'Administrator'\n",
      " 'Therapist, drama' 'Housing manager/officer' 'Agricultural engineer'\n",
      " 'Health visitor' 'Energy manager' 'Stage manager' 'Writer'\n",
      " 'Engineer, aeronautical' 'Television floor manager' 'Furniture designer'\n",
      " 'Audiological scientist' 'Medical laboratory scientific officer'\n",
      " 'Therapist, speech and language' 'Regulatory affairs officer'\n",
      " 'Teacher, early years/pre' 'Research scientist (physical sciences)'\n",
      " 'Therapist, music' 'Architectural technologist' 'Cytogeneticist'\n",
      " 'Aeronautical engineer' 'Clinical cytogeneticist' 'Cabin crew'\n",
      " 'Chiropodist' 'Financial adviser' 'Scientist, marine'\n",
      " 'Pensions consultant' 'Engineer, technical sales'\n",
      " 'Embryologist, clinical' 'Chief Marketing Officer' 'Translator'\n",
      " 'Product designer' 'Sales promotion account executive' 'Chief of Staff'\n",
      " 'Commercial/residential surveyor' 'Printmaker' 'Hotel manager'\n",
      " 'Therapist, art' 'Operational researcher'\n",
      " 'Social research officer, government' 'Geneticist, molecular'\n",
      " 'Teacher, adult education' 'Copy' 'Trade mark attorney' 'Publishing copy'\n",
      " 'Museum/gallery curator' 'Surveyor, mining'\n",
      " 'Manufacturing systems engineer' 'Travel agency manager'\n",
      " 'Horticultural consultant' 'Administrator, education' 'Risk manager'\n",
      " 'Dancer' 'Commissioning editor' 'Tour manager' 'Cartographer'\n",
      " 'Prison officer' 'Music therapist' 'Designer, fashion/clothing'\n",
      " 'Purchasing manager' 'Accountant, chartered' 'Applications developer'\n",
      " 'Financial trader' 'Mining engineer' 'Holiday representative'\n",
      " 'Television/film/video producer' 'Diagnostic radiographer'\n",
      " 'Public relations account executive' 'Communications engineer'\n",
      " 'International aid/development worker' 'Community arts worker'\n",
      " 'Commercial art gallery manager' 'Engineer, broadcasting (operations)'\n",
      " 'Magazine features editor' 'Clothing/textile technologist'\n",
      " 'Teacher, secondary school' 'Hydrographic surveyor'\n",
      " 'IT sales professional' 'Call centre manager' 'Secretary, company'\n",
      " 'Electronics engineer' 'Phytotherapist'\n",
      " 'Radiation protection practitioner' 'Warehouse manager'\n",
      " 'Scientist, product/process development' 'Barista'\n",
      " 'Scientific laboratory technician' 'Designer, furniture' 'Press sub'\n",
      " 'Sports coach' 'Optician, dispensing' 'Health and safety inspector'\n",
      " 'Recycling officer' 'Counsellor'\n",
      " 'Historic buildings inspector/conservation officer' 'Product manager'\n",
      " 'Special effects artist' 'Designer, textile' 'Firefighter' 'Architect'\n",
      " 'Learning disability nurse' 'Analytical chemist' 'Bonds trader'\n",
      " 'Surveyor, insurance' 'Dentist' 'Civil engineer, contracting'\n",
      " 'Materials engineer' 'Surveyor, building control' 'Best boy'\n",
      " 'Designer, multimedia' 'Occupational psychologist' 'Fisheries officer'\n",
      " 'Adult nurse' 'Technical sales engineer'\n",
      " 'Producer, television/film/video' 'Administrator, arts'\n",
      " 'Professor Emeritus' 'Plant breeder/geneticist' 'Hydrogeologist'\n",
      " 'Industrial buyer' 'Catering manager' 'Water quality scientist'\n",
      " 'Museum/gallery conservator' 'Aid worker' 'Biomedical engineer'\n",
      " 'Teacher, music' 'Toxicologist' 'Engineer, agricultural' 'Video editor'\n",
      " 'Therapist, horticultural' 'Art therapist' 'Nutritional therapist'\n",
      " 'Community development worker' 'Seismic interpreter'\n",
      " 'Programme researcher, broadcasting/film/video' 'Insurance risk surveyor'\n",
      " 'Solicitor' 'Energy engineer' 'Buyer, retail' 'Early years teacher'\n",
      " 'Petroleum engineer' 'Surveyor, quantity' 'Psychologist, counselling'\n",
      " 'Research scientist (maths)' 'IT consultant'\n",
      " 'Senior tax professional/tax inspector' 'Horticultural therapist'\n",
      " 'Interior and spatial designer' 'Programmer, systems'\n",
      " 'Forensic psychologist' 'Diplomatic Services operational officer' 'Make'\n",
      " 'Police officer' 'Engineer, manufacturing'\n",
      " 'English as a foreign language teacher' 'Location manager'\n",
      " 'Insurance account manager' 'Structural engineer'\n",
      " 'Leisure centre manager' 'Hospital pharmacist' 'Community pharmacist'\n",
      " 'Therapist, nutritional' 'Theatre director'\n",
      " 'Production designer, theatre/television/film'\n",
      " 'Geophysical data processor' 'Publishing rights manager'\n",
      " 'Network engineer' \"Nurse, children's\" 'Merchandiser, retail'\n",
      " 'Clinical psychologist' 'Maintenance engineer' 'Print production planner'\n",
      " 'Restaurant manager, fast food' 'Rural practice surveyor' 'Actuary'\n",
      " 'Private music teacher' 'Secretary/administrator'\n",
      " 'Accountant, chartered certified' 'Advertising copywriter'\n",
      " 'Chartered management accountant' 'Multimedia programmer'\n",
      " \"Barrister's clerk\" 'Careers information officer'\n",
      " 'Psychologist, educational' 'Geologist, engineering'\n",
      " 'Colour technologist' 'Presenter, broadcasting' 'Designer, graphic'\n",
      " 'Surveyor, rural practice' 'Teacher, special educational needs'\n",
      " 'Chiropractor' 'Museum/gallery exhibitions officer' 'Airline pilot'\n",
      " 'Engineer, energy' 'Herbalist' 'Health and safety adviser'\n",
      " 'Art gallery manager' 'Building surveyor' 'Advertising art director'\n",
      " 'Scientist, research (medical)'\n",
      " 'Armed forces training and education officer' 'Education administrator'\n",
      " 'Charity officer' 'Production engineer' 'Clinical biochemist'\n",
      " 'Electrical engineer' 'Administrator, charities/voluntary organisations'\n",
      " 'Visual merchandiser' 'Commercial horticulturist' 'Sales executive'\n",
      " 'Tourism officer' 'Designer, industrial/product'\n",
      " 'Information systems manager' 'Market researcher'\n",
      " 'Engineer, communications' 'Company secretary' 'Astronomer'\n",
      " 'Claims inspector/assessor' 'Physiotherapist' 'Oncologist'\n",
      " 'Control and instrumentation engineer' 'Engineer, maintenance (IT)'\n",
      " 'Midwife' 'Building control surveyor' 'Information officer'\n",
      " 'Civil Service administrator' 'Homeopath' 'Primary school teacher'\n",
      " 'Social researcher' 'Educational psychologist' 'Air cabin crew'\n",
      " 'Farm manager' 'Ranger/warden' 'Licensed conveyancer'\n",
      " 'Tourist information centre manager'\n",
      " 'Scientist, research (physical sciences)' 'Broadcast presenter'\n",
      " 'Conservation officer, nature' 'Editor, commissioning'\n",
      " 'Health promotion specialist' 'Hydrologist' 'Lexicographer'\n",
      " 'Data processing manager'\n",
      " 'Armed forces logistics/support/administrative officer'\n",
      " 'Production assistant, television' 'Drilling engineer' 'Archaeologist'\n",
      " 'Doctor, hospital' 'Research scientist (life sciences)'\n",
      " 'Radiographer, diagnostic' 'Buyer, industrial' 'Producer, radio'\n",
      " 'Marine scientist' 'Geologist, wellsite' 'Accommodation manager' 'Banker'\n",
      " 'Lawyer' 'Scientist, physiological' 'IT trainer' 'Ceramics designer'\n",
      " 'Physicist, medical' 'Fish farm manager' 'Land/geomatics surveyor'\n",
      " 'Brewing technologist' 'Tax adviser' 'Engineer, land'\n",
      " 'Education officer, museum' 'Financial planner'\n",
      " 'Geographical information systems officer' 'Interpreter'\n",
      " 'Clinical research associate' 'Financial manager' 'Office manager'\n",
      " 'Systems developer' 'Engineer, electronics' 'Patent examiner'\n",
      " 'Marketing executive']\n",
      "Job count: 505\n"
     ]
    }
   ],
   "source": [
    "# Checking unique values and count of the 'job' feature\n",
    "print('Job values:', df_bank_data['job'].unique())\n",
    "print('Job count:', df_bank_data['job'].nunique())"
   ]
  },
  {
   "attachments": {},
   "cell_type": "markdown",
   "metadata": {},
   "source": [
    "#### Selecting Features\n",
    "\n",
    "From the above exploration and features understanding, following features are eliminated.\n",
    "\n",
    "• <I> Account number, credit card number, transaction number and social security number</I>: These features are unique identifiers specific to each transaction, customer and are unlikely to provide meaningful patterns for fraud detection. Additionally, they are not informative in identifying fraudulent behavior and including would straightway lead to overfitting of model.\n",
    "\n",
    "• <I> Gender of the customer</I>: Fraudulent behavior is not essentially linked to a specific gender, including may introduces biases and unfair practices in the model's decision-making process. \n",
    "\n",
    "• <I> Customer's name and residential address</I>: The name, specific street, city, state names and zip code where the customer resides are not directly related to fraud. Fraud patterns are not typically associated with specific residential locations.\n",
    "\n",
    "• <I> Customer's residential population</I>: The population of the customer's residential area may not have a direct impact on fraud detection.\n",
    "\n",
    "• <I> Year of the transaction conducted</I>: Fraud patterns can change over time, but using the year of the transaction as a feature may not capture specific patterns or provide significant power for fraud detection.\n",
    "\n",
    "Thus, the following features are selected for the classification task of identifying fraudulent behaviour by classifying if a transaction is fraud or not. \n",
    "\n",
    "• <B>Amount</B>: Unusually large or small transaction amounts can be potential indicators of fraudulent activity.\n",
    "\n",
    "• <B>Category</B>: The type or category of transaction may be indicative of potential fraudulent behavior. Certain transaction categories might be more prone to fraud than others.\n",
    "\n",
    "• <B>Merchan't name</B>: The merchant's name can provide insights into the reputation and legitimacy of the transaction. Certain merchants may have a higher likelihood of fraudulent activities.\n",
    "\n",
    "• <B>Job of customers</B>: The customer's occupation or job may provide insights into their financial activities and help identify any anomalies or inconsistencies.\n",
    "\n",
    "• <B>Age of customers</B>: Age can sometimes be correlated with fraud patterns, as certain age groups may be more vulnerable or prone to involvement in fraudulent activities.\n",
    "\n",
    "• <B>Day of month and Month of the transaction conducted</B>: These features can help capture patterns and trends in fraudulent behavior.\n",
    "\n",
    "• <B>Distance between customer's residence and merchant's location</B>: Unusually long distances between the customer's residence and the merchant's location might indicate suspicious transactions.\n"
   ]
  },
  {
   "cell_type": "code",
   "execution_count": 1930,
   "metadata": {},
   "outputs": [],
   "source": [
    "# Selecting only relevant features\n",
    "df_bank_data_final = df_bank_data[['is_fraud', 'amt', 'category', 'merchant', 'job', 'age', 'month', 'day', 'distance_km']]\n",
    "\n",
    "# Creating a copy of the original dataset\n",
    "df_bankdata_final = df_bank_data_final.copy()"
   ]
  },
  {
   "attachments": {},
   "cell_type": "markdown",
   "metadata": {},
   "source": [
    "#### 3.3] Transforming Categorical Data into Numerical"
   ]
  },
  {
   "cell_type": "code",
   "execution_count": 1931,
   "metadata": {},
   "outputs": [
    {
     "data": {
      "text/plain": [
       "505"
      ]
     },
     "execution_count": 1931,
     "metadata": {},
     "output_type": "execute_result"
    }
   ],
   "source": [
    "# Checking unique values of 'job'\n",
    "df_bankdata_final['job'].nunique()"
   ]
  },
  {
   "cell_type": "code",
   "execution_count": 1932,
   "metadata": {},
   "outputs": [
    {
     "data": {
      "text/plain": [
       "21977"
      ]
     },
     "execution_count": 1932,
     "metadata": {},
     "output_type": "execute_result"
    }
   ],
   "source": [
    "# Checking unique values of 'merchant'\n",
    "df_bankdata_final['merchant'].nunique()"
   ]
  },
  {
   "attachments": {},
   "cell_type": "markdown",
   "metadata": {},
   "source": [
    "**• Transforming 'job' and 'merchant' related categorical data into numerical - Using Indexing(LabelEncoder)**"
   ]
  },
  {
   "cell_type": "code",
   "execution_count": 1933,
   "metadata": {},
   "outputs": [],
   "source": [
    "# Initialising a LabelEncoder object\n",
    "label_encoder = LabelEncoder()\n",
    "\n",
    "# Fitting the LabelEncoder object to the categorical features\n",
    "# Assigning a unique numerical index to each unique job category from the 'job' feature \n",
    "df_bankdata_final['job_index'] = label_encoder.fit_transform(df_bankdata_final['job'])\n",
    "\n",
    "# Assigning a unique numerical index to each unique merchant name from the 'merchant' feature \n",
    "df_bankdata_final['merchant_index'] = label_encoder.fit_transform(df_bankdata_final['merchant'])"
   ]
  },
  {
   "attachments": {},
   "cell_type": "markdown",
   "metadata": {},
   "source": [
    "To develop machine learning models that requires numerical inputs, the categorical features need to be encoded as numerical values before training. \n",
    "\n",
    "Given the large number of unique values in the 'job' and 'merchant' features, Indexing was used to transform it into numerical. "
   ]
  },
  {
   "cell_type": "code",
   "execution_count": 1934,
   "metadata": {},
   "outputs": [
    {
     "data": {
      "text/plain": [
       "14"
      ]
     },
     "execution_count": 1934,
     "metadata": {},
     "output_type": "execute_result"
    }
   ],
   "source": [
    "# Checking unique values of 'category'\n",
    "df_bankdata_final['category'].nunique()"
   ]
  },
  {
   "attachments": {},
   "cell_type": "markdown",
   "metadata": {},
   "source": [
    "**• Transforming 'category' related categorical data into numerical - Using OneHot Encoding**"
   ]
  },
  {
   "cell_type": "code",
   "execution_count": 1935,
   "metadata": {},
   "outputs": [
    {
     "name": "stderr",
     "output_type": "stream",
     "text": [
      "/usr/local/lib/python3.10/site-packages/sklearn/preprocessing/_encoders.py:868: FutureWarning: `sparse` was renamed to `sparse_output` in version 1.2 and will be removed in 1.4. `sparse_output` is ignored unless you leave `sparse` to its default value.\n",
      "  warnings.warn(\n"
     ]
    }
   ],
   "source": [
    "# Instantiating a OneHotEncoder object\n",
    "ohe = OneHotEncoder(sparse=False)\n",
    "\n",
    "# Creating the list of categorical features\n",
    "categorical_features = ['category']\n",
    "\n",
    "# Using the OneHotEncoder object's to transform categorical data into numerical\n",
    "encoded_data_array = ohe.fit_transform(df_bankdata_final.loc[:, categorical_features])\n",
    "\n",
    "# Generating the dataframe of the transformed numerical data\n",
    "df_encoded = pd.DataFrame(encoded_data_array, columns=ohe.get_feature_names_out())\n",
    "\n",
    "# Combining numerical dataframe with the original dataset\n",
    "df_bankdata_encoded = pd.concat([df_bankdata_final, df_encoded], axis=1)"
   ]
  },
  {
   "attachments": {},
   "cell_type": "markdown",
   "metadata": {},
   "source": [
    "For 'category' feature with 14 unique values, the OneHot Encoding technique was applied which generates binary columns for each unique value."
   ]
  },
  {
   "attachments": {},
   "cell_type": "markdown",
   "metadata": {},
   "source": [
    "**• Transforming data type of target 'is_fraud' variable**"
   ]
  },
  {
   "cell_type": "code",
   "execution_count": 1936,
   "metadata": {},
   "outputs": [
    {
     "name": "stdout",
     "output_type": "stream",
     "text": [
      "The data type of the target 'is_fraud' variable: int64\n"
     ]
    }
   ],
   "source": [
    "# Changing the data type of the target 'is_fraud' column\n",
    "df_bankdata_encoded['is_fraud'] = df_bankdata_encoded['is_fraud'].astype(int)\n",
    "\n",
    "# Checking the data type of the target 'is_fraud' column\n",
    "data_types = df_bankdata_encoded.dtypes\n",
    "target_data_type = data_types['is_fraud']\n",
    "print(\"The data type of the target 'is_fraud' variable:\", target_data_type)"
   ]
  },
  {
   "attachments": {},
   "cell_type": "markdown",
   "metadata": {},
   "source": [
    "As the target variable 'is_fraud' is of categorical type, it is important to transform it into numerical to input machine learning model.  "
   ]
  },
  {
   "cell_type": "code",
   "execution_count": 1937,
   "metadata": {},
   "outputs": [
    {
     "data": {
      "text/html": [
       "<div>\n",
       "<style scoped>\n",
       "    .dataframe tbody tr th:only-of-type {\n",
       "        vertical-align: middle;\n",
       "    }\n",
       "\n",
       "    .dataframe tbody tr th {\n",
       "        vertical-align: top;\n",
       "    }\n",
       "\n",
       "    .dataframe thead th {\n",
       "        text-align: right;\n",
       "    }\n",
       "</style>\n",
       "<table border=\"1\" class=\"dataframe\">\n",
       "  <thead>\n",
       "    <tr style=\"text-align: right;\">\n",
       "      <th></th>\n",
       "      <th>is_fraud</th>\n",
       "      <th>amt</th>\n",
       "      <th>category</th>\n",
       "      <th>merchant</th>\n",
       "      <th>job</th>\n",
       "      <th>age</th>\n",
       "      <th>month</th>\n",
       "      <th>day</th>\n",
       "      <th>distance_km</th>\n",
       "      <th>job_index</th>\n",
       "      <th>...</th>\n",
       "      <th>category_grocery_pos</th>\n",
       "      <th>category_health_fitness</th>\n",
       "      <th>category_home</th>\n",
       "      <th>category_kids_pets</th>\n",
       "      <th>category_misc_net</th>\n",
       "      <th>category_misc_pos</th>\n",
       "      <th>category_personal_care</th>\n",
       "      <th>category_shopping_net</th>\n",
       "      <th>category_shopping_pos</th>\n",
       "      <th>category_travel</th>\n",
       "    </tr>\n",
       "  </thead>\n",
       "  <tbody>\n",
       "    <tr>\n",
       "      <th>0</th>\n",
       "      <td>0</td>\n",
       "      <td>65.17</td>\n",
       "      <td>gas_transport</td>\n",
       "      <td>Larson, Ryan and Huang</td>\n",
       "      <td>Patent attorney</td>\n",
       "      <td>20</td>\n",
       "      <td>2</td>\n",
       "      <td>28</td>\n",
       "      <td>90.065254</td>\n",
       "      <td>331</td>\n",
       "      <td>...</td>\n",
       "      <td>0.0</td>\n",
       "      <td>0.0</td>\n",
       "      <td>0.0</td>\n",
       "      <td>0.0</td>\n",
       "      <td>0.0</td>\n",
       "      <td>0.0</td>\n",
       "      <td>0.0</td>\n",
       "      <td>0.0</td>\n",
       "      <td>0.0</td>\n",
       "      <td>0.0</td>\n",
       "    </tr>\n",
       "    <tr>\n",
       "      <th>1</th>\n",
       "      <td>0</td>\n",
       "      <td>47.58</td>\n",
       "      <td>gas_transport</td>\n",
       "      <td>Myers-Reed</td>\n",
       "      <td>Patent attorney</td>\n",
       "      <td>20</td>\n",
       "      <td>2</td>\n",
       "      <td>14</td>\n",
       "      <td>25.788019</td>\n",
       "      <td>331</td>\n",
       "      <td>...</td>\n",
       "      <td>0.0</td>\n",
       "      <td>0.0</td>\n",
       "      <td>0.0</td>\n",
       "      <td>0.0</td>\n",
       "      <td>0.0</td>\n",
       "      <td>0.0</td>\n",
       "      <td>0.0</td>\n",
       "      <td>0.0</td>\n",
       "      <td>0.0</td>\n",
       "      <td>0.0</td>\n",
       "    </tr>\n",
       "    <tr>\n",
       "      <th>2</th>\n",
       "      <td>0</td>\n",
       "      <td>64.43</td>\n",
       "      <td>gas_transport</td>\n",
       "      <td>Baker-Bullock</td>\n",
       "      <td>Patent attorney</td>\n",
       "      <td>20</td>\n",
       "      <td>2</td>\n",
       "      <td>23</td>\n",
       "      <td>54.908976</td>\n",
       "      <td>331</td>\n",
       "      <td>...</td>\n",
       "      <td>0.0</td>\n",
       "      <td>0.0</td>\n",
       "      <td>0.0</td>\n",
       "      <td>0.0</td>\n",
       "      <td>0.0</td>\n",
       "      <td>0.0</td>\n",
       "      <td>0.0</td>\n",
       "      <td>0.0</td>\n",
       "      <td>0.0</td>\n",
       "      <td>0.0</td>\n",
       "    </tr>\n",
       "  </tbody>\n",
       "</table>\n",
       "<p>3 rows × 25 columns</p>\n",
       "</div>"
      ],
      "text/plain": [
       "   is_fraud    amt       category                merchant              job  \\\n",
       "0         0  65.17  gas_transport  Larson, Ryan and Huang  Patent attorney   \n",
       "1         0  47.58  gas_transport              Myers-Reed  Patent attorney   \n",
       "2         0  64.43  gas_transport           Baker-Bullock  Patent attorney   \n",
       "\n",
       "   age  month  day  distance_km  job_index  ...  category_grocery_pos  \\\n",
       "0   20      2   28    90.065254        331  ...                   0.0   \n",
       "1   20      2   14    25.788019        331  ...                   0.0   \n",
       "2   20      2   23    54.908976        331  ...                   0.0   \n",
       "\n",
       "   category_health_fitness  category_home  category_kids_pets  \\\n",
       "0                      0.0            0.0                 0.0   \n",
       "1                      0.0            0.0                 0.0   \n",
       "2                      0.0            0.0                 0.0   \n",
       "\n",
       "   category_misc_net  category_misc_pos  category_personal_care  \\\n",
       "0                0.0                0.0                     0.0   \n",
       "1                0.0                0.0                     0.0   \n",
       "2                0.0                0.0                     0.0   \n",
       "\n",
       "   category_shopping_net  category_shopping_pos  category_travel  \n",
       "0                    0.0                    0.0              0.0  \n",
       "1                    0.0                    0.0              0.0  \n",
       "2                    0.0                    0.0              0.0  \n",
       "\n",
       "[3 rows x 25 columns]"
      ]
     },
     "execution_count": 1937,
     "metadata": {},
     "output_type": "execute_result"
    }
   ],
   "source": [
    "# Checking the initial rows after transforming categorical features\n",
    "df_bankdata_encoded.head(3)"
   ]
  },
  {
   "cell_type": "code",
   "execution_count": 1938,
   "metadata": {},
   "outputs": [],
   "source": [
    "# Removing the categorical features from the dataset as they are transformed to numerical data\n",
    "df_bankdata_encoded.drop(labels=['job', 'merchant', 'category'], axis=1, inplace=True)"
   ]
  },
  {
   "cell_type": "code",
   "execution_count": 1939,
   "metadata": {},
   "outputs": [
    {
     "data": {
      "text/plain": [
       "Index(['is_fraud', 'amt', 'age', 'month', 'day', 'distance_km', 'job_index',\n",
       "       'merchant_index', 'category_entertainment', 'category_food_dining',\n",
       "       'category_gas_transport', 'category_grocery_net',\n",
       "       'category_grocery_pos', 'category_health_fitness', 'category_home',\n",
       "       'category_kids_pets', 'category_misc_net', 'category_misc_pos',\n",
       "       'category_personal_care', 'category_shopping_net',\n",
       "       'category_shopping_pos', 'category_travel'],\n",
       "      dtype='object')"
      ]
     },
     "execution_count": 1939,
     "metadata": {},
     "output_type": "execute_result"
    }
   ],
   "source": [
    "# Checking the columns after transforming and removing categorical features from the dataset\n",
    "df_bankdata_encoded.columns"
   ]
  },
  {
   "attachments": {},
   "cell_type": "markdown",
   "metadata": {},
   "source": [
    "#### 3.4] Splitting Data into Different Sets"
   ]
  },
  {
   "attachments": {},
   "cell_type": "markdown",
   "metadata": {},
   "source": [
    "**• Checking the frequency rates of classes of the target variable from the Original dataset**"
   ]
  },
  {
   "cell_type": "code",
   "execution_count": 1940,
   "metadata": {},
   "outputs": [
    {
     "data": {
      "text/plain": [
       "0    4255870\n",
       "1       5034\n",
       "Name: is_fraud, dtype: int64"
      ]
     },
     "execution_count": 1940,
     "metadata": {},
     "output_type": "execute_result"
    }
   ],
   "source": [
    "# Checking the quantity of classes of the target variable - Original dataset\n",
    "df_bankdata_encoded['is_fraud'].value_counts()"
   ]
  },
  {
   "cell_type": "code",
   "execution_count": 1941,
   "metadata": {},
   "outputs": [
    {
     "data": {
      "image/png": "[encoded data removed]",
      "text/plain": [
       "<Figure size 640x480 with 1 Axes>"
      ]
     },
     "metadata": {},
     "output_type": "display_data"
    }
   ],
   "source": [
    "# Counting the frequency of classes in the target variable - Original dataset\n",
    "class_counts = df_bankdata_encoded['is_fraud'].value_counts()\n",
    "\n",
    "# Creating a pie chart to display the frequencies of classes in the target variable\n",
    "plt.pie(class_counts.values, labels=class_counts.index, autopct='%1.1f%%')\n",
    "\n",
    "# Adding title\n",
    "plt.title('Distribution of Target Classes from the Original dataset')\n",
    "\n",
    "# Displaying the plot\n",
    "plt.show()"
   ]
  },
  {
   "attachments": {},
   "cell_type": "markdown",
   "metadata": {},
   "source": [
    "From the above results, it is clear that a significant portion of the total observations belongs to one target class, labelled as non-fraudulent transactions represented by the value 0. So, the bank's transaction dataset shows a high level of class imbalance."
   ]
  },
  {
   "attachments": {},
   "cell_type": "markdown",
   "metadata": {},
   "source": [
    "**• Splitting the bank dataset into data - 80% and test - 20%**"
   ]
  },
  {
   "cell_type": "code",
   "execution_count": 1942,
   "metadata": {},
   "outputs": [],
   "source": [
    "# Splitting the bank data into two separate datasets - data with 80% and test with 20%\n",
    "df_data, df_test = train_test_split(df_bankdata_encoded, test_size=0.2, random_state=19)"
   ]
  },
  {
   "attachments": {},
   "cell_type": "markdown",
   "metadata": {},
   "source": [
    "• Checking the frequency rates of classes of the target variable from the Testing dataset"
   ]
  },
  {
   "cell_type": "code",
   "execution_count": 1943,
   "metadata": {},
   "outputs": [
    {
     "data": {
      "text/plain": [
       "0    851240\n",
       "1       941\n",
       "Name: is_fraud, dtype: int64"
      ]
     },
     "execution_count": 1943,
     "metadata": {},
     "output_type": "execute_result"
    }
   ],
   "source": [
    "# Checking the quantity of classes of the target variable - Testing dataset\n",
    "df_test['is_fraud'].value_counts()"
   ]
  },
  {
   "cell_type": "code",
   "execution_count": 1944,
   "metadata": {},
   "outputs": [
    {
     "data": {
      "image/png": "[encoded data removed]",
      "text/plain": [
       "<Figure size 640x480 with 1 Axes>"
      ]
     },
     "metadata": {},
     "output_type": "display_data"
    }
   ],
   "source": [
    "# Counting the frequency of classes in the target variable - Testing dataset\n",
    "class_counts = df_test['is_fraud'].value_counts()\n",
    "\n",
    "# Creating a pie chart to display the frequencies of classes in the target variable\n",
    "plt.pie(class_counts.values, labels=class_counts.index, autopct='%1.1f%%')\n",
    "\n",
    "# Adding title\n",
    "plt.title('Distribution of Target Classes from the Testing dataset')\n",
    "\n",
    "# Displaying the plot\n",
    "plt.show()"
   ]
  },
  {
   "attachments": {},
   "cell_type": "markdown",
   "metadata": {},
   "source": [
    "Maintaining the identical class distribution of the target variable as the original data in the testing dataset."
   ]
  },
  {
   "attachments": {},
   "cell_type": "markdown",
   "metadata": {},
   "source": [
    "**• Performing undersampling on the dataset**"
   ]
  },
  {
   "cell_type": "code",
   "execution_count": 1945,
   "metadata": {},
   "outputs": [],
   "source": [
    "# Undersmapling the dataset to have equal classes of the target variable\n",
    "df_sampled = df_data.groupby('is_fraud').sample(df_data[df_data['is_fraud'] == 1].count()['is_fraud'])"
   ]
  },
  {
   "attachments": {},
   "cell_type": "markdown",
   "metadata": {},
   "source": [
    "• Checking the frequency rates of classes of the target variable from the Sampled dataset"
   ]
  },
  {
   "cell_type": "code",
   "execution_count": 1946,
   "metadata": {},
   "outputs": [
    {
     "data": {
      "text/plain": [
       "0    4093\n",
       "1    4093\n",
       "Name: is_fraud, dtype: int64"
      ]
     },
     "execution_count": 1946,
     "metadata": {},
     "output_type": "execute_result"
    }
   ],
   "source": [
    "# Checking the quantity of classes of the target variable  - Sampled dataset\n",
    "df_sampled['is_fraud'].value_counts()"
   ]
  },
  {
   "cell_type": "code",
   "execution_count": 1947,
   "metadata": {},
   "outputs": [
    {
     "data": {
      "image/png": "[encoded data removed]",
      "text/plain": [
       "<Figure size 640x480 with 1 Axes>"
      ]
     },
     "metadata": {},
     "output_type": "display_data"
    }
   ],
   "source": [
    "# Counting the frequency of classes in the target variable - Sampled dataset\n",
    "class_counts = df_sampled['is_fraud'].value_counts()\n",
    "\n",
    "# Creating a pie chart to display the frequencies of classes in the target variable\n",
    "plt.pie(class_counts.values, labels=class_counts.index, autopct='%1.1f%%')\n",
    "\n",
    "# Adding title\n",
    "plt.title('Distribution of Target Classes from the Sampled dataset')\n",
    "\n",
    "# Displaying the plot\n",
    "plt.show()"
   ]
  },
  {
   "attachments": {},
   "cell_type": "markdown",
   "metadata": {},
   "source": [
    "Due to the significant class imbalance in the dataset, undersampling was performed to achieve an equal distribution of target classes when developing the models."
   ]
  },
  {
   "attachments": {},
   "cell_type": "markdown",
   "metadata": {},
   "source": [
    "• Selecting Target Variable and Features"
   ]
  },
  {
   "cell_type": "code",
   "execution_count": 1948,
   "metadata": {},
   "outputs": [],
   "source": [
    "# Extracting the target variable 'is_fraud' into 'y_test' variable\n",
    "y_test = df_test.pop('is_fraud')\n",
    "\n",
    "# Creating 'X_test' variable with all the test features\n",
    "X_test = df_test"
   ]
  },
  {
   "cell_type": "code",
   "execution_count": 1949,
   "metadata": {},
   "outputs": [],
   "source": [
    "# Extracting the target variable 'is_fraud' into 'y' variable\n",
    "y = df_sampled.pop('is_fraud')\n",
    "\n",
    "# Creating 'X' variable with all the features\n",
    "X = df_sampled"
   ]
  },
  {
   "attachments": {},
   "cell_type": "markdown",
   "metadata": {},
   "source": [
    "**• Splitting the sampled dataset into train - 80% and validation - 20%**"
   ]
  },
  {
   "cell_type": "code",
   "execution_count": 1950,
   "metadata": {},
   "outputs": [],
   "source": [
    "# Splitting the sampled dataset into two separate datasets - training with 80% and validation with 20%\n",
    "X_train, X_validate, y_train, y_validate = train_test_split(X, y, test_size=0.2, random_state=19, stratify=y)"
   ]
  },
  {
   "attachments": {},
   "cell_type": "markdown",
   "metadata": {},
   "source": [
    "Creating a validation set provides the opportunity to perform multiple experiments as the model can be tested on this set repeatedly. Therefore, splitting the sampled data into training set and a validation set with a ratio of 80:20, to leverage more flexibility for experimentation."
   ]
  },
  {
   "attachments": {},
   "cell_type": "markdown",
   "metadata": {},
   "source": [
    "• Checking the frequency rates of classes of the target variable from the training and validation dataset"
   ]
  },
  {
   "cell_type": "code",
   "execution_count": 1951,
   "metadata": {},
   "outputs": [
    {
     "data": {
      "text/plain": [
       "1    0.5\n",
       "0    0.5\n",
       "Name: is_fraud, dtype: float64"
      ]
     },
     "execution_count": 1951,
     "metadata": {},
     "output_type": "execute_result"
    }
   ],
   "source": [
    "# Checking the quantity of classes of the target variable - Training dataset\n",
    "y_train.value_counts(normalize=True)"
   ]
  },
  {
   "cell_type": "code",
   "execution_count": 1952,
   "metadata": {},
   "outputs": [
    {
     "data": {
      "text/plain": [
       "0    0.5\n",
       "1    0.5\n",
       "Name: is_fraud, dtype: float64"
      ]
     },
     "execution_count": 1952,
     "metadata": {},
     "output_type": "execute_result"
    }
   ],
   "source": [
    "# Checking the quantity of classes of the target variable - Validation dataset\n",
    "y_validate.value_counts(normalize=True)"
   ]
  },
  {
   "attachments": {},
   "cell_type": "markdown",
   "metadata": {},
   "source": [
    "#### 3.5] Features Scaling"
   ]
  },
  {
   "cell_type": "code",
   "execution_count": 1953,
   "metadata": {},
   "outputs": [],
   "source": [
    "# Instantiating the object of the StandardScaler class\n",
    "scaler = StandardScaler()\n",
    "\n",
    "# Fitting the object to the training dataset\n",
    "scaler.fit(X_train)\n",
    "\n",
    "# Transforming and replacing the features data from all the sets\n",
    "X_train = scaler.transform(X_train)\n",
    "X_validate = scaler.transform(X_validate)\n",
    "X_test = scaler.transform(X_test)"
   ]
  },
  {
   "attachments": {},
   "cell_type": "markdown",
   "metadata": {},
   "source": [
    "Applying scaling to all the features to standardize their values to a uniform level. This allows the model to effectively use all the information from the features to learn generalised patterns, identify fraudulent behaviour and make accurate classifications.\n",
    "\n",
    "And, to perform the scaling, StandardScaler technique is selected because it preserves the original shape of the data distribution."
   ]
  },
  {
   "attachments": {},
   "cell_type": "markdown",
   "metadata": {},
   "source": [
    "### 4. Modelling \n",
    "\n",
    "#### 4.1] Assessing Baseline Performance"
   ]
  },
  {
   "cell_type": "code",
   "execution_count": 1954,
   "metadata": {},
   "outputs": [
    {
     "name": "stdout",
     "output_type": "stream",
     "text": [
      "Baseline Performance - Null Accuracy:\n",
      "F1 Score: 0.3333333333333333\n"
     ]
    }
   ],
   "source": [
    "# Calculating the mode of the target variable\n",
    "y_mode = y_train.mode()[0]\n",
    "\n",
    "# Creating the array of the same dimensions as the training set with the above mode value\n",
    "y_base = np.full(y_train.shape, y_mode)\n",
    "\n",
    "# Displaying the f1 scores of this baseline model\n",
    "print('Baseline Performance - Null Accuracy:') \n",
    "print('F1 Score:', f1_score(y_train, y_base, average='weighted'))"
   ]
  },
  {
   "attachments": {},
   "cell_type": "markdown",
   "metadata": {},
   "source": [
    "Calculating baseline performance also known as null accuracy that acts as the simplest model that always predicts the same baseline value which helps to compare the performance of the trained classification models, ensuring that we are making progress in the right direction."
   ]
  },
  {
   "attachments": {},
   "cell_type": "markdown",
   "metadata": {},
   "source": [
    "#### 4.2] Training Classification Models\n",
    "\n",
    "##### Classification Models\n",
    "Given that the target variable comprises two classes, with 0, indicating a non-fraudulent transaction, and 1, indicating a fraudulent transaction, employing a classification model is the suitable technique as our objective is to classify transactions within these two specific classes. \n",
    "\n",
    "Performing various experiments with XGBoost (eXtreme Gradient Boosting), Random Forest, and Neural Network models to assess their performance and identify the best model that can most effectively classify fraudulent and non-fraudulent transactions.\n",
    "\n",
    "##### Performance Metrics\n",
    "To evaluate the model's performance using following performance metrics.\n",
    "\n",
    "   - Precision\n",
    "\n",
    "   - Recall\n",
    "\n",
    "   - Weighted F1 Score\n",
    "\n",
    "   - Binary F1 Score\n",
    "\n",
    "   - Confusion Matrix\n",
    "\n",
    "Precision, Recall, and F1 Score are employed because they provide different insights into the model's performance, enabling a comprehensive understanding of various aspects of the classification use case. The binary F1 score is used to evaluate the performance specifically for classes that have positive labels.\n",
    "\n",
    "The aim of the model is to not only achieve high performance but also prioritize minimizing false negatives i.e., incorrectly classifying a fraudulent transaction as legitimate to ensure that potentially fraudulent activities are not overlooked. \n",
    "\n",
    "Therefore, Confusion Matrix is used which informs valuable false negatives error along with how well the model is performing in terms of its ability to correctly predict the positive and negative classes."
   ]
  },
  {
   "attachments": {},
   "cell_type": "markdown",
   "metadata": {},
   "source": [
    "##### **A] XGBoost (eXtreme Gradient Boosting) - Experiment 1**"
   ]
  },
  {
   "cell_type": "code",
   "execution_count": 1955,
   "metadata": {},
   "outputs": [],
   "source": [
    "# Defining the parameter distributions to search over\n",
    "hyperparams_dict = {'learning_rate': uniform(0.01, 0.5),\n",
    "                    'max_depth': randint(3, 15),\n",
    "                    'subsample': uniform(0.6, 0.4),\n",
    "                    'colsample_bytree': uniform(0.6, 0.4),\n",
    "                    'reg_alpha': uniform(0, 0.5),\n",
    "                    'reg_lambda': uniform(0, 0.5),\n",
    "                    'min_child_weight': randint(1, 6),\n",
    "                    'gamma': uniform(0, 0.5),}"
   ]
  },
  {
   "attachments": {},
   "cell_type": "markdown",
   "metadata": {},
   "source": [
    "• Instantiating the XGBoost Classifier object"
   ]
  },
  {
   "cell_type": "code",
   "execution_count": 1956,
   "metadata": {},
   "outputs": [],
   "source": [
    "# Creating a object of the XGBoost classifier\n",
    "xgb_model = xgb.XGBClassifier()\n",
    "\n",
    "# Performing random search\n",
    "random_search = RandomizedSearchCV(estimator=xgb_model, param_distributions=hyperparams_dict, scoring='f1', cv=5, n_iter=10, random_state=19)"
   ]
  },
  {
   "attachments": {},
   "cell_type": "markdown",
   "metadata": {},
   "source": [
    "Cross-validation and Randomised search techniques are used to find the best combination of hyperparameters for the classification task."
   ]
  },
  {
   "attachments": {},
   "cell_type": "markdown",
   "metadata": {},
   "source": [
    "• Fitting the XGBoost Classifier model with the training and validation data"
   ]
  },
  {
   "cell_type": "code",
   "execution_count": 1957,
   "metadata": {},
   "outputs": [
    {
     "data": {
      "text/html": [
       "<style>#sk-container-id-28 {color: black;background-color: white;}#sk-container-id-28 pre{padding: 0;}#sk-container-id-28 div.sk-toggleable {background-color: white;}#sk-container-id-28 label.sk-toggleable__label {cursor: pointer;display: block;width: 100%;margin-bottom: 0;padding: 0.3em;box-sizing: border-box;text-align: center;}#sk-container-id-28 label.sk-toggleable__label-arrow:before {content: \"▸\";float: left;margin-right: 0.25em;color: #696969;}#sk-container-id-28 label.sk-toggleable__label-arrow:hover:before {color: black;}#sk-container-id-28 div.sk-estimator:hover label.sk-toggleable__label-arrow:before {color: black;}#sk-container-id-28 div.sk-toggleable__content {max-height: 0;max-width: 0;overflow: hidden;text-align: left;background-color: #f0f8ff;}#sk-container-id-28 div.sk-toggleable__content pre {margin: 0.2em;color: black;border-radius: 0.25em;background-color: #f0f8ff;}#sk-container-id-28 input.sk-toggleable__control:checked~div.sk-toggleable__content {max-height: 200px;max-width: 100%;overflow: auto;}#sk-container-id-28 input.sk-toggleable__control:checked~label.sk-toggleable__label-arrow:before {content: \"▾\";}#sk-container-id-28 div.sk-estimator input.sk-toggleable__control:checked~label.sk-toggleable__label {background-color: #d4ebff;}#sk-container-id-28 div.sk-label input.sk-toggleable__control:checked~label.sk-toggleable__label {background-color: #d4ebff;}#sk-container-id-28 input.sk-hidden--visually {border: 0;clip: rect(1px 1px 1px 1px);clip: rect(1px, 1px, 1px, 1px);height: 1px;margin: -1px;overflow: hidden;padding: 0;position: absolute;width: 1px;}#sk-container-id-28 div.sk-estimator {font-family: monospace;background-color: #f0f8ff;border: 1px dotted black;border-radius: 0.25em;box-sizing: border-box;margin-bottom: 0.5em;}#sk-container-id-28 div.sk-estimator:hover {background-color: #d4ebff;}#sk-container-id-28 div.sk-parallel-item::after {content: \"\";width: 100%;border-bottom: 1px solid gray;flex-grow: 1;}#sk-container-id-28 div.sk-label:hover label.sk-toggleable__label {background-color: #d4ebff;}#sk-container-id-28 div.sk-serial::before {content: \"\";position: absolute;border-left: 1px solid gray;box-sizing: border-box;top: 0;bottom: 0;left: 50%;z-index: 0;}#sk-container-id-28 div.sk-serial {display: flex;flex-direction: column;align-items: center;background-color: white;padding-right: 0.2em;padding-left: 0.2em;position: relative;}#sk-container-id-28 div.sk-item {position: relative;z-index: 1;}#sk-container-id-28 div.sk-parallel {display: flex;align-items: stretch;justify-content: center;background-color: white;position: relative;}#sk-container-id-28 div.sk-item::before, #sk-container-id-28 div.sk-parallel-item::before {content: \"\";position: absolute;border-left: 1px solid gray;box-sizing: border-box;top: 0;bottom: 0;left: 50%;z-index: -1;}#sk-container-id-28 div.sk-parallel-item {display: flex;flex-direction: column;z-index: 1;position: relative;background-color: white;}#sk-container-id-28 div.sk-parallel-item:first-child::after {align-self: flex-end;width: 50%;}#sk-container-id-28 div.sk-parallel-item:last-child::after {align-self: flex-start;width: 50%;}#sk-container-id-28 div.sk-parallel-item:only-child::after {width: 0;}#sk-container-id-28 div.sk-dashed-wrapped {border: 1px dashed gray;margin: 0 0.4em 0.5em 0.4em;box-sizing: border-box;padding-bottom: 0.4em;background-color: white;}#sk-container-id-28 div.sk-label label {font-family: monospace;font-weight: bold;display: inline-block;line-height: 1.2em;}#sk-container-id-28 div.sk-label-container {text-align: center;}#sk-container-id-28 div.sk-container {/* jupyter's `normalize.less` sets `[hidden] { display: none; }` but bootstrap.min.css set `[hidden] { display: none !important; }` so we also need the `!important` here to be able to override the default hidden behavior on the sphinx rendered scikit-learn.org. See: https://github.com/scikit-learn/scikit-learn/issues/21755 */display: inline-block !important;position: relative;}#sk-container-id-28 div.sk-text-repr-fallback {display: none;}</style><div id=\"sk-container-id-28\" class=\"sk-top-container\"><div class=\"sk-text-repr-fallback\"><pre>RandomizedSearchCV(cv=5,\n",
       "                   estimator=XGBClassifier(base_score=None, booster=None,\n",
       "                                           callbacks=None,\n",
       "                                           colsample_bylevel=None,\n",
       "                                           colsample_bynode=None,\n",
       "                                           colsample_bytree=None,\n",
       "                                           early_stopping_rounds=None,\n",
       "                                           enable_categorical=False,\n",
       "                                           eval_metric=None, feature_types=None,\n",
       "                                           gamma=None, gpu_id=None,\n",
       "                                           grow_policy=None,\n",
       "                                           importance_type=None,\n",
       "                                           interaction_constraints=None,\n",
       "                                           learning_rate...\n",
       "                                        &#x27;min_child_weight&#x27;: &lt;scipy.stats._distn_infrastructure.rv_discrete_frozen object at 0x7c01d4310&gt;,\n",
       "                                        &#x27;reg_alpha&#x27;: &lt;scipy.stats._distn_infrastructure.rv_continuous_frozen object at 0x7c01d5f30&gt;,\n",
       "                                        &#x27;reg_lambda&#x27;: &lt;scipy.stats._distn_infrastructure.rv_continuous_frozen object at 0x7c01d5600&gt;,\n",
       "                                        &#x27;subsample&#x27;: &lt;scipy.stats._distn_infrastructure.rv_continuous_frozen object at 0x7f2252b30&gt;},\n",
       "                   random_state=19, scoring=&#x27;f1&#x27;)</pre><b>In a Jupyter environment, please rerun this cell to show the HTML representation or trust the notebook. <br />On GitHub, the HTML representation is unable to render, please try loading this page with nbviewer.org.</b></div><div class=\"sk-container\" hidden><div class=\"sk-item sk-dashed-wrapped\"><div class=\"sk-label-container\"><div class=\"sk-label sk-toggleable\"><input class=\"sk-toggleable__control sk-hidden--visually\" id=\"sk-estimator-id-40\" type=\"checkbox\" ><label for=\"sk-estimator-id-40\" class=\"sk-toggleable__label sk-toggleable__label-arrow\">RandomizedSearchCV</label><div class=\"sk-toggleable__content\"><pre>RandomizedSearchCV(cv=5,\n",
       "                   estimator=XGBClassifier(base_score=None, booster=None,\n",
       "                                           callbacks=None,\n",
       "                                           colsample_bylevel=None,\n",
       "                                           colsample_bynode=None,\n",
       "                                           colsample_bytree=None,\n",
       "                                           early_stopping_rounds=None,\n",
       "                                           enable_categorical=False,\n",
       "                                           eval_metric=None, feature_types=None,\n",
       "                                           gamma=None, gpu_id=None,\n",
       "                                           grow_policy=None,\n",
       "                                           importance_type=None,\n",
       "                                           interaction_constraints=None,\n",
       "                                           learning_rate...\n",
       "                                        &#x27;min_child_weight&#x27;: &lt;scipy.stats._distn_infrastructure.rv_discrete_frozen object at 0x7c01d4310&gt;,\n",
       "                                        &#x27;reg_alpha&#x27;: &lt;scipy.stats._distn_infrastructure.rv_continuous_frozen object at 0x7c01d5f30&gt;,\n",
       "                                        &#x27;reg_lambda&#x27;: &lt;scipy.stats._distn_infrastructure.rv_continuous_frozen object at 0x7c01d5600&gt;,\n",
       "                                        &#x27;subsample&#x27;: &lt;scipy.stats._distn_infrastructure.rv_continuous_frozen object at 0x7f2252b30&gt;},\n",
       "                   random_state=19, scoring=&#x27;f1&#x27;)</pre></div></div></div><div class=\"sk-parallel\"><div class=\"sk-parallel-item\"><div class=\"sk-item\"><div class=\"sk-label-container\"><div class=\"sk-label sk-toggleable\"><input class=\"sk-toggleable__control sk-hidden--visually\" id=\"sk-estimator-id-41\" type=\"checkbox\" ><label for=\"sk-estimator-id-41\" class=\"sk-toggleable__label sk-toggleable__label-arrow\">estimator: XGBClassifier</label><div class=\"sk-toggleable__content\"><pre>XGBClassifier(base_score=None, booster=None, callbacks=None,\n",
       "              colsample_bylevel=None, colsample_bynode=None,\n",
       "              colsample_bytree=None, early_stopping_rounds=None,\n",
       "              enable_categorical=False, eval_metric=None, feature_types=None,\n",
       "              gamma=None, gpu_id=None, grow_policy=None, importance_type=None,\n",
       "              interaction_constraints=None, learning_rate=None, max_bin=None,\n",
       "              max_cat_threshold=None, max_cat_to_onehot=None,\n",
       "              max_delta_step=None, max_depth=None, max_leaves=None,\n",
       "              min_child_weight=None, missing=nan, monotone_constraints=None,\n",
       "              n_estimators=100, n_jobs=None, num_parallel_tree=None,\n",
       "              predictor=None, random_state=None, ...)</pre></div></div></div><div class=\"sk-serial\"><div class=\"sk-item\"><div class=\"sk-estimator sk-toggleable\"><input class=\"sk-toggleable__control sk-hidden--visually\" id=\"sk-estimator-id-42\" type=\"checkbox\" ><label for=\"sk-estimator-id-42\" class=\"sk-toggleable__label sk-toggleable__label-arrow\">XGBClassifier</label><div class=\"sk-toggleable__content\"><pre>XGBClassifier(base_score=None, booster=None, callbacks=None,\n",
       "              colsample_bylevel=None, colsample_bynode=None,\n",
       "              colsample_bytree=None, early_stopping_rounds=None,\n",
       "              enable_categorical=False, eval_metric=None, feature_types=None,\n",
       "              gamma=None, gpu_id=None, grow_policy=None, importance_type=None,\n",
       "              interaction_constraints=None, learning_rate=None, max_bin=None,\n",
       "              max_cat_threshold=None, max_cat_to_onehot=None,\n",
       "              max_delta_step=None, max_depth=None, max_leaves=None,\n",
       "              min_child_weight=None, missing=nan, monotone_constraints=None,\n",
       "              n_estimators=100, n_jobs=None, num_parallel_tree=None,\n",
       "              predictor=None, random_state=None, ...)</pre></div></div></div></div></div></div></div></div></div></div>"
      ],
      "text/plain": [
       "RandomizedSearchCV(cv=5,\n",
       "                   estimator=XGBClassifier(base_score=None, booster=None,\n",
       "                                           callbacks=None,\n",
       "                                           colsample_bylevel=None,\n",
       "                                           colsample_bynode=None,\n",
       "                                           colsample_bytree=None,\n",
       "                                           early_stopping_rounds=None,\n",
       "                                           enable_categorical=False,\n",
       "                                           eval_metric=None, feature_types=None,\n",
       "                                           gamma=None, gpu_id=None,\n",
       "                                           grow_policy=None,\n",
       "                                           importance_type=None,\n",
       "                                           interaction_constraints=None,\n",
       "                                           learning_rate...\n",
       "                                        'min_child_weight': <scipy.stats._distn_infrastructure.rv_discrete_frozen object at 0x7c01d4310>,\n",
       "                                        'reg_alpha': <scipy.stats._distn_infrastructure.rv_continuous_frozen object at 0x7c01d5f30>,\n",
       "                                        'reg_lambda': <scipy.stats._distn_infrastructure.rv_continuous_frozen object at 0x7c01d5600>,\n",
       "                                        'subsample': <scipy.stats._distn_infrastructure.rv_continuous_frozen object at 0x7f2252b30>},\n",
       "                   random_state=19, scoring='f1')"
      ]
     },
     "execution_count": 1957,
     "metadata": {},
     "output_type": "execute_result"
    }
   ],
   "source": [
    "# Combining the training and validation sets\n",
    "X_merged = np.concatenate((X_train, X_validate), axis=0)\n",
    "y_merged = np.concatenate((y_train, y_validate), axis=0)\n",
    "\n",
    "# Training the XGBoost model\n",
    "random_search.fit(X_merged, y_merged)"
   ]
  },
  {
   "attachments": {},
   "cell_type": "markdown",
   "metadata": {},
   "source": [
    "• Checking the performance metrics for the training and validation set"
   ]
  },
  {
   "cell_type": "code",
   "execution_count": 1958,
   "metadata": {},
   "outputs": [
    {
     "name": "stdout",
     "output_type": "stream",
     "text": [
      "Best Parameters for XGBoost classifier: {'colsample_bytree': 0.7371112616412909, 'gamma': 0.1671557643471569, 'learning_rate': 0.11210772123585254, 'max_depth': 13, 'min_child_weight': 3, 'reg_alpha': 0.1991221346346434, 'reg_lambda': 0.0501837469425232, 'subsample': 0.6731619435532209}\n",
      "Best Score for XGBoost classifier: 0.9328716508450053\n"
     ]
    }
   ],
   "source": [
    "# Displaying the best parameters and best score\n",
    "print(\"Best Parameters for XGBoost classifier:\", random_search.best_params_)\n",
    "print(\"Best Score for XGBoost classifier:\", random_search.best_score_)"
   ]
  },
  {
   "attachments": {},
   "cell_type": "markdown",
   "metadata": {},
   "source": [
    "### 5. Model Evaluation\n",
    "\n",
    "#### 5.1] Analysing Model Performance"
   ]
  },
  {
   "attachments": {},
   "cell_type": "markdown",
   "metadata": {},
   "source": [
    "• Checking the performance of the model on the testing set"
   ]
  },
  {
   "cell_type": "code",
   "execution_count": 1959,
   "metadata": {},
   "outputs": [
    {
     "name": "stdout",
     "output_type": "stream",
     "text": [
      "Performance Score of the Training Set:\n",
      "Precision Score: 0.01564622250445397\n",
      "Recall Score: 0.9426142401700319\n",
      "F1 Score: 0.9650466624519467\n",
      "binary F1 Score: 0.03078151027207107\n"
     ]
    }
   ],
   "source": [
    "# Predicting the target classes for testing set \n",
    "y_test_predicts = random_search.predict(X_test)\n",
    "\n",
    "# Checking the performance metrics for the testing set\n",
    "print('Performance Score of the Training Set:') \n",
    "print('Precision Score:', precision_score(y_test, y_test_predicts))\n",
    "print('Recall Score:', recall_score(y_test, y_test_predicts))\n",
    "print('F1 Score:', f1_score(y_test, y_test_predicts, average='weighted'))\n",
    "print('binary F1 Score:', f1_score(y_test, y_test_predicts, average='binary'))"
   ]
  },
  {
   "cell_type": "code",
   "execution_count": 1960,
   "metadata": {},
   "outputs": [
    {
     "data": {
      "text/plain": [
       "<sklearn.metrics._plot.confusion_matrix.ConfusionMatrixDisplay at 0x68c7fa980>"
      ]
     },
     "execution_count": 1960,
     "metadata": {},
     "output_type": "execute_result"
    },
    {
     "data": {
      "image/png": "[encoded data removed]",
      "text/plain": [
       "<Figure size 640x480 with 2 Axes>"
      ]
     },
     "metadata": {},
     "output_type": "display_data"
    }
   ],
   "source": [
    "# Displaying confusion matrix for testing set\n",
    "ConfusionMatrixDisplay.from_predictions(y_test, y_test_predicts, normalize='true', cmap='Blues')"
   ]
  },
  {
   "attachments": {},
   "cell_type": "markdown",
   "metadata": {},
   "source": [
    "##### **B] Random Forest Classifier - Experiment 2**"
   ]
  },
  {
   "attachments": {},
   "cell_type": "markdown",
   "metadata": {},
   "source": [
    "• Instantiating the RandomForest Classifier object"
   ]
  },
  {
   "cell_type": "code",
   "execution_count": 1961,
   "metadata": {},
   "outputs": [],
   "source": [
    "# Creating a object of the RandomForest classifier class \n",
    "rf_model = RandomForestClassifier(n_estimators=91, max_depth=9, min_samples_leaf=13, class_weight='balanced', criterion='entropy',  max_features='log2', random_state=19)"
   ]
  },
  {
   "attachments": {},
   "cell_type": "markdown",
   "metadata": {},
   "source": [
    "• Fitting the RandomForest Classifier model with the training data"
   ]
  },
  {
   "cell_type": "code",
   "execution_count": 1962,
   "metadata": {},
   "outputs": [
    {
     "data": {
      "text/html": [
       "<style>#sk-container-id-29 {color: black;background-color: white;}#sk-container-id-29 pre{padding: 0;}#sk-container-id-29 div.sk-toggleable {background-color: white;}#sk-container-id-29 label.sk-toggleable__label {cursor: pointer;display: block;width: 100%;margin-bottom: 0;padding: 0.3em;box-sizing: border-box;text-align: center;}#sk-container-id-29 label.sk-toggleable__label-arrow:before {content: \"▸\";float: left;margin-right: 0.25em;color: #696969;}#sk-container-id-29 label.sk-toggleable__label-arrow:hover:before {color: black;}#sk-container-id-29 div.sk-estimator:hover label.sk-toggleable__label-arrow:before {color: black;}#sk-container-id-29 div.sk-toggleable__content {max-height: 0;max-width: 0;overflow: hidden;text-align: left;background-color: #f0f8ff;}#sk-container-id-29 div.sk-toggleable__content pre {margin: 0.2em;color: black;border-radius: 0.25em;background-color: #f0f8ff;}#sk-container-id-29 input.sk-toggleable__control:checked~div.sk-toggleable__content {max-height: 200px;max-width: 100%;overflow: auto;}#sk-container-id-29 input.sk-toggleable__control:checked~label.sk-toggleable__label-arrow:before {content: \"▾\";}#sk-container-id-29 div.sk-estimator input.sk-toggleable__control:checked~label.sk-toggleable__label {background-color: #d4ebff;}#sk-container-id-29 div.sk-label input.sk-toggleable__control:checked~label.sk-toggleable__label {background-color: #d4ebff;}#sk-container-id-29 input.sk-hidden--visually {border: 0;clip: rect(1px 1px 1px 1px);clip: rect(1px, 1px, 1px, 1px);height: 1px;margin: -1px;overflow: hidden;padding: 0;position: absolute;width: 1px;}#sk-container-id-29 div.sk-estimator {font-family: monospace;background-color: #f0f8ff;border: 1px dotted black;border-radius: 0.25em;box-sizing: border-box;margin-bottom: 0.5em;}#sk-container-id-29 div.sk-estimator:hover {background-color: #d4ebff;}#sk-container-id-29 div.sk-parallel-item::after {content: \"\";width: 100%;border-bottom: 1px solid gray;flex-grow: 1;}#sk-container-id-29 div.sk-label:hover label.sk-toggleable__label {background-color: #d4ebff;}#sk-container-id-29 div.sk-serial::before {content: \"\";position: absolute;border-left: 1px solid gray;box-sizing: border-box;top: 0;bottom: 0;left: 50%;z-index: 0;}#sk-container-id-29 div.sk-serial {display: flex;flex-direction: column;align-items: center;background-color: white;padding-right: 0.2em;padding-left: 0.2em;position: relative;}#sk-container-id-29 div.sk-item {position: relative;z-index: 1;}#sk-container-id-29 div.sk-parallel {display: flex;align-items: stretch;justify-content: center;background-color: white;position: relative;}#sk-container-id-29 div.sk-item::before, #sk-container-id-29 div.sk-parallel-item::before {content: \"\";position: absolute;border-left: 1px solid gray;box-sizing: border-box;top: 0;bottom: 0;left: 50%;z-index: -1;}#sk-container-id-29 div.sk-parallel-item {display: flex;flex-direction: column;z-index: 1;position: relative;background-color: white;}#sk-container-id-29 div.sk-parallel-item:first-child::after {align-self: flex-end;width: 50%;}#sk-container-id-29 div.sk-parallel-item:last-child::after {align-self: flex-start;width: 50%;}#sk-container-id-29 div.sk-parallel-item:only-child::after {width: 0;}#sk-container-id-29 div.sk-dashed-wrapped {border: 1px dashed gray;margin: 0 0.4em 0.5em 0.4em;box-sizing: border-box;padding-bottom: 0.4em;background-color: white;}#sk-container-id-29 div.sk-label label {font-family: monospace;font-weight: bold;display: inline-block;line-height: 1.2em;}#sk-container-id-29 div.sk-label-container {text-align: center;}#sk-container-id-29 div.sk-container {/* jupyter's `normalize.less` sets `[hidden] { display: none; }` but bootstrap.min.css set `[hidden] { display: none !important; }` so we also need the `!important` here to be able to override the default hidden behavior on the sphinx rendered scikit-learn.org. See: https://github.com/scikit-learn/scikit-learn/issues/21755 */display: inline-block !important;position: relative;}#sk-container-id-29 div.sk-text-repr-fallback {display: none;}</style><div id=\"sk-container-id-29\" class=\"sk-top-container\"><div class=\"sk-text-repr-fallback\"><pre>RandomForestClassifier(class_weight=&#x27;balanced&#x27;, criterion=&#x27;entropy&#x27;,\n",
       "                       max_depth=9, max_features=&#x27;log2&#x27;, min_samples_leaf=13,\n",
       "                       n_estimators=91, random_state=19)</pre><b>In a Jupyter environment, please rerun this cell to show the HTML representation or trust the notebook. <br />On GitHub, the HTML representation is unable to render, please try loading this page with nbviewer.org.</b></div><div class=\"sk-container\" hidden><div class=\"sk-item\"><div class=\"sk-estimator sk-toggleable\"><input class=\"sk-toggleable__control sk-hidden--visually\" id=\"sk-estimator-id-43\" type=\"checkbox\" checked><label for=\"sk-estimator-id-43\" class=\"sk-toggleable__label sk-toggleable__label-arrow\">RandomForestClassifier</label><div class=\"sk-toggleable__content\"><pre>RandomForestClassifier(class_weight=&#x27;balanced&#x27;, criterion=&#x27;entropy&#x27;,\n",
       "                       max_depth=9, max_features=&#x27;log2&#x27;, min_samples_leaf=13,\n",
       "                       n_estimators=91, random_state=19)</pre></div></div></div></div></div>"
      ],
      "text/plain": [
       "RandomForestClassifier(class_weight='balanced', criterion='entropy',\n",
       "                       max_depth=9, max_features='log2', min_samples_leaf=13,\n",
       "                       n_estimators=91, random_state=19)"
      ]
     },
     "execution_count": 1962,
     "metadata": {},
     "output_type": "execute_result"
    }
   ],
   "source": [
    "# Training the RandomForest classifier model\n",
    "rf_model.fit(X_train, y_train)"
   ]
  },
  {
   "attachments": {},
   "cell_type": "markdown",
   "metadata": {},
   "source": [
    "• Predicting the results for training set"
   ]
  },
  {
   "cell_type": "code",
   "execution_count": 1963,
   "metadata": {},
   "outputs": [],
   "source": [
    "# Predicting the target classes for training set \n",
    "y_train_predicts = rf_model.predict(X_train)"
   ]
  },
  {
   "attachments": {},
   "cell_type": "markdown",
   "metadata": {},
   "source": [
    "• Checking the performance metrics for the training set"
   ]
  },
  {
   "cell_type": "code",
   "execution_count": 1964,
   "metadata": {},
   "outputs": [
    {
     "name": "stdout",
     "output_type": "stream",
     "text": [
      "Performance Score of the Training Set:\n",
      "Precision Score: 0.9632508833922262\n",
      "Recall Score: 0.8326206475259621\n",
      "F1 Score: 0.8999676844684507\n",
      "binary F1 Score: 0.8931847968545216\n"
     ]
    }
   ],
   "source": [
    "# Checking the performance metrics for the training set\n",
    "print('Performance Score of the Training Set:') \n",
    "print('Precision Score:', precision_score(y_train, y_train_predicts))\n",
    "print('Recall Score:', recall_score(y_train, y_train_predicts))\n",
    "print('F1 Score:', f1_score(y_train, y_train_predicts, average='weighted'))\n",
    "print('binary F1 Score:', f1_score(y_train, y_train_predicts, average='binary'))"
   ]
  },
  {
   "cell_type": "code",
   "execution_count": 1965,
   "metadata": {},
   "outputs": [
    {
     "data": {
      "text/plain": [
       "<sklearn.metrics._plot.confusion_matrix.ConfusionMatrixDisplay at 0x7c01d6bc0>"
      ]
     },
     "execution_count": 1965,
     "metadata": {},
     "output_type": "execute_result"
    },
    {
     "data": {
      "image/png": "[encoded data removed]",
      "text/plain": [
       "<Figure size 640x480 with 2 Axes>"
      ]
     },
     "metadata": {},
     "output_type": "display_data"
    }
   ],
   "source": [
    "# Displaying confusion matrix for training set\n",
    "ConfusionMatrixDisplay.from_predictions(y_train, y_train_predicts, normalize='true', cmap='Blues')"
   ]
  },
  {
   "attachments": {},
   "cell_type": "markdown",
   "metadata": {},
   "source": [
    "• Checking the performance metrics for the validation set"
   ]
  },
  {
   "cell_type": "code",
   "execution_count": 1966,
   "metadata": {},
   "outputs": [],
   "source": [
    "# Predicting the target classes for validation set \n",
    "y_validate_predicts = rf_model.predict(X_validate)"
   ]
  },
  {
   "cell_type": "code",
   "execution_count": 1967,
   "metadata": {},
   "outputs": [
    {
     "name": "stdout",
     "output_type": "stream",
     "text": [
      "Performance Score of the Validation Set:\n",
      "Precision Score: 0.9653179190751445\n",
      "Recall Score: 0.8156288156288156\n",
      "F1 Score: 0.8925162594233413\n",
      "binary F1 Score: 0.8931847968545216\n"
     ]
    }
   ],
   "source": [
    "# Checking the performance metrics for the validation set\n",
    "print('Performance Score of the Validation Set:') \n",
    "print('Precision Score:', precision_score(y_validate, y_validate_predicts))\n",
    "print('Recall Score:', recall_score(y_validate, y_validate_predicts))\n",
    "print('F1 Score:', f1_score(y_validate, y_validate_predicts, average='weighted'))\n",
    "print('binary F1 Score:', f1_score(y_train, y_train_predicts, average='binary'))"
   ]
  },
  {
   "cell_type": "code",
   "execution_count": 1968,
   "metadata": {},
   "outputs": [
    {
     "data": {
      "text/plain": [
       "<sklearn.metrics._plot.confusion_matrix.ConfusionMatrixDisplay at 0x775167e50>"
      ]
     },
     "execution_count": 1968,
     "metadata": {},
     "output_type": "execute_result"
    },
    {
     "data": {
      "image/png": "[encoded data removed]",
      "text/plain": [
       "<Figure size 640x480 with 2 Axes>"
      ]
     },
     "metadata": {},
     "output_type": "display_data"
    }
   ],
   "source": [
    "# Displaying confusion matrix for validation set\n",
    "ConfusionMatrixDisplay.from_predictions(y_validate, y_validate_predicts, normalize='true', cmap='Blues')"
   ]
  },
  {
   "attachments": {},
   "cell_type": "markdown",
   "metadata": {},
   "source": [
    "### 5. Model Evaluation\n",
    "\n",
    "#### 5.1] Analysing Model Performance\n",
    "\n",
    "• Checking the performance of the model on the testing set"
   ]
  },
  {
   "cell_type": "code",
   "execution_count": 1969,
   "metadata": {},
   "outputs": [
    {
     "name": "stdout",
     "output_type": "stream",
     "text": [
      "Performance Score of the Training Set:\n",
      "Precision Score: 0.02570763469518572\n",
      "Recall Score: 0.8097768331562167\n",
      "F1 Score: 0.9816092672385254\n",
      "binary F1 Score: 0.04983323523641358\n"
     ]
    }
   ],
   "source": [
    "# Predicting the target classes for testing set \n",
    "y_test_predicts = rf_model.predict(X_test)\n",
    "\n",
    "# Checking the performance metrics for the testing set\n",
    "print('Performance Score of the Training Set:') \n",
    "print('Precision Score:', precision_score(y_test, y_test_predicts))\n",
    "print('Recall Score:', recall_score(y_test, y_test_predicts))\n",
    "print('F1 Score:', f1_score(y_test, y_test_predicts, average='weighted'))\n",
    "print('binary F1 Score:', f1_score(y_test, y_test_predicts, average='binary'))"
   ]
  },
  {
   "cell_type": "code",
   "execution_count": 1970,
   "metadata": {},
   "outputs": [
    {
     "data": {
      "text/plain": [
       "<sklearn.metrics._plot.confusion_matrix.ConfusionMatrixDisplay at 0x7c01ffaf0>"
      ]
     },
     "execution_count": 1970,
     "metadata": {},
     "output_type": "execute_result"
    },
    {
     "data": {
      "image/png": "[encoded data removed]",
      "text/plain": [
       "<Figure size 640x480 with 2 Axes>"
      ]
     },
     "metadata": {},
     "output_type": "display_data"
    }
   ],
   "source": [
    "# Displaying confusion matrix for testing set\n",
    "ConfusionMatrixDisplay.from_predictions(y_test, y_test_predicts, normalize='true', cmap='Blues')"
   ]
  },
  {
   "attachments": {},
   "cell_type": "markdown",
   "metadata": {},
   "source": [
    "##### Results\n",
    "\n",
    "-\tThe weighted F1 score on the training of 89% and validation of 89% indicates that the model with Random Forest is performing consistently, while on the unseen testing data with the same high imbalanced target classes distribution as the original data, it results in 98% indicating that the model is capturing important patterns and generalised enough to identify potential fraudulent and legitimate transactions from unseen data. \n",
    "\n",
    "-\tThe binary F1 score denoting the classifications that belong to the positive class is identical at 89% for the training and validation set, while for testing its 0.0498% which might be due to the presence of a huge imbalance of target classes. \n",
    "\n",
    "-\tThe Recall score of 83% on training, 81% on validation and 80% on testing sets are decent indicating that the model correctly predicted fraudulent transactions i.e., above 80% across all the sets, out of all the actual fraudulent transactions. A high recall is important as the cost of false negatives, such as failing to identify fraudulent transactions, is significant, and it is crucial to detect and prevent as many fraudulent activities as possible.\n",
    " \n",
    "-\tThe rate of False Negative errors, such as flagging fraudulent transactions as legitimate from the confusion matrix shows 17% for the training, 18% for the validation and 19% for the testing set which is relatively consistent. \n",
    "\n",
    "-\tThe rate of False Positive errors, which involves classifying legitimate transactions as fraudulent, is consistently low and remains stable throughout the different datasets with 0.032% for the training set, 0.029% for the validation set, and 0.034% for the testing set.\n"
   ]
  },
  {
   "attachments": {},
   "cell_type": "markdown",
   "metadata": {},
   "source": [
    "#### **Feature Importance**"
   ]
  },
  {
   "attachments": {},
   "cell_type": "markdown",
   "metadata": {},
   "source": [
    "• Checking the contribution of each feature to predictions of target classes"
   ]
  },
  {
   "cell_type": "code",
   "execution_count": 2020,
   "metadata": {},
   "outputs": [
    {
     "data": {
      "text/html": [
       "\n",
       "<div id=\"altair-viz-975806035553444594212484021fde9c\"></div>\n",
       "<script type=\"text/javascript\">\n",
       "  var VEGA_DEBUG = (typeof VEGA_DEBUG == \"undefined\") ? {} : VEGA_DEBUG;\n",
       "  (function(spec, embedOpt){\n",
       "    let outputDiv = document.currentScript.previousElementSibling;\n",
       "    if (outputDiv.id !== \"altair-viz-975806035553444594212484021fde9c\") {\n",
       "      outputDiv = document.getElementById(\"altair-viz-975806035553444594212484021fde9c\");\n",
       "    }\n",
       "    const paths = {\n",
       "      \"vega\": \"https://cdn.jsdelivr.net/npm//vega@5?noext\",\n",
       "      \"vega-lib\": \"https://cdn.jsdelivr.net/npm//vega-lib?noext\",\n",
       "      \"vega-lite\": \"https://cdn.jsdelivr.net/npm//vega-lite@4.17.0?noext\",\n",
       "      \"vega-embed\": \"https://cdn.jsdelivr.net/npm//vega-embed@6?noext\",\n",
       "    };\n",
       "\n",
       "    function maybeLoadScript(lib, version) {\n",
       "      var key = `${lib.replace(\"-\", \"\")}_version`;\n",
       "      return (VEGA_DEBUG[key] == version) ?\n",
       "        Promise.resolve(paths[lib]) :\n",
       "        new Promise(function(resolve, reject) {\n",
       "          var s = document.createElement('script');\n",
       "          document.getElementsByTagName(\"head\")[0].appendChild(s);\n",
       "          s.async = true;\n",
       "          s.onload = () => {\n",
       "            VEGA_DEBUG[key] = version;\n",
       "            return resolve(paths[lib]);\n",
       "          };\n",
       "          s.onerror = () => reject(`Error loading script: ${paths[lib]}`);\n",
       "          s.src = paths[lib];\n",
       "        });\n",
       "    }\n",
       "\n",
       "    function showError(err) {\n",
       "      outputDiv.innerHTML = `<div class=\"error\" style=\"color:red;\">${err}</div>`;\n",
       "      throw err;\n",
       "    }\n",
       "\n",
       "    function displayChart(vegaEmbed) {\n",
       "      vegaEmbed(outputDiv, spec, embedOpt)\n",
       "        .catch(err => showError(`Javascript Error: ${err.message}<br>This usually means there's a typo in your chart specification. See the javascript console for the full traceback.`));\n",
       "    }\n",
       "\n",
       "    if(typeof define === \"function\" && define.amd) {\n",
       "      requirejs.config({paths});\n",
       "      require([\"vega-embed\"], displayChart, err => showError(`Error loading script: ${err.message}`));\n",
       "    } else {\n",
       "      maybeLoadScript(\"vega\", \"5\")\n",
       "        .then(() => maybeLoadScript(\"vega-lite\", \"4.17.0\"))\n",
       "        .then(() => maybeLoadScript(\"vega-embed\", \"6\"))\n",
       "        .catch(showError)\n",
       "        .then(() => displayChart(vegaEmbed));\n",
       "    }\n",
       "  })({\"config\": {\"view\": {\"continuousWidth\": 400, \"continuousHeight\": 300}}, \"data\": {\"name\": \"data-afb21a3a5cf60cca4bbbde6693d86796\"}, \"mark\": \"bar\", \"encoding\": {\"tooltip\": [{\"field\": \"Feature_Name\", \"type\": \"nominal\"}, {\"field\": \"Feature_Importance_Rate\", \"type\": \"quantitative\"}], \"x\": {\"field\": \"Feature_Importance_Rate\", \"type\": \"quantitative\"}, \"y\": {\"field\": \"Feature_Name\", \"sort\": \"-x\", \"type\": \"nominal\"}}, \"$schema\": \"https://vega.github.io/schema/vega-lite/v4.17.0.json\", \"datasets\": {\"data-afb21a3a5cf60cca4bbbde6693d86796\": [{\"Feature_Name\": \"amt\", \"Feature_Importance_Rate\": 0.7059943959310758}, {\"Feature_Name\": \"age\", \"Feature_Importance_Rate\": 0.0282195288144658}, {\"Feature_Name\": \"month\", \"Feature_Importance_Rate\": 0.0601757078044647}, {\"Feature_Name\": \"day\", \"Feature_Importance_Rate\": 0.012285568408959637}, {\"Feature_Name\": \"distance_km\", \"Feature_Importance_Rate\": 0.010937680748963919}, {\"Feature_Name\": \"job_index\", \"Feature_Importance_Rate\": 0.013704742585383378}, {\"Feature_Name\": \"merchant_index\", \"Feature_Importance_Rate\": 0.012516898893283477}, {\"Feature_Name\": \"category_entertainment\", \"Feature_Importance_Rate\": 0.007541461893428629}, {\"Feature_Name\": \"category_food_dining\", \"Feature_Importance_Rate\": 0.0104345435023824}, {\"Feature_Name\": \"category_gas_transport\", \"Feature_Importance_Rate\": 0.0059254125929822585}, {\"Feature_Name\": \"category_grocery_net\", \"Feature_Importance_Rate\": 0.0012029021262280326}, {\"Feature_Name\": \"category_grocery_pos\", \"Feature_Importance_Rate\": 0.029809080620688287}, {\"Feature_Name\": \"category_health_fitness\", \"Feature_Importance_Rate\": 0.0030046843623782052}, {\"Feature_Name\": \"category_home\", \"Feature_Importance_Rate\": 0.015033464521185912}, {\"Feature_Name\": \"category_kids_pets\", \"Feature_Importance_Rate\": 0.007077626993438891}, {\"Feature_Name\": \"category_misc_net\", \"Feature_Importance_Rate\": 0.01808462596654855}, {\"Feature_Name\": \"category_misc_pos\", \"Feature_Importance_Rate\": 0.0012750866478499284}, {\"Feature_Name\": \"category_personal_care\", \"Feature_Importance_Rate\": 0.0036234177907811618}, {\"Feature_Name\": \"category_shopping_net\", \"Feature_Importance_Rate\": 0.04365532128215834}, {\"Feature_Name\": \"category_shopping_pos\", \"Feature_Importance_Rate\": 0.005958150847462791}, {\"Feature_Name\": \"category_travel\", \"Feature_Importance_Rate\": 0.003539697665889892}]}}, {\"mode\": \"vega-lite\"});\n",
       "</script>"
      ],
      "text/plain": [
       "alt.Chart(...)"
      ]
     },
     "execution_count": 2020,
     "metadata": {},
     "output_type": "execute_result"
    }
   ],
   "source": [
    "# Creating a dataframe to extract the feature names\n",
    "feature_names = pd.DataFrame(df_sampled)\n",
    "\n",
    "# Creating a pandas dataframe with names of all the features and their corresponding feature importance values\n",
    "df_rf_feature_imporance = pd.DataFrame({'Feature_Name': feature_names.columns, 'Feature_Importance_Rate': rf_model.feature_importances_})\n",
    "\n",
    "# Displaying a chart to visualizes the feature importance rates for each feature\n",
    "alt.Chart(df_rf_feature_imporance).mark_bar().encode(x='Feature_Importance_Rate', y=alt.Y('Feature_Name', sort='-x'), tooltip=['Feature_Name','Feature_Importance_Rate']) "
   ]
  },
  {
   "attachments": {},
   "cell_type": "markdown",
   "metadata": {},
   "source": [
    "##### Results\n",
    "\n",
    "- Extracting the feature importance measure, that provide valuable insights into the features and helps in understanding which features are making the most significant contributions to the model's predictions.\n",
    "\n",
    "- The above bar graph illustrates that the least contributing features are related to some of the values of the transaction's category namely 'category_travel', 'category_health_fitness', 'category_misc_pos', and 'category_grocery_net'.\n",
    "\n",
    "- The rest of the features are contributing the most to the prediction of target classes and their feature's importance rate ranges between 0.73% to 0.01%. \n",
    "\n",
    "- Therefore, in the next experiments, using these Feature Importance information to verify if the model's generalized performance could be enhanced. "
   ]
  },
  {
   "attachments": {},
   "cell_type": "markdown",
   "metadata": {},
   "source": [
    "• Removing features that are least contributing the model prediction of target classes"
   ]
  },
  {
   "cell_type": "code",
   "execution_count": 2021,
   "metadata": {},
   "outputs": [],
   "source": [
    "# Creating the copy of the dataframe\n",
    "df_bankdata_encoded_copy = df_bankdata_encoded.copy()\n",
    "\n",
    "# Creating a list of features that are least contributing the model prediction of target classes\n",
    "least_important_features = [ 'category_travel', 'category_health_fitness', 'category_misc_pos', 'category_grocery_net']\n",
    "\n",
    "# Removing features that are least contributing the model prediction of target classes\n",
    "df_bankdata_encoded_copy = df_bankdata_encoded_copy.drop(least_important_features, axis=1)"
   ]
  },
  {
   "cell_type": "code",
   "execution_count": 2022,
   "metadata": {},
   "outputs": [
    {
     "data": {
      "text/plain": [
       "Index(['is_fraud', 'amt', 'age', 'month', 'day', 'distance_km', 'job_index',\n",
       "       'merchant_index', 'category_entertainment', 'category_food_dining',\n",
       "       'category_gas_transport', 'category_grocery_pos', 'category_home',\n",
       "       'category_kids_pets', 'category_misc_net', 'category_personal_care',\n",
       "       'category_shopping_net', 'category_shopping_pos'],\n",
       "      dtype='object')"
      ]
     },
     "execution_count": 2022,
     "metadata": {},
     "output_type": "execute_result"
    }
   ],
   "source": [
    "# Checking the features names that are contributing to the prediction of target classes\n",
    "df_bankdata_encoded_copy.columns"
   ]
  },
  {
   "attachments": {},
   "cell_type": "markdown",
   "metadata": {},
   "source": [
    "• Splitting the bank dataset into data - 80% and testing - 20%"
   ]
  },
  {
   "cell_type": "code",
   "execution_count": 2023,
   "metadata": {},
   "outputs": [],
   "source": [
    "# Splitting the bank data into two separate datasets - data with 80% and test with 20%\n",
    "df_data_ifeature, df_test_ifeature = train_test_split(df_bankdata_encoded_copy, test_size=0.2, random_state=19)"
   ]
  },
  {
   "attachments": {},
   "cell_type": "markdown",
   "metadata": {},
   "source": [
    "• Performing undersampling on the data set"
   ]
  },
  {
   "cell_type": "code",
   "execution_count": 2024,
   "metadata": {},
   "outputs": [],
   "source": [
    "# Undersmapling the dataset to have equal classes of the target variable\n",
    "df_sampled_ifeature = df_data_ifeature.groupby('is_fraud').sample(df_data_ifeature[df_data_ifeature['is_fraud'] == 1].count()['is_fraud'])"
   ]
  },
  {
   "attachments": {},
   "cell_type": "markdown",
   "metadata": {},
   "source": [
    "• Selecting Target Variable and Features"
   ]
  },
  {
   "cell_type": "code",
   "execution_count": 2025,
   "metadata": {},
   "outputs": [],
   "source": [
    "# Extracting the target variable 'is_fraud' into 'y_test' variable\n",
    "y_test_ifeatures = df_test_ifeature.pop('is_fraud')\n",
    "\n",
    "# Creating 'X_test' variable with all the test features\n",
    "X_test_ifeatures = df_test_ifeature"
   ]
  },
  {
   "cell_type": "code",
   "execution_count": 2026,
   "metadata": {},
   "outputs": [],
   "source": [
    "# Extracting the target variable 'is_fraud' into 'y_test' variable\n",
    "y_ifeatures = df_sampled_ifeature.pop('is_fraud')\n",
    "\n",
    "# Creating 'X_test' variable with all the test features\n",
    "X_ifeatures = df_sampled_ifeature"
   ]
  },
  {
   "cell_type": "code",
   "execution_count": 2027,
   "metadata": {},
   "outputs": [
    {
     "data": {
      "text/plain": [
       "0    0.998896\n",
       "1    0.001104\n",
       "Name: is_fraud, dtype: float64"
      ]
     },
     "execution_count": 2027,
     "metadata": {},
     "output_type": "execute_result"
    }
   ],
   "source": [
    "# Checking the frequencies of classes of the target variable - Testing dataset\n",
    "y_test_ifeatures.value_counts(normalize=True)"
   ]
  },
  {
   "cell_type": "code",
   "execution_count": 2028,
   "metadata": {},
   "outputs": [
    {
     "data": {
      "text/plain": [
       "0    0.5\n",
       "1    0.5\n",
       "Name: is_fraud, dtype: float64"
      ]
     },
     "execution_count": 2028,
     "metadata": {},
     "output_type": "execute_result"
    }
   ],
   "source": [
    "# Checking the frequencies of classes of the target variable - Sampled dataset\n",
    "y_ifeatures.value_counts(normalize=True)"
   ]
  },
  {
   "attachments": {},
   "cell_type": "markdown",
   "metadata": {},
   "source": [
    "• Splitting the sampled dataset into train - 80% and validation - 20%"
   ]
  },
  {
   "cell_type": "code",
   "execution_count": 2029,
   "metadata": {},
   "outputs": [],
   "source": [
    "# Splitting the sampled dataset into two separate datasets - training with 80% and validation with 20%\n",
    "X_train_ifeatures, X_validate_ifeatures, y_train_ifeatures, y_validate_ifeatures = train_test_split(X_ifeatures, y_ifeatures, test_size=0.2, random_state=19, stratify=y_ifeatures)"
   ]
  },
  {
   "attachments": {},
   "cell_type": "markdown",
   "metadata": {},
   "source": [
    "• Features Scaling"
   ]
  },
  {
   "cell_type": "code",
   "execution_count": 2030,
   "metadata": {},
   "outputs": [],
   "source": [
    "# Instantiating the object of the StandardScaler class\n",
    "scaler = StandardScaler()\n",
    "\n",
    "# Fitting the object to the training dataset \n",
    "scaler.fit(X_train_ifeatures)\n",
    "\n",
    "# Transforming and replacing the features data from all the sets\n",
    "X_train_ifeatures = scaler.transform(X_train_ifeatures)\n",
    "X_validate_ifeatures = scaler.transform(X_validate_ifeatures)\n",
    "X_test_ifeatures = scaler.transform(X_test_ifeatures)"
   ]
  },
  {
   "attachments": {},
   "cell_type": "markdown",
   "metadata": {},
   "source": [
    "**•  Performing Hyperparameter Tuning**"
   ]
  },
  {
   "cell_type": "code",
   "execution_count": 1982,
   "metadata": {},
   "outputs": [],
   "source": [
    "# Defining the parameter distributions to search over\n",
    "hyperparams_dict = {'n_estimators': randint(1, 200),\n",
    "                    'max_depth': randint(1, 20),\n",
    "                    'min_samples_leaf': randint(3, 20),\n",
    "                    'class_weight': ['balanced'],\n",
    "                    'criterion': ['gini', 'entropy'],\n",
    "                    'max_features': ['sqrt', 'log2']}"
   ]
  },
  {
   "cell_type": "code",
   "execution_count": 1983,
   "metadata": {},
   "outputs": [
    {
     "name": "stdout",
     "output_type": "stream",
     "text": [
      "Fitting 5 folds for each of 10 candidates, totalling 50 fits\n",
      "Best Parameters for Random Forest classifier: {'class_weight': 'balanced', 'criterion': 'entropy', 'max_depth': 15, 'max_features': 'log2', 'min_samples_leaf': 5, 'n_estimators': 169}\n",
      "Best Score for Random Forest classifier: 0.9220618585920969\n"
     ]
    }
   ],
   "source": [
    "# Creating a object of RandomForest class\n",
    "rf_model1 = RandomForestClassifier()\n",
    "\n",
    "# Creating a object of StratifiedKFold class for cross-validation\n",
    "stf_cv = StratifiedKFold(n_splits=5)\n",
    "\n",
    "# Creating a object of RandomizedSearchCV class \n",
    "rf_random_search = RandomizedSearchCV(rf_model1, hyperparams_dict, cv=stf_cv, verbose=1, random_state=19)\n",
    "\n",
    "# Combining the training and validation sets\n",
    "X_merged_ifeatures = np.concatenate((X_train_ifeatures, X_validate_ifeatures), axis=0)\n",
    "y_merged_ifeatures = np.concatenate((y_train_ifeatures, y_validate_ifeatures), axis=0)\n",
    "\n",
    "# Training the RandomForest classifier with hyperparameters\n",
    "rf_random_search.fit(X_merged_ifeatures, y_merged_ifeatures)\n",
    "\n",
    "# Displaying the best parameters and best score\n",
    "print(\"Best Parameters for Random Forest classifier:\", rf_random_search.best_params_)\n",
    "print(\"Best Score for Random Forest classifier:\", rf_random_search.best_score_)"
   ]
  },
  {
   "attachments": {},
   "cell_type": "markdown",
   "metadata": {},
   "source": [
    "##### **C] Random Forest Classifier with Important Features - Experiment 3**"
   ]
  },
  {
   "cell_type": "code",
   "execution_count": 2031,
   "metadata": {},
   "outputs": [],
   "source": [
    "# Creating a object of the RandomForest classifier class \n",
    "rf_model2 = RandomForestClassifier(n_estimators=169, max_depth=15, min_samples_leaf=5, class_weight='balanced', criterion='entropy',  max_features='log2', random_state=19)"
   ]
  },
  {
   "cell_type": "code",
   "execution_count": 2032,
   "metadata": {},
   "outputs": [
    {
     "data": {
      "text/html": [
       "<style>#sk-container-id-31 {color: black;background-color: white;}#sk-container-id-31 pre{padding: 0;}#sk-container-id-31 div.sk-toggleable {background-color: white;}#sk-container-id-31 label.sk-toggleable__label {cursor: pointer;display: block;width: 100%;margin-bottom: 0;padding: 0.3em;box-sizing: border-box;text-align: center;}#sk-container-id-31 label.sk-toggleable__label-arrow:before {content: \"▸\";float: left;margin-right: 0.25em;color: #696969;}#sk-container-id-31 label.sk-toggleable__label-arrow:hover:before {color: black;}#sk-container-id-31 div.sk-estimator:hover label.sk-toggleable__label-arrow:before {color: black;}#sk-container-id-31 div.sk-toggleable__content {max-height: 0;max-width: 0;overflow: hidden;text-align: left;background-color: #f0f8ff;}#sk-container-id-31 div.sk-toggleable__content pre {margin: 0.2em;color: black;border-radius: 0.25em;background-color: #f0f8ff;}#sk-container-id-31 input.sk-toggleable__control:checked~div.sk-toggleable__content {max-height: 200px;max-width: 100%;overflow: auto;}#sk-container-id-31 input.sk-toggleable__control:checked~label.sk-toggleable__label-arrow:before {content: \"▾\";}#sk-container-id-31 div.sk-estimator input.sk-toggleable__control:checked~label.sk-toggleable__label {background-color: #d4ebff;}#sk-container-id-31 div.sk-label input.sk-toggleable__control:checked~label.sk-toggleable__label {background-color: #d4ebff;}#sk-container-id-31 input.sk-hidden--visually {border: 0;clip: rect(1px 1px 1px 1px);clip: rect(1px, 1px, 1px, 1px);height: 1px;margin: -1px;overflow: hidden;padding: 0;position: absolute;width: 1px;}#sk-container-id-31 div.sk-estimator {font-family: monospace;background-color: #f0f8ff;border: 1px dotted black;border-radius: 0.25em;box-sizing: border-box;margin-bottom: 0.5em;}#sk-container-id-31 div.sk-estimator:hover {background-color: #d4ebff;}#sk-container-id-31 div.sk-parallel-item::after {content: \"\";width: 100%;border-bottom: 1px solid gray;flex-grow: 1;}#sk-container-id-31 div.sk-label:hover label.sk-toggleable__label {background-color: #d4ebff;}#sk-container-id-31 div.sk-serial::before {content: \"\";position: absolute;border-left: 1px solid gray;box-sizing: border-box;top: 0;bottom: 0;left: 50%;z-index: 0;}#sk-container-id-31 div.sk-serial {display: flex;flex-direction: column;align-items: center;background-color: white;padding-right: 0.2em;padding-left: 0.2em;position: relative;}#sk-container-id-31 div.sk-item {position: relative;z-index: 1;}#sk-container-id-31 div.sk-parallel {display: flex;align-items: stretch;justify-content: center;background-color: white;position: relative;}#sk-container-id-31 div.sk-item::before, #sk-container-id-31 div.sk-parallel-item::before {content: \"\";position: absolute;border-left: 1px solid gray;box-sizing: border-box;top: 0;bottom: 0;left: 50%;z-index: -1;}#sk-container-id-31 div.sk-parallel-item {display: flex;flex-direction: column;z-index: 1;position: relative;background-color: white;}#sk-container-id-31 div.sk-parallel-item:first-child::after {align-self: flex-end;width: 50%;}#sk-container-id-31 div.sk-parallel-item:last-child::after {align-self: flex-start;width: 50%;}#sk-container-id-31 div.sk-parallel-item:only-child::after {width: 0;}#sk-container-id-31 div.sk-dashed-wrapped {border: 1px dashed gray;margin: 0 0.4em 0.5em 0.4em;box-sizing: border-box;padding-bottom: 0.4em;background-color: white;}#sk-container-id-31 div.sk-label label {font-family: monospace;font-weight: bold;display: inline-block;line-height: 1.2em;}#sk-container-id-31 div.sk-label-container {text-align: center;}#sk-container-id-31 div.sk-container {/* jupyter's `normalize.less` sets `[hidden] { display: none; }` but bootstrap.min.css set `[hidden] { display: none !important; }` so we also need the `!important` here to be able to override the default hidden behavior on the sphinx rendered scikit-learn.org. See: https://github.com/scikit-learn/scikit-learn/issues/21755 */display: inline-block !important;position: relative;}#sk-container-id-31 div.sk-text-repr-fallback {display: none;}</style><div id=\"sk-container-id-31\" class=\"sk-top-container\"><div class=\"sk-text-repr-fallback\"><pre>RandomForestClassifier(class_weight=&#x27;balanced&#x27;, criterion=&#x27;entropy&#x27;,\n",
       "                       max_depth=15, max_features=&#x27;log2&#x27;, min_samples_leaf=5,\n",
       "                       n_estimators=169, random_state=19)</pre><b>In a Jupyter environment, please rerun this cell to show the HTML representation or trust the notebook. <br />On GitHub, the HTML representation is unable to render, please try loading this page with nbviewer.org.</b></div><div class=\"sk-container\" hidden><div class=\"sk-item\"><div class=\"sk-estimator sk-toggleable\"><input class=\"sk-toggleable__control sk-hidden--visually\" id=\"sk-estimator-id-45\" type=\"checkbox\" checked><label for=\"sk-estimator-id-45\" class=\"sk-toggleable__label sk-toggleable__label-arrow\">RandomForestClassifier</label><div class=\"sk-toggleable__content\"><pre>RandomForestClassifier(class_weight=&#x27;balanced&#x27;, criterion=&#x27;entropy&#x27;,\n",
       "                       max_depth=15, max_features=&#x27;log2&#x27;, min_samples_leaf=5,\n",
       "                       n_estimators=169, random_state=19)</pre></div></div></div></div></div>"
      ],
      "text/plain": [
       "RandomForestClassifier(class_weight='balanced', criterion='entropy',\n",
       "                       max_depth=15, max_features='log2', min_samples_leaf=5,\n",
       "                       n_estimators=169, random_state=19)"
      ]
     },
     "execution_count": 2032,
     "metadata": {},
     "output_type": "execute_result"
    }
   ],
   "source": [
    "# Training the RandomForest classifier model\n",
    "rf_model2.fit(X_train_ifeatures, y_train_ifeatures)"
   ]
  },
  {
   "cell_type": "code",
   "execution_count": 2033,
   "metadata": {},
   "outputs": [],
   "source": [
    "# Predicting the target classes for training set \n",
    "y_train_ifpredicts = rf_model2.predict(X_train_ifeatures)"
   ]
  },
  {
   "attachments": {},
   "cell_type": "markdown",
   "metadata": {},
   "source": [
    "• Checking the performance metrics for the training set"
   ]
  },
  {
   "cell_type": "code",
   "execution_count": 2034,
   "metadata": {},
   "outputs": [
    {
     "name": "stdout",
     "output_type": "stream",
     "text": [
      "Performance Score of the Training Set:\n",
      "Precision Score: 0.9688888888888889\n",
      "Recall Score: 0.9321930360415394\n",
      "F1 Score: 0.951112584403212\n",
      "binary F1 Score: 0.950186799501868\n"
     ]
    }
   ],
   "source": [
    "# Checking the performance metrics for the training set\n",
    "print('Performance Score of the Training Set:') \n",
    "print('Precision Score:', precision_score(y_train_ifeatures, y_train_ifpredicts))\n",
    "print('Recall Score:', recall_score(y_train_ifeatures, y_train_ifpredicts))\n",
    "print('F1 Score:', f1_score(y_train_ifeatures, y_train_ifpredicts, average='weighted'))\n",
    "print('binary F1 Score:', f1_score(y_train_ifeatures, y_train_ifpredicts, average='binary'))"
   ]
  },
  {
   "cell_type": "code",
   "execution_count": 2035,
   "metadata": {},
   "outputs": [
    {
     "data": {
      "text/plain": [
       "<sklearn.metrics._plot.confusion_matrix.ConfusionMatrixDisplay at 0x41335c610>"
      ]
     },
     "execution_count": 2035,
     "metadata": {},
     "output_type": "execute_result"
    },
    {
     "data": {
      "image/png": "[encoded data removed]",
      "text/plain": [
       "<Figure size 640x480 with 2 Axes>"
      ]
     },
     "metadata": {},
     "output_type": "display_data"
    }
   ],
   "source": [
    "# Displaying confusion matrix for training set\n",
    "ConfusionMatrixDisplay.from_predictions(y_train_ifeatures, y_train_ifpredicts, normalize='true', cmap='Blues')"
   ]
  },
  {
   "attachments": {},
   "cell_type": "markdown",
   "metadata": {},
   "source": [
    "• Checking the performance metrics for the validation set"
   ]
  },
  {
   "cell_type": "code",
   "execution_count": 2036,
   "metadata": {},
   "outputs": [],
   "source": [
    "# Predicting the target classes for validation set \n",
    "y_validate_ifpredicts = rf_model2.predict(X_validate_ifeatures)"
   ]
  },
  {
   "cell_type": "code",
   "execution_count": 2037,
   "metadata": {},
   "outputs": [
    {
     "name": "stdout",
     "output_type": "stream",
     "text": [
      "Performance Score of the Validation Set:\n",
      "Precision Score: 0.941952506596306\n",
      "Recall Score: 0.8717948717948718\n",
      "F1 Score: 0.9089090788979155\n",
      "binary F1 Score: 0.9055168040583386\n"
     ]
    }
   ],
   "source": [
    "# Checking the performance metrics for the validation set\n",
    "print('Performance Score of the Validation Set:') \n",
    "print('Precision Score:', precision_score(y_validate_ifeatures, y_validate_ifpredicts))\n",
    "print('Recall Score:', recall_score(y_validate_ifeatures, y_validate_ifpredicts))\n",
    "print('F1 Score:', f1_score(y_validate_ifeatures, y_validate_ifpredicts, average='weighted'))\n",
    "print('binary F1 Score:', f1_score(y_validate_ifeatures, y_validate_ifpredicts, average='binary'))"
   ]
  },
  {
   "cell_type": "code",
   "execution_count": 2038,
   "metadata": {},
   "outputs": [
    {
     "data": {
      "text/plain": [
       "<sklearn.metrics._plot.confusion_matrix.ConfusionMatrixDisplay at 0x68d064070>"
      ]
     },
     "execution_count": 2038,
     "metadata": {},
     "output_type": "execute_result"
    },
    {
     "data": {
      "image/png": "[encoded data removed]",
      "text/plain": [
       "<Figure size 640x480 with 2 Axes>"
      ]
     },
     "metadata": {},
     "output_type": "display_data"
    }
   ],
   "source": [
    "# Displaying confusion matrix for validation set\n",
    "ConfusionMatrixDisplay.from_predictions(y_validate_ifeatures, y_validate_ifpredicts, normalize='true', cmap='Blues')"
   ]
  },
  {
   "attachments": {},
   "cell_type": "markdown",
   "metadata": {},
   "source": [
    "### 5. Model Evaluation\n",
    "\n",
    "#### 5.1] Analysing Model Performance\n",
    "\n",
    "• Checking the performance of the model on the testing set"
   ]
  },
  {
   "cell_type": "code",
   "execution_count": 2039,
   "metadata": {},
   "outputs": [
    {
     "name": "stdout",
     "output_type": "stream",
     "text": [
      "Performance Score of the Training Set:\n",
      "Precision Score: 0.020645804762498443\n",
      "Recall Score: 0.8799149840595112\n",
      "F1 Score: 0.9752848647736501\n",
      "binary F1 Score: 0.040344978804268385\n"
     ]
    }
   ],
   "source": [
    "# Predicting the target classes for testing set \n",
    "y_test_ifpredicts = rf_model2.predict(X_test_ifeatures)\n",
    "\n",
    "# Checking the performance metrics for the testing set\n",
    "print('Performance Score of the Training Set:') \n",
    "print('Precision Score:', precision_score(y_test_ifeatures, y_test_ifpredicts))\n",
    "print('Recall Score:', recall_score(y_test_ifeatures, y_test_ifpredicts))\n",
    "print('F1 Score:', f1_score(y_test_ifeatures, y_test_ifpredicts, average='weighted'))\n",
    "print('binary F1 Score:', f1_score(y_test_ifeatures, y_test_ifpredicts, average='binary'))"
   ]
  },
  {
   "cell_type": "code",
   "execution_count": 2040,
   "metadata": {},
   "outputs": [
    {
     "data": {
      "text/plain": [
       "<sklearn.metrics._plot.confusion_matrix.ConfusionMatrixDisplay at 0x784c8d660>"
      ]
     },
     "execution_count": 2040,
     "metadata": {},
     "output_type": "execute_result"
    },
    {
     "data": {
      "image/png": "[encoded data removed]",
      "text/plain": [
       "<Figure size 640x480 with 2 Axes>"
      ]
     },
     "metadata": {},
     "output_type": "display_data"
    }
   ],
   "source": [
    "# Displaying confusion matrix for testing set\n",
    "ConfusionMatrixDisplay.from_predictions(y_test_ifeatures, y_test_ifpredicts, normalize='true', cmap='Blues')"
   ]
  },
  {
   "attachments": {},
   "cell_type": "markdown",
   "metadata": {},
   "source": [
    "##### Results\n",
    "\n",
    "-\tWith a weighted F1 score of 95% on the training, 90% on the validation and 97% on the testing set, the Random Forest model trained with important features demonstrates relatively consistent performance suggesting that the model has a strong ability to generalize and effectively identify potentially fraudulent activities on unseen data.\n",
    "\n",
    "-\tThe binary F1 score for classifying positive class instances is 95% for training and 90% for validation. However, the score drops significantly to 0.0403% for testing, potentially due to a significant imbalance in the target classes.\n",
    "\n",
    "-\tThe Recall score of 93% on training is slightly higher than the 87% on validation and testing sets, which indicates that the model correctly identified a higher proportion of fraudulent transactions compared to the classification model from the 2nd experiment. This performance was consistent across all sets, with the model correctly predicting over 87% of actual fraudulent transactions.\n",
    "\n",
    "-\tHowever, from the confusion matrix, the rate of False Negative errors, with 0.068% for training, 13% for validation and 12% for testing illustrates the overfitting nature of the model indicating that the model is misclassifying a significant amount of fraudulent transactions as legitimate which might lead to financial losses and loss in customer’s trust.\n",
    "\n",
    "-\tThe rate of False Positive errors, which resulted in 0.03% for training, 0.054% for validation and 0.046% for the testing set is not consistent which represents misclassifying legitimate transactions as fraudulent."
   ]
  },
  {
   "attachments": {},
   "cell_type": "markdown",
   "metadata": {},
   "source": [
    "##### **D] MLPClassifier Neural Networks - Experiment 4**"
   ]
  },
  {
   "attachments": {},
   "cell_type": "markdown",
   "metadata": {},
   "source": [
    "• Defining Architecture"
   ]
  },
  {
   "cell_type": "code",
   "execution_count": 2067,
   "metadata": {},
   "outputs": [],
   "source": [
    "# Creating a list that holds the hidden layer=256\n",
    "hidden_layers = [256]\n",
    "\n",
    "# Creating a variable that holds the batch_size=32\n",
    "batch_size = 32\n",
    "\n",
    "# Creating a variable that holds the hidden_activation=relu\n",
    "hidden_activation = 'relu'\n",
    "\n",
    "# Creating a variable that holds the solver_algo=adam\n",
    "solver_algo = 'adam'\n",
    "\n",
    "# Creating a variable that holds the learning rate=constant\n",
    "lr = 'constant'\n",
    "\n",
    "# Creating a variable that holds the lr_init=0.001\n",
    "lr_init = 0.001\n",
    "\n",
    "# Creating a variable that holds the epochs=10\n",
    "epochs = 10"
   ]
  },
  {
   "attachments": {},
   "cell_type": "markdown",
   "metadata": {},
   "source": [
    "• Instantiating the MLPClassifier with the hyperparameters"
   ]
  },
  {
   "cell_type": "code",
   "execution_count": 2068,
   "metadata": {},
   "outputs": [
    {
     "name": "stderr",
     "output_type": "stream",
     "text": [
      "/usr/local/lib/python3.10/site-packages/sklearn/neural_network/_multilayer_perceptron.py:686: ConvergenceWarning: Stochastic Optimizer: Maximum iterations (10) reached and the optimization hasn't converged yet.\n",
      "  warnings.warn(\n"
     ]
    }
   ],
   "source": [
    "# Creating the object of MLPClassifier with above defined hyperparameters\n",
    "binary_class_nn = MLPClassifier(hidden_layer_sizes=hidden_layers, batch_size=batch_size,\n",
    "                                activation=hidden_activation, solver=solver_algo,  \n",
    "                                learning_rate = lr, learning_rate_init=lr_init,\n",
    "                                max_iter=epochs, random_state=19).fit(X_train_ifeatures, y_train_ifeatures)"
   ]
  },
  {
   "attachments": {},
   "cell_type": "markdown",
   "metadata": {},
   "source": [
    "• Checking the performance metrics for the training set"
   ]
  },
  {
   "cell_type": "code",
   "execution_count": 2069,
   "metadata": {},
   "outputs": [
    {
     "name": "stdout",
     "output_type": "stream",
     "text": [
      "Performance Score of the Training Set:\n",
      "Precision Score: 0.9164948453608247\n",
      "Recall Score: 0.8145998778252902\n",
      "F1 Score: 0.8697869876263716\n",
      "binary F1 Score: 0.8625485122897801\n"
     ]
    }
   ],
   "source": [
    "# Predicting the target classes for training set \n",
    "y_train_ifpredicts = binary_class_nn.predict(X_train_ifeatures)\n",
    "\n",
    "# Checking the performance metrics for the training set\n",
    "print('Performance Score of the Training Set:') \n",
    "print('Precision Score:', precision_score(y_train_ifeatures, y_train_ifpredicts))\n",
    "print('Recall Score:', recall_score(y_train_ifeatures, y_train_ifpredicts))\n",
    "print('F1 Score:', f1_score(y_train_ifeatures, y_train_ifpredicts, average='weighted'))\n",
    "print('binary F1 Score:', f1_score(y_train_ifeatures, y_train_ifpredicts, average='binary'))"
   ]
  },
  {
   "cell_type": "code",
   "execution_count": 2070,
   "metadata": {},
   "outputs": [
    {
     "data": {
      "text/plain": [
       "<sklearn.metrics._plot.confusion_matrix.ConfusionMatrixDisplay at 0x775c5ad70>"
      ]
     },
     "execution_count": 2070,
     "metadata": {},
     "output_type": "execute_result"
    },
    {
     "data": {
      "image/png": "[encoded data removed]",
      "text/plain": [
       "<Figure size 640x480 with 2 Axes>"
      ]
     },
     "metadata": {},
     "output_type": "display_data"
    }
   ],
   "source": [
    "# Displaying confusion matrix for training set\n",
    "ConfusionMatrixDisplay.from_predictions(y_train_ifeatures, y_train_ifpredicts, normalize='true', cmap='Blues')"
   ]
  },
  {
   "attachments": {},
   "cell_type": "markdown",
   "metadata": {},
   "source": [
    "• Checking the performance metrics for the validation set"
   ]
  },
  {
   "cell_type": "code",
   "execution_count": 2071,
   "metadata": {},
   "outputs": [
    {
     "name": "stdout",
     "output_type": "stream",
     "text": [
      "Performance Score of the Validation Set:\n",
      "Precision Score: 0.9101123595505618\n",
      "Recall Score: 0.7912087912087912\n",
      "F1 Score: 0.855917532410414\n",
      "binary F1 Score: 0.8465055519268452\n"
     ]
    }
   ],
   "source": [
    "# Predicting the target classes for validation set \n",
    "y_validate_ifpredicts = binary_class_nn.predict(X_validate_ifeatures)\n",
    "\n",
    "# Checking the performance metrics for the validation set\n",
    "print('Performance Score of the Validation Set:') \n",
    "print('Precision Score:', precision_score(y_validate_ifeatures, y_validate_ifpredicts))\n",
    "print('Recall Score:', recall_score(y_validate_ifeatures, y_validate_ifpredicts))\n",
    "print('F1 Score:', f1_score(y_validate_ifeatures, y_validate_ifpredicts, average='weighted'))\n",
    "print('binary F1 Score:', f1_score(y_validate_ifeatures, y_validate_ifpredicts, average='binary'))"
   ]
  },
  {
   "cell_type": "code",
   "execution_count": 2072,
   "metadata": {},
   "outputs": [
    {
     "data": {
      "text/plain": [
       "<sklearn.metrics._plot.confusion_matrix.ConfusionMatrixDisplay at 0x68d118880>"
      ]
     },
     "execution_count": 2072,
     "metadata": {},
     "output_type": "execute_result"
    },
    {
     "data": {
      "image/png": "[encoded data removed]",
      "text/plain": [
       "<Figure size 640x480 with 2 Axes>"
      ]
     },
     "metadata": {},
     "output_type": "display_data"
    }
   ],
   "source": [
    "# Displaying confusion matrix for validation set\n",
    "ConfusionMatrixDisplay.from_predictions(y_validate_ifeatures, y_validate_ifpredicts, normalize='true', cmap='Blues')"
   ]
  },
  {
   "attachments": {},
   "cell_type": "markdown",
   "metadata": {},
   "source": [
    "• Changing the value of the hyperparameter"
   ]
  },
  {
   "cell_type": "code",
   "execution_count": 2073,
   "metadata": {},
   "outputs": [],
   "source": [
    "# Changing the value of lr_init = 0.01\n",
    "lr_init = 0.01"
   ]
  },
  {
   "cell_type": "code",
   "execution_count": 2074,
   "metadata": {},
   "outputs": [
    {
     "name": "stderr",
     "output_type": "stream",
     "text": [
      "/usr/local/lib/python3.10/site-packages/sklearn/neural_network/_multilayer_perceptron.py:686: ConvergenceWarning: Stochastic Optimizer: Maximum iterations (10) reached and the optimization hasn't converged yet.\n",
      "  warnings.warn(\n"
     ]
    }
   ],
   "source": [
    "# Creating the object of MLPClassifier with above defined hyperparameters\n",
    "binary_class_nn1 = MLPClassifier(hidden_layer_sizes=hidden_layers, batch_size=batch_size,\n",
    "                   activation=hidden_activation, solver=solver_algo,  \n",
    "                   learning_rate = lr, learning_rate_init=lr_init,\n",
    "                   max_iter=epochs, random_state=19).fit(X_train_ifeatures, y_train_ifeatures)"
   ]
  },
  {
   "attachments": {},
   "cell_type": "markdown",
   "metadata": {},
   "source": [
    "• Checking the performance metrics for the training set"
   ]
  },
  {
   "cell_type": "code",
   "execution_count": 2075,
   "metadata": {},
   "outputs": [
    {
     "name": "stdout",
     "output_type": "stream",
     "text": [
      "Performance Score of the Training Set:\n",
      "Precision Score: 0.9401238816242258\n",
      "Recall Score: 0.8344532681734881\n",
      "F1 Score: 0.8903071719627673\n",
      "binary F1 Score: 0.8841423948220065\n"
     ]
    }
   ],
   "source": [
    "# Predicting the target classes for training set \n",
    "y_train_ifpredicts = binary_class_nn1.predict(X_train_ifeatures)\n",
    "\n",
    "# Checking the performance metrics for the training set\n",
    "print('Performance Score of the Training Set:') \n",
    "print('Precision Score:', precision_score(y_train_ifeatures, y_train_ifpredicts))\n",
    "print('Recall Score:', recall_score(y_train_ifeatures, y_train_ifpredicts))\n",
    "print('F1 Score:', f1_score(y_train_ifeatures, y_train_ifpredicts, average='weighted'))\n",
    "print('binary F1 Score:', f1_score(y_train_ifeatures, y_train_ifpredicts, average='binary'))\n"
   ]
  },
  {
   "cell_type": "code",
   "execution_count": 2076,
   "metadata": {},
   "outputs": [
    {
     "data": {
      "text/plain": [
       "<sklearn.metrics._plot.confusion_matrix.ConfusionMatrixDisplay at 0x776463dc0>"
      ]
     },
     "execution_count": 2076,
     "metadata": {},
     "output_type": "execute_result"
    },
    {
     "data": {
      "image/png": "[encoded data removed]",
      "text/plain": [
       "<Figure size 640x480 with 2 Axes>"
      ]
     },
     "metadata": {},
     "output_type": "display_data"
    }
   ],
   "source": [
    "# Displaying confusion matrix for validation set\n",
    "ConfusionMatrixDisplay.from_predictions(y_validate_ifeatures, y_validate_ifpredicts, normalize='true', cmap='Blues')"
   ]
  },
  {
   "attachments": {},
   "cell_type": "markdown",
   "metadata": {},
   "source": [
    "• Checking the performance metrics for the validation set"
   ]
  },
  {
   "cell_type": "code",
   "execution_count": 2077,
   "metadata": {},
   "outputs": [
    {
     "name": "stdout",
     "output_type": "stream",
     "text": [
      "Performance Score of the Validation Set:\n",
      "Precision Score: 0.921015514809591\n",
      "Recall Score: 0.7973137973137974\n",
      "F1 Score: 0.8638548767776487\n",
      "binary F1 Score: 0.8547120418848169\n"
     ]
    }
   ],
   "source": [
    "# Predicting the target classes for validation set \n",
    "y_validate_ifpredicts = binary_class_nn1.predict(X_validate_ifeatures)\n",
    "\n",
    "# Checking the performance metrics for the validation set\n",
    "print('Performance Score of the Validation Set:') \n",
    "print('Precision Score:', precision_score(y_validate_ifeatures, y_validate_ifpredicts))\n",
    "print('Recall Score:', recall_score(y_validate_ifeatures, y_validate_ifpredicts))\n",
    "print('F1 Score:', f1_score(y_validate_ifeatures, y_validate_ifpredicts, average='weighted'))\n",
    "print('binary F1 Score:', f1_score(y_validate_ifeatures, y_validate_ifpredicts, average='binary'))"
   ]
  },
  {
   "cell_type": "code",
   "execution_count": 2078,
   "metadata": {},
   "outputs": [
    {
     "data": {
      "text/plain": [
       "<sklearn.metrics._plot.confusion_matrix.ConfusionMatrixDisplay at 0x776527a60>"
      ]
     },
     "execution_count": 2078,
     "metadata": {},
     "output_type": "execute_result"
    },
    {
     "data": {
      "image/png": "[encoded data removed]",
      "text/plain": [
       "<Figure size 640x480 with 2 Axes>"
      ]
     },
     "metadata": {},
     "output_type": "display_data"
    }
   ],
   "source": [
    "# Displaying confusion matrix for validation set\n",
    "ConfusionMatrixDisplay.from_predictions(y_validate_ifeatures, y_validate_ifpredicts, normalize='true', cmap='Blues')"
   ]
  },
  {
   "attachments": {},
   "cell_type": "markdown",
   "metadata": {},
   "source": [
    "• Changing the value of the hyperparameter"
   ]
  },
  {
   "cell_type": "code",
   "execution_count": 2079,
   "metadata": {},
   "outputs": [],
   "source": [
    "# Changing the value of hidden_layers = [512]\n",
    "hidden_layers = [512]"
   ]
  },
  {
   "cell_type": "code",
   "execution_count": 2080,
   "metadata": {},
   "outputs": [
    {
     "name": "stderr",
     "output_type": "stream",
     "text": [
      "/usr/local/lib/python3.10/site-packages/sklearn/neural_network/_multilayer_perceptron.py:686: ConvergenceWarning: Stochastic Optimizer: Maximum iterations (10) reached and the optimization hasn't converged yet.\n",
      "  warnings.warn(\n"
     ]
    }
   ],
   "source": [
    "# Creating the object of MLPClassifier with above defined hyperparameters\n",
    "binary_class_nn2 = MLPClassifier(hidden_layer_sizes=hidden_layers, batch_size=batch_size,\n",
    "                   activation=hidden_activation, solver=solver_algo,  \n",
    "                   learning_rate = lr, learning_rate_init=lr_init,\n",
    "                   max_iter=epochs, random_state=19).fit(X_train_ifeatures, y_train_ifeatures)"
   ]
  },
  {
   "attachments": {},
   "cell_type": "markdown",
   "metadata": {},
   "source": [
    "• Checking the performance metrics for the training set"
   ]
  },
  {
   "cell_type": "code",
   "execution_count": 2081,
   "metadata": {},
   "outputs": [
    {
     "name": "stdout",
     "output_type": "stream",
     "text": [
      "Performance Score of the Training Set:\n",
      "Precision Score: 0.9420541290770298\n",
      "Recall Score: 0.8292608430054978\n",
      "F1 Score: 0.8887276628972367\n",
      "binary F1 Score: 0.8820662768031189\n"
     ]
    }
   ],
   "source": [
    "# Predicting the target classes for training set \n",
    "y_train_ifpredicts = binary_class_nn2.predict(X_train_ifeatures)\n",
    "\n",
    "# Checking the performance metrics for the training set\n",
    "print('Performance Score of the Training Set:') \n",
    "print('Precision Score:', precision_score(y_train_ifeatures, y_train_ifpredicts))\n",
    "print('Recall Score:', recall_score(y_train_ifeatures, y_train_ifpredicts))\n",
    "print('F1 Score:', f1_score(y_train_ifeatures, y_train_ifpredicts, average='weighted'))\n",
    "print('binary F1 Score:', f1_score(y_train_ifeatures, y_train_ifpredicts, average='binary'))"
   ]
  },
  {
   "cell_type": "code",
   "execution_count": 2082,
   "metadata": {},
   "outputs": [
    {
     "data": {
      "text/plain": [
       "<sklearn.metrics._plot.confusion_matrix.ConfusionMatrixDisplay at 0x7763dc700>"
      ]
     },
     "execution_count": 2082,
     "metadata": {},
     "output_type": "execute_result"
    },
    {
     "data": {
      "image/png": "[encoded data removed]",
      "text/plain": [
       "<Figure size 640x480 with 2 Axes>"
      ]
     },
     "metadata": {},
     "output_type": "display_data"
    }
   ],
   "source": [
    "# Displaying confusion matrix for training set\n",
    "ConfusionMatrixDisplay.from_predictions(y_train_ifeatures, y_train_ifpredicts, normalize='true', cmap='Blues')"
   ]
  },
  {
   "attachments": {},
   "cell_type": "markdown",
   "metadata": {},
   "source": [
    "• Checking the performance metrics for the validation set"
   ]
  },
  {
   "cell_type": "code",
   "execution_count": 2083,
   "metadata": {},
   "outputs": [
    {
     "name": "stdout",
     "output_type": "stream",
     "text": [
      "Performance Score of the Validation Set:\n",
      "Precision Score: 0.9256080114449213\n",
      "Recall Score: 0.78998778998779\n",
      "F1 Score: 0.8625099488729108\n",
      "binary F1 Score: 0.8524374176548088\n"
     ]
    }
   ],
   "source": [
    "# Predicting the target classes for validation set \n",
    "y_validate_ifpredicts = binary_class_nn2.predict(X_validate_ifeatures)\n",
    "\n",
    "# Checking the performance metrics for the validation set\n",
    "print('Performance Score of the Validation Set:') \n",
    "print('Precision Score:', precision_score(y_validate_ifeatures, y_validate_ifpredicts))\n",
    "print('Recall Score:', recall_score(y_validate_ifeatures, y_validate_ifpredicts))\n",
    "print('F1 Score:', f1_score(y_validate_ifeatures, y_validate_ifpredicts, average='weighted'))\n",
    "print('binary F1 Score:', f1_score(y_validate_ifeatures, y_validate_ifpredicts, average='binary'))"
   ]
  },
  {
   "cell_type": "code",
   "execution_count": 2084,
   "metadata": {},
   "outputs": [
    {
     "data": {
      "text/plain": [
       "<sklearn.metrics._plot.confusion_matrix.ConfusionMatrixDisplay at 0x38080f730>"
      ]
     },
     "execution_count": 2084,
     "metadata": {},
     "output_type": "execute_result"
    },
    {
     "data": {
      "image/png": "[encoded data removed]",
      "text/plain": [
       "<Figure size 640x480 with 2 Axes>"
      ]
     },
     "metadata": {},
     "output_type": "display_data"
    }
   ],
   "source": [
    "# Displaying confusion matrix for validation set\n",
    "ConfusionMatrixDisplay.from_predictions(y_validate_ifeatures, y_validate_ifpredicts, normalize='true', cmap='Blues')"
   ]
  },
  {
   "attachments": {},
   "cell_type": "markdown",
   "metadata": {},
   "source": [
    "• Changing the value of the hyperparameter"
   ]
  },
  {
   "cell_type": "code",
   "execution_count": 2085,
   "metadata": {},
   "outputs": [],
   "source": [
    "# Changing the value of epochs = 15\n",
    "lr_init = 0.0001"
   ]
  },
  {
   "cell_type": "code",
   "execution_count": 2086,
   "metadata": {},
   "outputs": [
    {
     "name": "stderr",
     "output_type": "stream",
     "text": [
      "/usr/local/lib/python3.10/site-packages/sklearn/neural_network/_multilayer_perceptron.py:686: ConvergenceWarning: Stochastic Optimizer: Maximum iterations (10) reached and the optimization hasn't converged yet.\n",
      "  warnings.warn(\n"
     ]
    }
   ],
   "source": [
    "# Creating the object of MLPClassifier with above defined hyperparameters\n",
    "binary_class_nn3 = MLPClassifier(hidden_layer_sizes=hidden_layers, batch_size=batch_size,\n",
    "                   activation=hidden_activation, solver=solver_algo,  \n",
    "                   learning_rate = lr, learning_rate_init=lr_init,\n",
    "                   max_iter=epochs, random_state=19).fit(X_train_ifeatures, y_train_ifeatures)"
   ]
  },
  {
   "attachments": {},
   "cell_type": "markdown",
   "metadata": {},
   "source": [
    "• Checking the performance metrics for the training set"
   ]
  },
  {
   "cell_type": "code",
   "execution_count": 2087,
   "metadata": {},
   "outputs": [
    {
     "name": "stdout",
     "output_type": "stream",
     "text": [
      "Performance Score of the Training Set:\n",
      "Precision Score: 0.9147788565264293\n",
      "Recall Score: 0.7770311545510079\n",
      "F1 Score: 0.8514794143679623\n",
      "binary F1 Score: 0.8402972749793559\n"
     ]
    }
   ],
   "source": [
    "# Predicting the target classes for training set \n",
    "y_train_ifpredicts = binary_class_nn3.predict(X_train_ifeatures)\n",
    "\n",
    "# Checking the performance metrics for the training set\n",
    "print('Performance Score of the Training Set:') \n",
    "print('Precision Score:', precision_score(y_train_ifeatures, y_train_ifpredicts))\n",
    "print('Recall Score:', recall_score(y_train_ifeatures, y_train_ifpredicts))\n",
    "print('F1 Score:', f1_score(y_train_ifeatures, y_train_ifpredicts, average='weighted'))\n",
    "print('binary F1 Score:', f1_score(y_train_ifeatures, y_train_ifpredicts, average='binary'))"
   ]
  },
  {
   "cell_type": "code",
   "execution_count": 2088,
   "metadata": {},
   "outputs": [
    {
     "data": {
      "text/plain": [
       "<sklearn.metrics._plot.confusion_matrix.ConfusionMatrixDisplay at 0x653376320>"
      ]
     },
     "execution_count": 2088,
     "metadata": {},
     "output_type": "execute_result"
    },
    {
     "data": {
      "image/png": "[encoded data removed]",
      "text/plain": [
       "<Figure size 640x480 with 2 Axes>"
      ]
     },
     "metadata": {},
     "output_type": "display_data"
    }
   ],
   "source": [
    "# Displaying confusion matrix for training set\n",
    "ConfusionMatrixDisplay.from_predictions(y_train_ifeatures, y_train_ifpredicts, normalize='true', cmap='Blues')"
   ]
  },
  {
   "attachments": {},
   "cell_type": "markdown",
   "metadata": {},
   "source": [
    "• Checking the performance metrics for the validation set"
   ]
  },
  {
   "cell_type": "code",
   "execution_count": 2089,
   "metadata": {},
   "outputs": [
    {
     "name": "stdout",
     "output_type": "stream",
     "text": [
      "Performance Score of the Validation Set:\n",
      "Precision Score: 0.9158050221565731\n",
      "Recall Score: 0.757020757020757\n",
      "F1 Score: 0.8425283903142462\n",
      "binary F1 Score: 0.8288770053475936\n"
     ]
    }
   ],
   "source": [
    "# Predicting the target classes for validation set \n",
    "y_validate_ifpredicts = binary_class_nn3.predict(X_validate_ifeatures)\n",
    "\n",
    "# Checking the performance metrics for the validation set\n",
    "print('Performance Score of the Validation Set:') \n",
    "print('Precision Score:', precision_score(y_validate_ifeatures, y_validate_ifpredicts))\n",
    "print('Recall Score:', recall_score(y_validate_ifeatures, y_validate_ifpredicts))\n",
    "print('F1 Score:', f1_score(y_validate_ifeatures, y_validate_ifpredicts, average='weighted'))\n",
    "print('binary F1 Score:', f1_score(y_validate_ifeatures, y_validate_ifpredicts, average='binary'))"
   ]
  },
  {
   "cell_type": "code",
   "execution_count": 2090,
   "metadata": {},
   "outputs": [
    {
     "data": {
      "text/plain": [
       "<sklearn.metrics._plot.confusion_matrix.ConfusionMatrixDisplay at 0x653375d80>"
      ]
     },
     "execution_count": 2090,
     "metadata": {},
     "output_type": "execute_result"
    },
    {
     "data": {
      "image/png": "[encoded data removed]",
      "text/plain": [
       "<Figure size 640x480 with 2 Axes>"
      ]
     },
     "metadata": {},
     "output_type": "display_data"
    }
   ],
   "source": [
    "# Displaying confusion matrix for validation set\n",
    "ConfusionMatrixDisplay.from_predictions(y_validate_ifeatures, y_validate_ifpredicts, normalize='true', cmap='Blues')"
   ]
  },
  {
   "attachments": {},
   "cell_type": "markdown",
   "metadata": {},
   "source": [
    "### 5. Model Evaluation\n",
    "\n",
    "#### 5.1] Analysing Model Performance\n",
    "\n",
    "• Checking the performance of the model on the testing set"
   ]
  },
  {
   "cell_type": "code",
   "execution_count": 2093,
   "metadata": {},
   "outputs": [
    {
     "name": "stdout",
     "output_type": "stream",
     "text": [
      "Performance Score of the Testing Set:\n",
      "Precision Score: 0.01063174334799616\n",
      "Recall Score: 0.7885228480340064\n",
      "F1 Score: 0.9565767133995358\n",
      "binary F1 Score: 0.020980602838884806\n"
     ]
    }
   ],
   "source": [
    "# Predicting the target classes for testing set \n",
    "y_test_ifpredicts = binary_class_nn.predict(X_test_ifeatures)\n",
    "\n",
    "# Checking the performance metrics for the testing set\n",
    "print('Performance Score of the Testing Set:') \n",
    "print('Precision Score:', precision_score(y_test_ifeatures, y_test_ifpredicts))\n",
    "print('Recall Score:', recall_score(y_test_ifeatures, y_test_ifpredicts))\n",
    "print('F1 Score:', f1_score(y_test_ifeatures, y_test_ifpredicts, average='weighted'))\n",
    "print('binary F1 Score:', f1_score(y_test_ifeatures, y_test_ifpredicts, average='binary'))"
   ]
  },
  {
   "cell_type": "code",
   "execution_count": 2094,
   "metadata": {},
   "outputs": [
    {
     "data": {
      "text/plain": [
       "<sklearn.metrics._plot.confusion_matrix.ConfusionMatrixDisplay at 0x5a90666e0>"
      ]
     },
     "execution_count": 2094,
     "metadata": {},
     "output_type": "execute_result"
    },
    {
     "data": {
      "image/png": "[encoded data removed]",
      "text/plain": [
       "<Figure size 640x480 with 2 Axes>"
      ]
     },
     "metadata": {},
     "output_type": "display_data"
    }
   ],
   "source": [
    "# Displaying confusion matrix for testing set\n",
    "ConfusionMatrixDisplay.from_predictions(y_test_ifeatures, y_test_ifpredicts, normalize='true', cmap='Blues')"
   ]
  },
  {
   "attachments": {},
   "cell_type": "markdown",
   "metadata": {},
   "source": [
    "##### Results\n",
    "\n",
    "- Considering the performance metrics of all the exercises, the first MLPClassifier model is used to evaluate the performance on the testing set.\n",
    "\n",
    "-\tThe MLPClassifier Neural Network model trained with important features exhibits varying performance with a weighted F1 score of 86% on the training set, 85% on the validation set, and 95% on the testing set. This suggests that the model's performance is not consistent, indicating that it may not have generalized well enough to accurately detect potentially fraudulent activities in unseen data.\n",
    "\n",
    "-\tThe binary F1 score for classifying positive class instances is 86% for training and 84% for validation. However, there is a significant drop in the score to 0.0209% for testing, indicating a potential issue of overfitting (also from the training and validation scores) and highlighting the impact of class imbalance in the target classes.\n",
    "-\tThe Recall score of 81% on training is slightly higher than the 79% on validation and 78% on the testing set, indicating that the model quite consistently identifies a higher proportion of fraudulent transactions but this score is lower as compared to the classification model from the 2nd experiment.\n",
    "\n",
    "-\tAdditionally, from the confusion matrix, the rate of False Negative errors, with 19% for training, 21% for validation and 21% is higher as compared to the False negative error rate of the model from experiment 2nd indicating that the MLPClassifier model is misclassifying a significant amount of fraudulent transactions as legitimate which might lead to financial losses and loss in customer’s trust.\n",
    "\n",
    "-\tThe rate of False Positive errors that denotes misclassifying legitimate transactions as fraudulent, resulted in 0.074% for training, 0.078% for validation and 0.081% is also higher in comparison to the model from 2nd experiment."
   ]
  },
  {
   "attachments": {},
   "cell_type": "markdown",
   "metadata": {},
   "source": [
    "#### Deployment Suggestion\n",
    "\n",
    "Based on the business objective of accurately classifying transactions as fraudulent and legitimate, and considering the performance scores from the model, it can be concluded that the Random Forest Model from the second experiment demonstrates superior performance.\n",
    "\n",
    "With the capabilities of this model, combined with additional monitoring methods such as auditing or scrutiny by domain experts, the team could efficiently detect, manage, and mitigate instances of fraudulent transactions.\n",
    "\n",
    "With this model deployed to identify fraudulent transactions, the bank can take appropriate actions in real-time, such as blocking the transaction, notifying the customer, or launching an investigation. The compliance team can then use the classifications generated by the model as an additional tool to aid their decision-making process and improve the bank's overall fraud detection capabilities.\n",
    "\n",
    "Thus, the classification problem is crucial for preventing financial losses and maintaining the trust and security of the bank's customers.\n"
   ]
  }
 ],
 "metadata": {
  "kernelspec": {
   "display_name": "Python 3",
   "language": "python",
   "name": "python3"
  },
  "language_info": {
   "codemirror_mode": {
    "name": "ipython",
    "version": 3
   },
   "file_extension": ".py",
   "mimetype": "text/x-python",
   "name": "python",
   "nbconvert_exporter": "python",
   "pygments_lexer": "ipython3",
   "version": "3.10.10"
  },
  "orig_nbformat": 4
 },
 "nbformat": 4,
 "nbformat_minor": 2
}
